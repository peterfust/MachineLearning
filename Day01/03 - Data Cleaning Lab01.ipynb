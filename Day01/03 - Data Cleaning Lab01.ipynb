{
 "cells": [
  {
   "cell_type": "markdown",
   "metadata": {
    "id": "H8fDg0Zyh3D8"
   },
   "source": [
    "# Lab 01 Data Cleaning and Exploration"
   ]
  },
  {
   "cell_type": "markdown",
   "metadata": {
    "id": "Y20uIgmUh9D_"
   },
   "source": [
    "In this Lab, we will work with official COVID19 case data published by the Swiss government. The data can be found [here](https://github.com/openZH/covid_19/tree/master#swiss-cantons-and-principality-of-liechtenstein-unified-dataset).\n",
    "\n",
    "It has been partially adapted from [this](https://datagy.io/pandas-data-cleaning/) tutorial."
   ]
  },
  {
   "cell_type": "markdown",
   "metadata": {
    "id": "70M0L7qqdFpX"
   },
   "source": [
    "**Note:** We will mark your tasks with 🚨 emoji. In this lab the first such task will appear relatively late."
   ]
  },
  {
   "cell_type": "markdown",
   "metadata": {
    "id": "su744hkOjT_q"
   },
   "source": [
    "## Fetching the Raw Data"
   ]
  },
  {
   "cell_type": "markdown",
   "metadata": {
    "id": "rmHEwCJWiS1p"
   },
   "source": [
    "First, we will load the raw data. The data should be saved as `swiss_covid_data.csv` in your current working directory. "
   ]
  },
  {
   "cell_type": "markdown",
   "metadata": {
    "id": "laWhb0nSinz-"
   },
   "source": [
    "Next, we try to inspect the downloaded data to get an understanding of its format. The command below will display the first 6 lines of the downloaded file.\n",
    "\n",
    "Even though `.csv` stands for \"comma separated values\", often times people distribute `.csv` files with different separator characters. In this case, everything seems to be in order."
   ]
  },
  {
   "cell_type": "code",
   "execution_count": 1,
   "metadata": {
    "id": "fl5ISREjhhCG",
    "ExecuteTime": {
     "end_time": "2024-02-22T16:14:26.793087Z",
     "start_time": "2024-02-22T16:14:26.661426Z"
    }
   },
   "outputs": [
    {
     "name": "stdout",
     "output_type": "stream",
     "text": [
      "date,time,abbreviation_canton_and_fl,ncumul_tested,ncumul_conf,new_hosp,current_hosp,current_icu,current_vent,ncumul_released,ncumul_deceased,source,current_isolated,current_quarantined,current_quarantined_riskareatravel,current_quarantined_total\r\n",
      "2020-02-01,00:00,GE,109,0,,,,,,0,https://infocovid.smc.unige.ch/,1,0,0\r\n",
      "2020-02-02,00:00,GE,115,0,,,,,,0,https://infocovid.smc.unige.ch/,1,0,0\r\n",
      "2020-02-03,00:00,GE,136,0,,,,,,0,https://infocovid.smc.unige.ch/,1,0,0\r\n",
      "2020-02-04,00:00,GE,156,0,,,,,,0,https://infocovid.smc.unige.ch/,1,0,0\r\n",
      "2020-02-05,00:00,GE,169,0,,,,,,0,https://infocovid.smc.unige.ch/,1,0,0\r\n"
     ]
    }
   ],
   "source": [
    "!head -n 6 swiss_covid_data.csv"
   ]
  },
  {
   "cell_type": "markdown",
   "metadata": {
    "id": "o_qtzlLwjbHB"
   },
   "source": [
    "In this lab, we will use the `pandas` library to analyze and clean this dataset. This library is particularly well suited to work with tabular data."
   ]
  },
  {
   "cell_type": "code",
   "execution_count": 3,
   "metadata": {
    "id": "5rhts6vUjvr-",
    "ExecuteTime": {
     "end_time": "2024-02-22T16:17:22.418704Z",
     "start_time": "2024-02-22T16:17:22.404080Z"
    }
   },
   "outputs": [],
   "source": [
    "import pandas as pd  # we import the library with the short-name `pd`, a convention you will find everywhere online"
   ]
  },
  {
   "cell_type": "markdown",
   "metadata": {
    "id": "ZF8FUL2ykCVw"
   },
   "source": [
    "Next, we will read the dataset:"
   ]
  },
  {
   "cell_type": "code",
   "execution_count": 4,
   "metadata": {
    "id": "outDL0D6j8a-",
    "ExecuteTime": {
     "end_time": "2024-02-22T16:17:31.541939Z",
     "start_time": "2024-02-22T16:17:31.502240Z"
    }
   },
   "outputs": [],
   "source": [
    "covid_data = pd.read_csv('swiss_covid_data.csv')"
   ]
  },
  {
   "cell_type": "markdown",
   "metadata": {
    "id": "6Fa2BO75kiSD"
   },
   "source": [
    "Note that if you ever work with a `.csv` that does not include the column names in the first line, or has a different separating character, you can specify these in `pd.read_csv` with the `sep` and `header` keyword arguments. For more options, you can refer to the [documentation](https://pandas.pydata.org/pandas-docs/stable/reference/api/pandas.read_csv.html)."
   ]
  },
  {
   "cell_type": "markdown",
   "metadata": {
    "id": "woOoUG7ClWCp"
   },
   "source": [
    "The data is loaded as a `pd.Dataframe` which exposes many useful methods for this lab."
   ]
  },
  {
   "cell_type": "markdown",
   "source": [
    "## Inspecting the Data"
   ],
   "metadata": {
    "collapsed": false
   }
  },
  {
   "cell_type": "markdown",
   "metadata": {
    "id": "SxN_DAo0loVg"
   },
   "source": [
    "We can use the `.head()` method to get a quick idea of the kind of data we are dealing with. It will return the first `n=5` rows of the dataframe."
   ]
  },
  {
   "cell_type": "code",
   "execution_count": 5,
   "metadata": {
    "id": "fjO63aUolo8v",
    "ExecuteTime": {
     "end_time": "2024-02-22T16:18:57.713572Z",
     "start_time": "2024-02-22T16:18:57.702724Z"
    }
   },
   "outputs": [
    {
     "data": {
      "text/plain": "         date   time abbreviation_canton_and_fl  ncumul_tested  ncumul_conf  \\\n0  2020-02-01  00:00                         GE          109.0          0.0   \n1  2020-02-02  00:00                         GE          115.0          0.0   \n2  2020-02-03  00:00                         GE          136.0          0.0   \n3  2020-02-04  00:00                         GE          156.0          0.0   \n4  2020-02-05  00:00                         GE          169.0          0.0   \n\n   new_hosp  current_hosp  current_icu  current_vent  ncumul_released  \\\n0       NaN           NaN          NaN           NaN              NaN   \n1       NaN           NaN          NaN           NaN              NaN   \n2       NaN           NaN          NaN           NaN              NaN   \n3       NaN           NaN          NaN           NaN              NaN   \n4       NaN           NaN          NaN           NaN              NaN   \n\n   ncumul_deceased                           source  current_isolated  \\\n0              0.0  https://infocovid.smc.unige.ch/               1.0   \n1              0.0  https://infocovid.smc.unige.ch/               1.0   \n2              0.0  https://infocovid.smc.unige.ch/               1.0   \n3              0.0  https://infocovid.smc.unige.ch/               1.0   \n4              0.0  https://infocovid.smc.unige.ch/               1.0   \n\n   current_quarantined  current_quarantined_riskareatravel  \\\n0                  0.0                                 0.0   \n1                  0.0                                 0.0   \n2                  0.0                                 0.0   \n3                  0.0                                 0.0   \n4                  0.0                                 0.0   \n\n   current_quarantined_total  \n0                        NaN  \n1                        NaN  \n2                        NaN  \n3                        NaN  \n4                        NaN  ",
      "text/html": "<div>\n<style scoped>\n    .dataframe tbody tr th:only-of-type {\n        vertical-align: middle;\n    }\n\n    .dataframe tbody tr th {\n        vertical-align: top;\n    }\n\n    .dataframe thead th {\n        text-align: right;\n    }\n</style>\n<table border=\"1\" class=\"dataframe\">\n  <thead>\n    <tr style=\"text-align: right;\">\n      <th></th>\n      <th>date</th>\n      <th>time</th>\n      <th>abbreviation_canton_and_fl</th>\n      <th>ncumul_tested</th>\n      <th>ncumul_conf</th>\n      <th>new_hosp</th>\n      <th>current_hosp</th>\n      <th>current_icu</th>\n      <th>current_vent</th>\n      <th>ncumul_released</th>\n      <th>ncumul_deceased</th>\n      <th>source</th>\n      <th>current_isolated</th>\n      <th>current_quarantined</th>\n      <th>current_quarantined_riskareatravel</th>\n      <th>current_quarantined_total</th>\n    </tr>\n  </thead>\n  <tbody>\n    <tr>\n      <th>0</th>\n      <td>2020-02-01</td>\n      <td>00:00</td>\n      <td>GE</td>\n      <td>109.0</td>\n      <td>0.0</td>\n      <td>NaN</td>\n      <td>NaN</td>\n      <td>NaN</td>\n      <td>NaN</td>\n      <td>NaN</td>\n      <td>0.0</td>\n      <td>https://infocovid.smc.unige.ch/</td>\n      <td>1.0</td>\n      <td>0.0</td>\n      <td>0.0</td>\n      <td>NaN</td>\n    </tr>\n    <tr>\n      <th>1</th>\n      <td>2020-02-02</td>\n      <td>00:00</td>\n      <td>GE</td>\n      <td>115.0</td>\n      <td>0.0</td>\n      <td>NaN</td>\n      <td>NaN</td>\n      <td>NaN</td>\n      <td>NaN</td>\n      <td>NaN</td>\n      <td>0.0</td>\n      <td>https://infocovid.smc.unige.ch/</td>\n      <td>1.0</td>\n      <td>0.0</td>\n      <td>0.0</td>\n      <td>NaN</td>\n    </tr>\n    <tr>\n      <th>2</th>\n      <td>2020-02-03</td>\n      <td>00:00</td>\n      <td>GE</td>\n      <td>136.0</td>\n      <td>0.0</td>\n      <td>NaN</td>\n      <td>NaN</td>\n      <td>NaN</td>\n      <td>NaN</td>\n      <td>NaN</td>\n      <td>0.0</td>\n      <td>https://infocovid.smc.unige.ch/</td>\n      <td>1.0</td>\n      <td>0.0</td>\n      <td>0.0</td>\n      <td>NaN</td>\n    </tr>\n    <tr>\n      <th>3</th>\n      <td>2020-02-04</td>\n      <td>00:00</td>\n      <td>GE</td>\n      <td>156.0</td>\n      <td>0.0</td>\n      <td>NaN</td>\n      <td>NaN</td>\n      <td>NaN</td>\n      <td>NaN</td>\n      <td>NaN</td>\n      <td>0.0</td>\n      <td>https://infocovid.smc.unige.ch/</td>\n      <td>1.0</td>\n      <td>0.0</td>\n      <td>0.0</td>\n      <td>NaN</td>\n    </tr>\n    <tr>\n      <th>4</th>\n      <td>2020-02-05</td>\n      <td>00:00</td>\n      <td>GE</td>\n      <td>169.0</td>\n      <td>0.0</td>\n      <td>NaN</td>\n      <td>NaN</td>\n      <td>NaN</td>\n      <td>NaN</td>\n      <td>NaN</td>\n      <td>0.0</td>\n      <td>https://infocovid.smc.unige.ch/</td>\n      <td>1.0</td>\n      <td>0.0</td>\n      <td>0.0</td>\n      <td>NaN</td>\n    </tr>\n  </tbody>\n</table>\n</div>"
     },
     "execution_count": 5,
     "metadata": {},
     "output_type": "execute_result"
    }
   ],
   "source": [
    "covid_data.head()"
   ]
  },
  {
   "cell_type": "markdown",
   "metadata": {
    "id": "p-oFMdinsYxw"
   },
   "source": [
    "Next, it is important to get a good sense what the different columns represent. Some of them have intuitive names, such as `date` and `time`, but names like `ncumul_conf` can be inscrutable."
   ]
  },
  {
   "cell_type": "markdown",
   "metadata": {
    "id": "izSwTMH0tAaZ"
   },
   "source": [
    "For convenience, we copied the [data description](https://github.com/openZH/covid_19/blob/master/README.md#swiss-cantons-and-principality-of-liechtenstein-unified-dataset) below.\n",
    "Be sure to study it carefully. Understanding the meaning of the data you are working with is crucial when deciding how to deal with missing values and other aspect of data cleanup!"
   ]
  },
  {
   "cell_type": "markdown",
   "metadata": {
    "id": "spjSOwUWsng4"
   },
   "source": [
    "\n",
    "**Metadata**\n",
    "\n",
    "| Field Name          | Description                                | Format     | Note |\n",
    "|---------------------|--------------------------------------------|------------|------|\n",
    "| __date__              | Date of notification                       | YYYY-MM-DD | |\n",
    "| __time__                 | Time of notification                       | HH:MM      | |\n",
    "| __abbreviation_canton_and_fl__  | Abbreviation of the reporting canton       | Text       | |\n",
    "| __ncumul_tested__      | Reported number of tests performed as of date| Number     | Irrespective of canton of residence |\n",
    "| __ncumul_conf__          | Reported number of confirmed cases as of date| Number     | Only cases that reside in the current canton |\n",
    "| __new_hosp__        | new hospitalisations since last date | Number     | Irrespective of canton of residence |\n",
    "| __current_hosp__       | Reported number of hospitalised patients on date | Number     | Irrespective of canton of residence |\n",
    "| __current_icu__       | Reported number of hospitalised patients in ICUs on date| Number     | Irrespective of canton of residence |\n",
    "| __current_vent__        | Reported number of patients requiring invasive ventilation on date | Number     | Irrespective of canton of residence |\n",
    "| __ncumul_released__     |Reported number of patients released from hospitals or reported recovered as of date| Number     | Irrespective of canton of residence |\n",
    "| __ncumul_deceased__     |Reported number of deceased as of date| Number     | Only cases that reside in the current canton |\n",
    "| __source__              | Source of the information                  | href       | |\n",
    "| __current_isolated__       | Reported number of isolated persons on date          | Number       | Infected persons, who are not hospitalised |\n",
    "| __current_quarantined__    | Reported number of quarantined persons on date       | Number       | Persons, who were in 'close contact' with an infected person, while that person was infectious, and are not hospitalised themselves |\n",
    "| __current_quarantined_riskareatravel__    | Reported number of quarantined persons on date       | Number       | People arriving in Switzerland from [certain countries and areas](https://www.bag.admin.ch/bag/en/home/krankheiten/ausbrueche-epidemien-pandemien/aktuelle-ausbrueche-epidemien/novel-cov/empfehlungen-fuer-reisende/quarantaene-einreisende.html), who are required to go into quarantine.  |"
   ]
  },
  {
   "cell_type": "markdown",
   "metadata": {
    "id": "CUNui20Vs2_7"
   },
   "source": [
    "Another useful method to get a quick feel for the data at hand is `.describe()` which produces a table of statistics about the different columns. By default it will only include numeric columns, but you can set `include='all'` to get an overview of all columns. Note that when computing statistics such as the mean, `NaN` values will be ignored."
   ]
  },
  {
   "cell_type": "code",
   "execution_count": 7,
   "metadata": {
    "id": "sYWGO9TflzcD",
    "ExecuteTime": {
     "end_time": "2024-02-22T16:20:48.293697Z",
     "start_time": "2024-02-22T16:20:48.267331Z"
    }
   },
   "outputs": [
    {
     "data": {
      "text/plain": "              date   time abbreviation_canton_and_fl  ncumul_tested  \\\ncount        24041  11507                      24041     263.000000   \nunique        1320    114                         27            NaN   \ntop     2020-07-29  00:00                         GE            NaN   \nfreq            27   3622                       1320            NaN   \nmean           NaN    NaN                        NaN   87064.946768   \nstd            NaN    NaN                        NaN  169095.208224   \nmin            NaN    NaN                        NaN       1.000000   \n25%            NaN    NaN                        NaN    4465.000000   \n50%            NaN    NaN                        NaN   24257.000000   \n75%            NaN    NaN                        NaN   47067.500000   \nmax            NaN    NaN                        NaN  782102.000000   \n\n          ncumul_conf     new_hosp  current_hosp   current_icu  current_vent  \\\ncount    23494.000000  1394.000000  20905.000000  17943.000000   7337.000000   \nunique            NaN          NaN           NaN           NaN           NaN   \ntop               NaN          NaN           NaN           NaN           NaN   \nfreq              NaN          NaN           NaN           NaN           NaN   \nmean     59454.099047     3.806313     47.185889      7.081202      7.768570   \nstd     114625.610981     5.597001     80.293774     12.497653     12.047893   \nmin          0.000000     0.000000      0.000000      0.000000      0.000000   \n25%       2309.250000     0.000000      4.000000      1.000000      0.000000   \n50%      17392.500000     2.000000     17.000000      3.000000      3.000000   \n75%      68330.500000     5.000000     51.000000      7.000000      9.000000   \nmax     803198.000000    53.000000    669.000000    107.000000     79.000000   \n\n        ncumul_released  ncumul_deceased                           source  \\\ncount       7370.000000     21754.000000                            24039   \nunique              NaN              NaN                              339   \ntop                 NaN              NaN  https://infocovid.smc.unige.ch/   \nfreq                NaN              NaN                             1320   \nmean       11700.714247       346.803852                              NaN   \nstd        23160.148621       414.444033                              NaN   \nmin            0.000000         0.000000                              NaN   \n25%          690.000000        47.000000                              NaN   \n50%         2166.500000       178.000000                              NaN   \n75%        11854.000000       495.000000                              NaN   \nmax       183600.000000      1890.000000                              NaN   \n\n        current_isolated  current_quarantined  \\\ncount        9304.000000          8926.000000   \nunique               NaN                  NaN   \ntop                  NaN                  NaN   \nfreq                 NaN                  NaN   \nmean          960.948087           886.834528   \nstd          2338.229884          3864.375585   \nmin             0.000000             0.000000   \n25%            41.000000            28.000000   \n50%           201.000000           128.500000   \n75%           843.250000           542.000000   \nmax         29023.000000        100577.000000   \n\n        current_quarantined_riskareatravel  current_quarantined_total  \ncount                          5130.000000                        0.0  \nunique                                 NaN                        NaN  \ntop                                    NaN                        NaN  \nfreq                                   NaN                        NaN  \nmean                            172.386355                        NaN  \nstd                             400.062536                        NaN  \nmin                               0.000000                        NaN  \n25%                               0.000000                        NaN  \n50%                              13.000000                        NaN  \n75%                             158.000000                        NaN  \nmax                            5980.000000                        NaN  ",
      "text/html": "<div>\n<style scoped>\n    .dataframe tbody tr th:only-of-type {\n        vertical-align: middle;\n    }\n\n    .dataframe tbody tr th {\n        vertical-align: top;\n    }\n\n    .dataframe thead th {\n        text-align: right;\n    }\n</style>\n<table border=\"1\" class=\"dataframe\">\n  <thead>\n    <tr style=\"text-align: right;\">\n      <th></th>\n      <th>date</th>\n      <th>time</th>\n      <th>abbreviation_canton_and_fl</th>\n      <th>ncumul_tested</th>\n      <th>ncumul_conf</th>\n      <th>new_hosp</th>\n      <th>current_hosp</th>\n      <th>current_icu</th>\n      <th>current_vent</th>\n      <th>ncumul_released</th>\n      <th>ncumul_deceased</th>\n      <th>source</th>\n      <th>current_isolated</th>\n      <th>current_quarantined</th>\n      <th>current_quarantined_riskareatravel</th>\n      <th>current_quarantined_total</th>\n    </tr>\n  </thead>\n  <tbody>\n    <tr>\n      <th>count</th>\n      <td>24041</td>\n      <td>11507</td>\n      <td>24041</td>\n      <td>263.000000</td>\n      <td>23494.000000</td>\n      <td>1394.000000</td>\n      <td>20905.000000</td>\n      <td>17943.000000</td>\n      <td>7337.000000</td>\n      <td>7370.000000</td>\n      <td>21754.000000</td>\n      <td>24039</td>\n      <td>9304.000000</td>\n      <td>8926.000000</td>\n      <td>5130.000000</td>\n      <td>0.0</td>\n    </tr>\n    <tr>\n      <th>unique</th>\n      <td>1320</td>\n      <td>114</td>\n      <td>27</td>\n      <td>NaN</td>\n      <td>NaN</td>\n      <td>NaN</td>\n      <td>NaN</td>\n      <td>NaN</td>\n      <td>NaN</td>\n      <td>NaN</td>\n      <td>NaN</td>\n      <td>339</td>\n      <td>NaN</td>\n      <td>NaN</td>\n      <td>NaN</td>\n      <td>NaN</td>\n    </tr>\n    <tr>\n      <th>top</th>\n      <td>2020-07-29</td>\n      <td>00:00</td>\n      <td>GE</td>\n      <td>NaN</td>\n      <td>NaN</td>\n      <td>NaN</td>\n      <td>NaN</td>\n      <td>NaN</td>\n      <td>NaN</td>\n      <td>NaN</td>\n      <td>NaN</td>\n      <td>https://infocovid.smc.unige.ch/</td>\n      <td>NaN</td>\n      <td>NaN</td>\n      <td>NaN</td>\n      <td>NaN</td>\n    </tr>\n    <tr>\n      <th>freq</th>\n      <td>27</td>\n      <td>3622</td>\n      <td>1320</td>\n      <td>NaN</td>\n      <td>NaN</td>\n      <td>NaN</td>\n      <td>NaN</td>\n      <td>NaN</td>\n      <td>NaN</td>\n      <td>NaN</td>\n      <td>NaN</td>\n      <td>1320</td>\n      <td>NaN</td>\n      <td>NaN</td>\n      <td>NaN</td>\n      <td>NaN</td>\n    </tr>\n    <tr>\n      <th>mean</th>\n      <td>NaN</td>\n      <td>NaN</td>\n      <td>NaN</td>\n      <td>87064.946768</td>\n      <td>59454.099047</td>\n      <td>3.806313</td>\n      <td>47.185889</td>\n      <td>7.081202</td>\n      <td>7.768570</td>\n      <td>11700.714247</td>\n      <td>346.803852</td>\n      <td>NaN</td>\n      <td>960.948087</td>\n      <td>886.834528</td>\n      <td>172.386355</td>\n      <td>NaN</td>\n    </tr>\n    <tr>\n      <th>std</th>\n      <td>NaN</td>\n      <td>NaN</td>\n      <td>NaN</td>\n      <td>169095.208224</td>\n      <td>114625.610981</td>\n      <td>5.597001</td>\n      <td>80.293774</td>\n      <td>12.497653</td>\n      <td>12.047893</td>\n      <td>23160.148621</td>\n      <td>414.444033</td>\n      <td>NaN</td>\n      <td>2338.229884</td>\n      <td>3864.375585</td>\n      <td>400.062536</td>\n      <td>NaN</td>\n    </tr>\n    <tr>\n      <th>min</th>\n      <td>NaN</td>\n      <td>NaN</td>\n      <td>NaN</td>\n      <td>1.000000</td>\n      <td>0.000000</td>\n      <td>0.000000</td>\n      <td>0.000000</td>\n      <td>0.000000</td>\n      <td>0.000000</td>\n      <td>0.000000</td>\n      <td>0.000000</td>\n      <td>NaN</td>\n      <td>0.000000</td>\n      <td>0.000000</td>\n      <td>0.000000</td>\n      <td>NaN</td>\n    </tr>\n    <tr>\n      <th>25%</th>\n      <td>NaN</td>\n      <td>NaN</td>\n      <td>NaN</td>\n      <td>4465.000000</td>\n      <td>2309.250000</td>\n      <td>0.000000</td>\n      <td>4.000000</td>\n      <td>1.000000</td>\n      <td>0.000000</td>\n      <td>690.000000</td>\n      <td>47.000000</td>\n      <td>NaN</td>\n      <td>41.000000</td>\n      <td>28.000000</td>\n      <td>0.000000</td>\n      <td>NaN</td>\n    </tr>\n    <tr>\n      <th>50%</th>\n      <td>NaN</td>\n      <td>NaN</td>\n      <td>NaN</td>\n      <td>24257.000000</td>\n      <td>17392.500000</td>\n      <td>2.000000</td>\n      <td>17.000000</td>\n      <td>3.000000</td>\n      <td>3.000000</td>\n      <td>2166.500000</td>\n      <td>178.000000</td>\n      <td>NaN</td>\n      <td>201.000000</td>\n      <td>128.500000</td>\n      <td>13.000000</td>\n      <td>NaN</td>\n    </tr>\n    <tr>\n      <th>75%</th>\n      <td>NaN</td>\n      <td>NaN</td>\n      <td>NaN</td>\n      <td>47067.500000</td>\n      <td>68330.500000</td>\n      <td>5.000000</td>\n      <td>51.000000</td>\n      <td>7.000000</td>\n      <td>9.000000</td>\n      <td>11854.000000</td>\n      <td>495.000000</td>\n      <td>NaN</td>\n      <td>843.250000</td>\n      <td>542.000000</td>\n      <td>158.000000</td>\n      <td>NaN</td>\n    </tr>\n    <tr>\n      <th>max</th>\n      <td>NaN</td>\n      <td>NaN</td>\n      <td>NaN</td>\n      <td>782102.000000</td>\n      <td>803198.000000</td>\n      <td>53.000000</td>\n      <td>669.000000</td>\n      <td>107.000000</td>\n      <td>79.000000</td>\n      <td>183600.000000</td>\n      <td>1890.000000</td>\n      <td>NaN</td>\n      <td>29023.000000</td>\n      <td>100577.000000</td>\n      <td>5980.000000</td>\n      <td>NaN</td>\n    </tr>\n  </tbody>\n</table>\n</div>"
     },
     "execution_count": 7,
     "metadata": {},
     "output_type": "execute_result"
    }
   ],
   "source": [
    "covid_data.describe(include='all')\n",
    "# try setting `include='all'`"
   ]
  },
  {
   "cell_type": "markdown",
   "metadata": {
    "id": "o67juEu03jwS"
   },
   "source": [
    "## Dealing with Missing Values"
   ]
  },
  {
   "cell_type": "markdown",
   "metadata": {
    "id": "BXARtRbm6ZUr"
   },
   "source": [
    "When reading the original `swiss_covid_data.csv` every cell that did not have a value was assigned the value `NaN` (not a number).\n",
    "\n",
    "When we apply the `.isna()` method to our data, every cell of the result will contain a boolean value indicating whether that cell had a `Nan` (or `None` or similar false-y value) in it."
   ]
  },
  {
   "cell_type": "code",
   "execution_count": 8,
   "metadata": {
    "id": "R47RwO2N3muM",
    "ExecuteTime": {
     "end_time": "2024-02-22T16:26:45.851332Z",
     "start_time": "2024-02-22T16:26:45.837114Z"
    }
   },
   "outputs": [
    {
     "data": {
      "text/plain": "        date   time  abbreviation_canton_and_fl  ncumul_tested  ncumul_conf  \\\n0      False  False                       False          False        False   \n1      False  False                       False          False        False   \n2      False  False                       False          False        False   \n3      False  False                       False          False        False   \n4      False  False                       False          False        False   \n...      ...    ...                         ...            ...          ...   \n24036  False   True                       False           True        False   \n24037  False  False                       False           True        False   \n24038  False   True                       False           True        False   \n24039  False  False                       False           True        False   \n24040  False  False                       False           True        False   \n\n       new_hosp  current_hosp  current_icu  current_vent  ncumul_released  \\\n0          True          True         True          True             True   \n1          True          True         True          True             True   \n2          True          True         True          True             True   \n3          True          True         True          True             True   \n4          True          True         True          True             True   \n...         ...           ...          ...           ...              ...   \n24036      True         False         True          True             True   \n24037      True         False        False          True             True   \n24038      True         False         True          True             True   \n24039      True         False        False          True             True   \n24040      True         False        False          True             True   \n\n       ncumul_deceased  source  current_isolated  current_quarantined  \\\n0                False   False             False                False   \n1                False   False             False                False   \n2                False   False             False                False   \n3                False   False             False                False   \n4                False   False             False                False   \n...                ...     ...               ...                  ...   \n24036            False   False              True                 True   \n24037            False   False              True                 True   \n24038            False   False              True                 True   \n24039            False   False              True                 True   \n24040            False   False              True                 True   \n\n       current_quarantined_riskareatravel  current_quarantined_total  \n0                                   False                       True  \n1                                   False                       True  \n2                                   False                       True  \n3                                   False                       True  \n4                                   False                       True  \n...                                   ...                        ...  \n24036                                True                       True  \n24037                                True                       True  \n24038                                True                       True  \n24039                                True                       True  \n24040                                True                       True  \n\n[24041 rows x 16 columns]",
      "text/html": "<div>\n<style scoped>\n    .dataframe tbody tr th:only-of-type {\n        vertical-align: middle;\n    }\n\n    .dataframe tbody tr th {\n        vertical-align: top;\n    }\n\n    .dataframe thead th {\n        text-align: right;\n    }\n</style>\n<table border=\"1\" class=\"dataframe\">\n  <thead>\n    <tr style=\"text-align: right;\">\n      <th></th>\n      <th>date</th>\n      <th>time</th>\n      <th>abbreviation_canton_and_fl</th>\n      <th>ncumul_tested</th>\n      <th>ncumul_conf</th>\n      <th>new_hosp</th>\n      <th>current_hosp</th>\n      <th>current_icu</th>\n      <th>current_vent</th>\n      <th>ncumul_released</th>\n      <th>ncumul_deceased</th>\n      <th>source</th>\n      <th>current_isolated</th>\n      <th>current_quarantined</th>\n      <th>current_quarantined_riskareatravel</th>\n      <th>current_quarantined_total</th>\n    </tr>\n  </thead>\n  <tbody>\n    <tr>\n      <th>0</th>\n      <td>False</td>\n      <td>False</td>\n      <td>False</td>\n      <td>False</td>\n      <td>False</td>\n      <td>True</td>\n      <td>True</td>\n      <td>True</td>\n      <td>True</td>\n      <td>True</td>\n      <td>False</td>\n      <td>False</td>\n      <td>False</td>\n      <td>False</td>\n      <td>False</td>\n      <td>True</td>\n    </tr>\n    <tr>\n      <th>1</th>\n      <td>False</td>\n      <td>False</td>\n      <td>False</td>\n      <td>False</td>\n      <td>False</td>\n      <td>True</td>\n      <td>True</td>\n      <td>True</td>\n      <td>True</td>\n      <td>True</td>\n      <td>False</td>\n      <td>False</td>\n      <td>False</td>\n      <td>False</td>\n      <td>False</td>\n      <td>True</td>\n    </tr>\n    <tr>\n      <th>2</th>\n      <td>False</td>\n      <td>False</td>\n      <td>False</td>\n      <td>False</td>\n      <td>False</td>\n      <td>True</td>\n      <td>True</td>\n      <td>True</td>\n      <td>True</td>\n      <td>True</td>\n      <td>False</td>\n      <td>False</td>\n      <td>False</td>\n      <td>False</td>\n      <td>False</td>\n      <td>True</td>\n    </tr>\n    <tr>\n      <th>3</th>\n      <td>False</td>\n      <td>False</td>\n      <td>False</td>\n      <td>False</td>\n      <td>False</td>\n      <td>True</td>\n      <td>True</td>\n      <td>True</td>\n      <td>True</td>\n      <td>True</td>\n      <td>False</td>\n      <td>False</td>\n      <td>False</td>\n      <td>False</td>\n      <td>False</td>\n      <td>True</td>\n    </tr>\n    <tr>\n      <th>4</th>\n      <td>False</td>\n      <td>False</td>\n      <td>False</td>\n      <td>False</td>\n      <td>False</td>\n      <td>True</td>\n      <td>True</td>\n      <td>True</td>\n      <td>True</td>\n      <td>True</td>\n      <td>False</td>\n      <td>False</td>\n      <td>False</td>\n      <td>False</td>\n      <td>False</td>\n      <td>True</td>\n    </tr>\n    <tr>\n      <th>...</th>\n      <td>...</td>\n      <td>...</td>\n      <td>...</td>\n      <td>...</td>\n      <td>...</td>\n      <td>...</td>\n      <td>...</td>\n      <td>...</td>\n      <td>...</td>\n      <td>...</td>\n      <td>...</td>\n      <td>...</td>\n      <td>...</td>\n      <td>...</td>\n      <td>...</td>\n      <td>...</td>\n    </tr>\n    <tr>\n      <th>24036</th>\n      <td>False</td>\n      <td>True</td>\n      <td>False</td>\n      <td>True</td>\n      <td>False</td>\n      <td>True</td>\n      <td>False</td>\n      <td>True</td>\n      <td>True</td>\n      <td>True</td>\n      <td>False</td>\n      <td>False</td>\n      <td>True</td>\n      <td>True</td>\n      <td>True</td>\n      <td>True</td>\n    </tr>\n    <tr>\n      <th>24037</th>\n      <td>False</td>\n      <td>False</td>\n      <td>False</td>\n      <td>True</td>\n      <td>False</td>\n      <td>True</td>\n      <td>False</td>\n      <td>False</td>\n      <td>True</td>\n      <td>True</td>\n      <td>False</td>\n      <td>False</td>\n      <td>True</td>\n      <td>True</td>\n      <td>True</td>\n      <td>True</td>\n    </tr>\n    <tr>\n      <th>24038</th>\n      <td>False</td>\n      <td>True</td>\n      <td>False</td>\n      <td>True</td>\n      <td>False</td>\n      <td>True</td>\n      <td>False</td>\n      <td>True</td>\n      <td>True</td>\n      <td>True</td>\n      <td>False</td>\n      <td>False</td>\n      <td>True</td>\n      <td>True</td>\n      <td>True</td>\n      <td>True</td>\n    </tr>\n    <tr>\n      <th>24039</th>\n      <td>False</td>\n      <td>False</td>\n      <td>False</td>\n      <td>True</td>\n      <td>False</td>\n      <td>True</td>\n      <td>False</td>\n      <td>False</td>\n      <td>True</td>\n      <td>True</td>\n      <td>False</td>\n      <td>False</td>\n      <td>True</td>\n      <td>True</td>\n      <td>True</td>\n      <td>True</td>\n    </tr>\n    <tr>\n      <th>24040</th>\n      <td>False</td>\n      <td>False</td>\n      <td>False</td>\n      <td>True</td>\n      <td>False</td>\n      <td>True</td>\n      <td>False</td>\n      <td>False</td>\n      <td>True</td>\n      <td>True</td>\n      <td>False</td>\n      <td>False</td>\n      <td>True</td>\n      <td>True</td>\n      <td>True</td>\n      <td>True</td>\n    </tr>\n  </tbody>\n</table>\n<p>24041 rows × 16 columns</p>\n</div>"
     },
     "execution_count": 8,
     "metadata": {},
     "output_type": "execute_result"
    }
   ],
   "source": [
    "covid_data.isna()"
   ]
  },
  {
   "cell_type": "markdown",
   "metadata": {
    "id": "54PQWJn07gV7"
   },
   "source": [
    "We can count the number of missing values in each column by summing over all rows:"
   ]
  },
  {
   "cell_type": "code",
   "execution_count": 9,
   "metadata": {
    "id": "FYGocGKa7rpe",
    "ExecuteTime": {
     "end_time": "2024-02-22T16:27:13.142078Z",
     "start_time": "2024-02-22T16:27:13.134603Z"
    }
   },
   "outputs": [
    {
     "data": {
      "text/plain": "date                                      0\ntime                                  12534\nabbreviation_canton_and_fl                0\nncumul_tested                         23778\nncumul_conf                             547\nnew_hosp                              22647\ncurrent_hosp                           3136\ncurrent_icu                            6098\ncurrent_vent                          16704\nncumul_released                       16671\nncumul_deceased                        2287\nsource                                    2\ncurrent_isolated                      14737\ncurrent_quarantined                   15115\ncurrent_quarantined_riskareatravel    18911\ncurrent_quarantined_total             24041\ndtype: int64"
     },
     "execution_count": 9,
     "metadata": {},
     "output_type": "execute_result"
    }
   ],
   "source": [
    "covid_data.isna().sum()"
   ]
  },
  {
   "cell_type": "markdown",
   "metadata": {
    "id": "5lp1UXoq8Okf"
   },
   "source": [
    "*Note*: You can specify `.sum(axis=1)` to sum over columns instead."
   ]
  },
  {
   "cell_type": "markdown",
   "metadata": {
    "id": "xdwsqvMR8hd6"
   },
   "source": [
    "We notice that the `current_quarantined_total` has 24040 missing values, which corresponds to the total number of entries in the dataframe.\n",
    "\n",
    "We can re-verify this by inspecting the unique values:"
   ]
  },
  {
   "cell_type": "code",
   "execution_count": 10,
   "metadata": {
    "id": "e6PROJI88_09",
    "ExecuteTime": {
     "end_time": "2024-02-22T16:30:38.827434Z",
     "start_time": "2024-02-22T16:30:38.822240Z"
    }
   },
   "outputs": [
    {
     "data": {
      "text/plain": "array([nan])"
     },
     "execution_count": 10,
     "metadata": {},
     "output_type": "execute_result"
    }
   ],
   "source": [
    "covid_data['current_quarantined_total'].unique()"
   ]
  },
  {
   "cell_type": "markdown",
   "metadata": {
    "id": "q4qOB_7q9GI6"
   },
   "source": [
    "We therefore suggest to drop this column from the data entirely.\n",
    "\n",
    "This can be achieved by the `.drop()` method, as follows:"
   ]
  },
  {
   "cell_type": "code",
   "execution_count": 11,
   "metadata": {
    "id": "a0WuyV5Q9Q2G",
    "ExecuteTime": {
     "end_time": "2024-02-22T16:30:53.425959Z",
     "start_time": "2024-02-22T16:30:53.411432Z"
    }
   },
   "outputs": [
    {
     "data": {
      "text/plain": "         date   time abbreviation_canton_and_fl  ncumul_tested  ncumul_conf  \\\n0  2020-02-01  00:00                         GE          109.0          0.0   \n1  2020-02-02  00:00                         GE          115.0          0.0   \n2  2020-02-03  00:00                         GE          136.0          0.0   \n3  2020-02-04  00:00                         GE          156.0          0.0   \n4  2020-02-05  00:00                         GE          169.0          0.0   \n\n   new_hosp  current_hosp  current_icu  current_vent  ncumul_released  \\\n0       NaN           NaN          NaN           NaN              NaN   \n1       NaN           NaN          NaN           NaN              NaN   \n2       NaN           NaN          NaN           NaN              NaN   \n3       NaN           NaN          NaN           NaN              NaN   \n4       NaN           NaN          NaN           NaN              NaN   \n\n   ncumul_deceased                           source  current_isolated  \\\n0              0.0  https://infocovid.smc.unige.ch/               1.0   \n1              0.0  https://infocovid.smc.unige.ch/               1.0   \n2              0.0  https://infocovid.smc.unige.ch/               1.0   \n3              0.0  https://infocovid.smc.unige.ch/               1.0   \n4              0.0  https://infocovid.smc.unige.ch/               1.0   \n\n   current_quarantined  current_quarantined_riskareatravel  \n0                  0.0                                 0.0  \n1                  0.0                                 0.0  \n2                  0.0                                 0.0  \n3                  0.0                                 0.0  \n4                  0.0                                 0.0  ",
      "text/html": "<div>\n<style scoped>\n    .dataframe tbody tr th:only-of-type {\n        vertical-align: middle;\n    }\n\n    .dataframe tbody tr th {\n        vertical-align: top;\n    }\n\n    .dataframe thead th {\n        text-align: right;\n    }\n</style>\n<table border=\"1\" class=\"dataframe\">\n  <thead>\n    <tr style=\"text-align: right;\">\n      <th></th>\n      <th>date</th>\n      <th>time</th>\n      <th>abbreviation_canton_and_fl</th>\n      <th>ncumul_tested</th>\n      <th>ncumul_conf</th>\n      <th>new_hosp</th>\n      <th>current_hosp</th>\n      <th>current_icu</th>\n      <th>current_vent</th>\n      <th>ncumul_released</th>\n      <th>ncumul_deceased</th>\n      <th>source</th>\n      <th>current_isolated</th>\n      <th>current_quarantined</th>\n      <th>current_quarantined_riskareatravel</th>\n    </tr>\n  </thead>\n  <tbody>\n    <tr>\n      <th>0</th>\n      <td>2020-02-01</td>\n      <td>00:00</td>\n      <td>GE</td>\n      <td>109.0</td>\n      <td>0.0</td>\n      <td>NaN</td>\n      <td>NaN</td>\n      <td>NaN</td>\n      <td>NaN</td>\n      <td>NaN</td>\n      <td>0.0</td>\n      <td>https://infocovid.smc.unige.ch/</td>\n      <td>1.0</td>\n      <td>0.0</td>\n      <td>0.0</td>\n    </tr>\n    <tr>\n      <th>1</th>\n      <td>2020-02-02</td>\n      <td>00:00</td>\n      <td>GE</td>\n      <td>115.0</td>\n      <td>0.0</td>\n      <td>NaN</td>\n      <td>NaN</td>\n      <td>NaN</td>\n      <td>NaN</td>\n      <td>NaN</td>\n      <td>0.0</td>\n      <td>https://infocovid.smc.unige.ch/</td>\n      <td>1.0</td>\n      <td>0.0</td>\n      <td>0.0</td>\n    </tr>\n    <tr>\n      <th>2</th>\n      <td>2020-02-03</td>\n      <td>00:00</td>\n      <td>GE</td>\n      <td>136.0</td>\n      <td>0.0</td>\n      <td>NaN</td>\n      <td>NaN</td>\n      <td>NaN</td>\n      <td>NaN</td>\n      <td>NaN</td>\n      <td>0.0</td>\n      <td>https://infocovid.smc.unige.ch/</td>\n      <td>1.0</td>\n      <td>0.0</td>\n      <td>0.0</td>\n    </tr>\n    <tr>\n      <th>3</th>\n      <td>2020-02-04</td>\n      <td>00:00</td>\n      <td>GE</td>\n      <td>156.0</td>\n      <td>0.0</td>\n      <td>NaN</td>\n      <td>NaN</td>\n      <td>NaN</td>\n      <td>NaN</td>\n      <td>NaN</td>\n      <td>0.0</td>\n      <td>https://infocovid.smc.unige.ch/</td>\n      <td>1.0</td>\n      <td>0.0</td>\n      <td>0.0</td>\n    </tr>\n    <tr>\n      <th>4</th>\n      <td>2020-02-05</td>\n      <td>00:00</td>\n      <td>GE</td>\n      <td>169.0</td>\n      <td>0.0</td>\n      <td>NaN</td>\n      <td>NaN</td>\n      <td>NaN</td>\n      <td>NaN</td>\n      <td>NaN</td>\n      <td>0.0</td>\n      <td>https://infocovid.smc.unige.ch/</td>\n      <td>1.0</td>\n      <td>0.0</td>\n      <td>0.0</td>\n    </tr>\n  </tbody>\n</table>\n</div>"
     },
     "execution_count": 11,
     "metadata": {},
     "output_type": "execute_result"
    }
   ],
   "source": [
    "covid_data = covid_data.drop(columns=['current_quarantined_total'])\n",
    "covid_data.head()"
   ]
  },
  {
   "cell_type": "markdown",
   "metadata": {
    "id": "8iE4NlCHASww"
   },
   "source": [
    "Generally, there are two approaches to deal with missing values. We can either ignore them, for example by throwing out rows that contain them, or we can try to impute a \"reasonable\" value.\n",
    "\n",
    "Of course, what is \"reasonable\" heavily depends on the data at hand!"
   ]
  },
  {
   "cell_type": "markdown",
   "metadata": {
    "id": "fFFtNXsgAodu"
   },
   "source": [
    "Let us first consider the easier approach: dropping rows that have missing entries. This can be achieved using the `.dropna()` method.\n",
    "\n",
    "By default it will remove all rows that have at least one missing value:"
   ]
  },
  {
   "cell_type": "code",
   "execution_count": 12,
   "metadata": {
    "id": "VYRpPYtr9lap",
    "ExecuteTime": {
     "end_time": "2024-02-22T16:31:48.707461Z",
     "start_time": "2024-02-22T16:31:48.692710Z"
    }
   },
   "outputs": [
    {
     "data": {
      "text/plain": "            date   time abbreviation_canton_and_fl  ncumul_tested  \\\n562   2020-03-24  00:00                         GE         8554.0   \n589   2020-03-25  00:00                         GE         9000.0   \n616   2020-03-26  00:00                         GE         9520.0   \n643   2020-03-27  00:00                         GE         9971.0   \n670   2020-03-28  00:00                         GE        10533.0   \n...          ...    ...                        ...            ...   \n2230  2020-05-27  00:00                         GE        35777.0   \n2257  2020-05-28  00:00                         GE        36026.0   \n2283  2020-05-29  00:00                         GE        36302.0   \n2375  2020-06-02  00:00                         GE        36769.0   \n2401  2020-06-03  00:00                         GE        37233.0   \n\n      ncumul_conf  new_hosp  current_hosp  current_icu  current_vent  \\\n562        8555.0      36.0         230.0         41.0          41.0   \n589        9339.0      37.0         232.0         47.0          48.0   \n616       10336.0      43.0         254.0         50.0          48.0   \n643       10949.0      43.0         285.0         54.0          54.0   \n670       11749.0      53.0         309.0         53.0          54.0   \n...           ...       ...           ...          ...           ...   \n2230      23756.0       3.0           6.0          0.0           0.0   \n2257      23761.0       3.0           7.0          0.0           0.0   \n2283      23781.0       7.0           5.0          0.0           0.0   \n2375      23830.0       1.0           7.0          1.0           0.0   \n2401      23837.0       1.0           6.0          1.0           1.0   \n\n      ncumul_released  ncumul_deceased                           source  \\\n562             103.0             33.0  https://infocovid.smc.unige.ch/   \n589             122.0             45.0  https://infocovid.smc.unige.ch/   \n616             144.0             50.0  https://infocovid.smc.unige.ch/   \n643             153.0             63.0  https://infocovid.smc.unige.ch/   \n670             175.0             77.0  https://infocovid.smc.unige.ch/   \n...               ...              ...                              ...   \n2230            788.0            374.0  https://infocovid.smc.unige.ch/   \n2257            792.0            374.0  https://infocovid.smc.unige.ch/   \n2283            797.0            374.0  https://infocovid.smc.unige.ch/   \n2375            807.0            374.0  https://infocovid.smc.unige.ch/   \n2401            811.0            374.0  https://infocovid.smc.unige.ch/   \n\n      current_isolated  current_quarantined  \\\n562             1768.0                  1.0   \n589             1778.0                  1.0   \n616             1827.0                  1.0   \n643             1859.0                  1.0   \n670             1892.0                  1.0   \n...                ...                  ...   \n2230              22.0                 14.0   \n2257              22.0                 22.0   \n2283              19.0                 22.0   \n2375              19.0                 15.0   \n2401              19.0                 15.0   \n\n      current_quarantined_riskareatravel  \n562                                  0.0  \n589                                  0.0  \n616                                  0.0  \n643                                  0.0  \n670                                  0.0  \n...                                  ...  \n2230                                 0.0  \n2257                                 0.0  \n2283                                 0.0  \n2375                                 0.0  \n2401                                 0.0  \n\n[68 rows x 15 columns]",
      "text/html": "<div>\n<style scoped>\n    .dataframe tbody tr th:only-of-type {\n        vertical-align: middle;\n    }\n\n    .dataframe tbody tr th {\n        vertical-align: top;\n    }\n\n    .dataframe thead th {\n        text-align: right;\n    }\n</style>\n<table border=\"1\" class=\"dataframe\">\n  <thead>\n    <tr style=\"text-align: right;\">\n      <th></th>\n      <th>date</th>\n      <th>time</th>\n      <th>abbreviation_canton_and_fl</th>\n      <th>ncumul_tested</th>\n      <th>ncumul_conf</th>\n      <th>new_hosp</th>\n      <th>current_hosp</th>\n      <th>current_icu</th>\n      <th>current_vent</th>\n      <th>ncumul_released</th>\n      <th>ncumul_deceased</th>\n      <th>source</th>\n      <th>current_isolated</th>\n      <th>current_quarantined</th>\n      <th>current_quarantined_riskareatravel</th>\n    </tr>\n  </thead>\n  <tbody>\n    <tr>\n      <th>562</th>\n      <td>2020-03-24</td>\n      <td>00:00</td>\n      <td>GE</td>\n      <td>8554.0</td>\n      <td>8555.0</td>\n      <td>36.0</td>\n      <td>230.0</td>\n      <td>41.0</td>\n      <td>41.0</td>\n      <td>103.0</td>\n      <td>33.0</td>\n      <td>https://infocovid.smc.unige.ch/</td>\n      <td>1768.0</td>\n      <td>1.0</td>\n      <td>0.0</td>\n    </tr>\n    <tr>\n      <th>589</th>\n      <td>2020-03-25</td>\n      <td>00:00</td>\n      <td>GE</td>\n      <td>9000.0</td>\n      <td>9339.0</td>\n      <td>37.0</td>\n      <td>232.0</td>\n      <td>47.0</td>\n      <td>48.0</td>\n      <td>122.0</td>\n      <td>45.0</td>\n      <td>https://infocovid.smc.unige.ch/</td>\n      <td>1778.0</td>\n      <td>1.0</td>\n      <td>0.0</td>\n    </tr>\n    <tr>\n      <th>616</th>\n      <td>2020-03-26</td>\n      <td>00:00</td>\n      <td>GE</td>\n      <td>9520.0</td>\n      <td>10336.0</td>\n      <td>43.0</td>\n      <td>254.0</td>\n      <td>50.0</td>\n      <td>48.0</td>\n      <td>144.0</td>\n      <td>50.0</td>\n      <td>https://infocovid.smc.unige.ch/</td>\n      <td>1827.0</td>\n      <td>1.0</td>\n      <td>0.0</td>\n    </tr>\n    <tr>\n      <th>643</th>\n      <td>2020-03-27</td>\n      <td>00:00</td>\n      <td>GE</td>\n      <td>9971.0</td>\n      <td>10949.0</td>\n      <td>43.0</td>\n      <td>285.0</td>\n      <td>54.0</td>\n      <td>54.0</td>\n      <td>153.0</td>\n      <td>63.0</td>\n      <td>https://infocovid.smc.unige.ch/</td>\n      <td>1859.0</td>\n      <td>1.0</td>\n      <td>0.0</td>\n    </tr>\n    <tr>\n      <th>670</th>\n      <td>2020-03-28</td>\n      <td>00:00</td>\n      <td>GE</td>\n      <td>10533.0</td>\n      <td>11749.0</td>\n      <td>53.0</td>\n      <td>309.0</td>\n      <td>53.0</td>\n      <td>54.0</td>\n      <td>175.0</td>\n      <td>77.0</td>\n      <td>https://infocovid.smc.unige.ch/</td>\n      <td>1892.0</td>\n      <td>1.0</td>\n      <td>0.0</td>\n    </tr>\n    <tr>\n      <th>...</th>\n      <td>...</td>\n      <td>...</td>\n      <td>...</td>\n      <td>...</td>\n      <td>...</td>\n      <td>...</td>\n      <td>...</td>\n      <td>...</td>\n      <td>...</td>\n      <td>...</td>\n      <td>...</td>\n      <td>...</td>\n      <td>...</td>\n      <td>...</td>\n      <td>...</td>\n    </tr>\n    <tr>\n      <th>2230</th>\n      <td>2020-05-27</td>\n      <td>00:00</td>\n      <td>GE</td>\n      <td>35777.0</td>\n      <td>23756.0</td>\n      <td>3.0</td>\n      <td>6.0</td>\n      <td>0.0</td>\n      <td>0.0</td>\n      <td>788.0</td>\n      <td>374.0</td>\n      <td>https://infocovid.smc.unige.ch/</td>\n      <td>22.0</td>\n      <td>14.0</td>\n      <td>0.0</td>\n    </tr>\n    <tr>\n      <th>2257</th>\n      <td>2020-05-28</td>\n      <td>00:00</td>\n      <td>GE</td>\n      <td>36026.0</td>\n      <td>23761.0</td>\n      <td>3.0</td>\n      <td>7.0</td>\n      <td>0.0</td>\n      <td>0.0</td>\n      <td>792.0</td>\n      <td>374.0</td>\n      <td>https://infocovid.smc.unige.ch/</td>\n      <td>22.0</td>\n      <td>22.0</td>\n      <td>0.0</td>\n    </tr>\n    <tr>\n      <th>2283</th>\n      <td>2020-05-29</td>\n      <td>00:00</td>\n      <td>GE</td>\n      <td>36302.0</td>\n      <td>23781.0</td>\n      <td>7.0</td>\n      <td>5.0</td>\n      <td>0.0</td>\n      <td>0.0</td>\n      <td>797.0</td>\n      <td>374.0</td>\n      <td>https://infocovid.smc.unige.ch/</td>\n      <td>19.0</td>\n      <td>22.0</td>\n      <td>0.0</td>\n    </tr>\n    <tr>\n      <th>2375</th>\n      <td>2020-06-02</td>\n      <td>00:00</td>\n      <td>GE</td>\n      <td>36769.0</td>\n      <td>23830.0</td>\n      <td>1.0</td>\n      <td>7.0</td>\n      <td>1.0</td>\n      <td>0.0</td>\n      <td>807.0</td>\n      <td>374.0</td>\n      <td>https://infocovid.smc.unige.ch/</td>\n      <td>19.0</td>\n      <td>15.0</td>\n      <td>0.0</td>\n    </tr>\n    <tr>\n      <th>2401</th>\n      <td>2020-06-03</td>\n      <td>00:00</td>\n      <td>GE</td>\n      <td>37233.0</td>\n      <td>23837.0</td>\n      <td>1.0</td>\n      <td>6.0</td>\n      <td>1.0</td>\n      <td>1.0</td>\n      <td>811.0</td>\n      <td>374.0</td>\n      <td>https://infocovid.smc.unige.ch/</td>\n      <td>19.0</td>\n      <td>15.0</td>\n      <td>0.0</td>\n    </tr>\n  </tbody>\n</table>\n<p>68 rows × 15 columns</p>\n</div>"
     },
     "execution_count": 12,
     "metadata": {},
     "output_type": "execute_result"
    }
   ],
   "source": [
    "covid_data.dropna()"
   ]
  },
  {
   "cell_type": "markdown",
   "metadata": {
    "id": "ejYXNdoBBe9A"
   },
   "source": [
    "We can see that this is too aggressive as it leaves us with only 68 out our original 24032 rows!\n",
    "\n",
    "We can be more lax about dropping rows by either setting `how='all'`, which will only drop rows that consist entirely of missing values, or `thresh=3` (or any other integer value) which will drop rows with fewer than 3 non-missing values."
   ]
  },
  {
   "cell_type": "code",
   "execution_count": 13,
   "metadata": {
    "id": "jZClmLq5CFoX",
    "ExecuteTime": {
     "end_time": "2024-02-22T16:32:56.685997Z",
     "start_time": "2024-02-22T16:32:56.671229Z"
    }
   },
   "outputs": [
    {
     "data": {
      "text/plain": "             date   time abbreviation_canton_and_fl  ncumul_tested  \\\n0      2020-02-01  00:00                         GE          109.0   \n1      2020-02-02  00:00                         GE          115.0   \n2      2020-02-03  00:00                         GE          136.0   \n3      2020-02-04  00:00                         GE          156.0   \n4      2020-02-05  00:00                         GE          169.0   \n...           ...    ...                        ...            ...   \n24036  2023-09-10    NaN                         NE            NaN   \n24037  2023-09-10  00:00                         GE            NaN   \n24038  2023-09-11    NaN                         NE            NaN   \n24039  2023-09-11  00:00                         GE            NaN   \n24040  2023-09-12  00:00                         GE            NaN   \n\n       ncumul_conf  new_hosp  current_hosp  current_icu  current_vent  \\\n0              0.0       NaN           NaN          NaN           NaN   \n1              0.0       NaN           NaN          NaN           NaN   \n2              0.0       NaN           NaN          NaN           NaN   \n3              0.0       NaN           NaN          NaN           NaN   \n4              0.0       NaN           NaN          NaN           NaN   \n...            ...       ...           ...          ...           ...   \n24036      92697.0       NaN           4.0          NaN           NaN   \n24037     251154.0       NaN          60.0          1.0           NaN   \n24038      92700.0       NaN           9.0          NaN           NaN   \n24039     251162.0       NaN          66.0          1.0           NaN   \n24040     251178.0       NaN          60.0          1.0           NaN   \n\n       ncumul_released  ncumul_deceased  \\\n0                  NaN              0.0   \n1                  NaN              0.0   \n2                  NaN              0.0   \n3                  NaN              0.0   \n4                  NaN              0.0   \n...                ...              ...   \n24036              NaN            496.0   \n24037              NaN            959.0   \n24038              NaN            496.0   \n24039              NaN            959.0   \n24040              NaN            959.0   \n\n                                                  source  current_isolated  \\\n0                        https://infocovid.smc.unige.ch/               1.0   \n1                        https://infocovid.smc.unige.ch/               1.0   \n2                        https://infocovid.smc.unige.ch/               1.0   \n3                        https://infocovid.smc.unige.ch/               1.0   \n4                        https://infocovid.smc.unige.ch/               1.0   \n...                                                  ...               ...   \n24036  https://www.ne.ch/autorites/DFS/SCSP/medecin-c...               NaN   \n24037                    https://infocovid.smc.unige.ch/               NaN   \n24038  https://www.ne.ch/autorites/DFS/SCSP/medecin-c...               NaN   \n24039                    https://infocovid.smc.unige.ch/               NaN   \n24040                    https://infocovid.smc.unige.ch/               NaN   \n\n       current_quarantined  current_quarantined_riskareatravel  \n0                      0.0                                 0.0  \n1                      0.0                                 0.0  \n2                      0.0                                 0.0  \n3                      0.0                                 0.0  \n4                      0.0                                 0.0  \n...                    ...                                 ...  \n24036                  NaN                                 NaN  \n24037                  NaN                                 NaN  \n24038                  NaN                                 NaN  \n24039                  NaN                                 NaN  \n24040                  NaN                                 NaN  \n\n[24041 rows x 15 columns]",
      "text/html": "<div>\n<style scoped>\n    .dataframe tbody tr th:only-of-type {\n        vertical-align: middle;\n    }\n\n    .dataframe tbody tr th {\n        vertical-align: top;\n    }\n\n    .dataframe thead th {\n        text-align: right;\n    }\n</style>\n<table border=\"1\" class=\"dataframe\">\n  <thead>\n    <tr style=\"text-align: right;\">\n      <th></th>\n      <th>date</th>\n      <th>time</th>\n      <th>abbreviation_canton_and_fl</th>\n      <th>ncumul_tested</th>\n      <th>ncumul_conf</th>\n      <th>new_hosp</th>\n      <th>current_hosp</th>\n      <th>current_icu</th>\n      <th>current_vent</th>\n      <th>ncumul_released</th>\n      <th>ncumul_deceased</th>\n      <th>source</th>\n      <th>current_isolated</th>\n      <th>current_quarantined</th>\n      <th>current_quarantined_riskareatravel</th>\n    </tr>\n  </thead>\n  <tbody>\n    <tr>\n      <th>0</th>\n      <td>2020-02-01</td>\n      <td>00:00</td>\n      <td>GE</td>\n      <td>109.0</td>\n      <td>0.0</td>\n      <td>NaN</td>\n      <td>NaN</td>\n      <td>NaN</td>\n      <td>NaN</td>\n      <td>NaN</td>\n      <td>0.0</td>\n      <td>https://infocovid.smc.unige.ch/</td>\n      <td>1.0</td>\n      <td>0.0</td>\n      <td>0.0</td>\n    </tr>\n    <tr>\n      <th>1</th>\n      <td>2020-02-02</td>\n      <td>00:00</td>\n      <td>GE</td>\n      <td>115.0</td>\n      <td>0.0</td>\n      <td>NaN</td>\n      <td>NaN</td>\n      <td>NaN</td>\n      <td>NaN</td>\n      <td>NaN</td>\n      <td>0.0</td>\n      <td>https://infocovid.smc.unige.ch/</td>\n      <td>1.0</td>\n      <td>0.0</td>\n      <td>0.0</td>\n    </tr>\n    <tr>\n      <th>2</th>\n      <td>2020-02-03</td>\n      <td>00:00</td>\n      <td>GE</td>\n      <td>136.0</td>\n      <td>0.0</td>\n      <td>NaN</td>\n      <td>NaN</td>\n      <td>NaN</td>\n      <td>NaN</td>\n      <td>NaN</td>\n      <td>0.0</td>\n      <td>https://infocovid.smc.unige.ch/</td>\n      <td>1.0</td>\n      <td>0.0</td>\n      <td>0.0</td>\n    </tr>\n    <tr>\n      <th>3</th>\n      <td>2020-02-04</td>\n      <td>00:00</td>\n      <td>GE</td>\n      <td>156.0</td>\n      <td>0.0</td>\n      <td>NaN</td>\n      <td>NaN</td>\n      <td>NaN</td>\n      <td>NaN</td>\n      <td>NaN</td>\n      <td>0.0</td>\n      <td>https://infocovid.smc.unige.ch/</td>\n      <td>1.0</td>\n      <td>0.0</td>\n      <td>0.0</td>\n    </tr>\n    <tr>\n      <th>4</th>\n      <td>2020-02-05</td>\n      <td>00:00</td>\n      <td>GE</td>\n      <td>169.0</td>\n      <td>0.0</td>\n      <td>NaN</td>\n      <td>NaN</td>\n      <td>NaN</td>\n      <td>NaN</td>\n      <td>NaN</td>\n      <td>0.0</td>\n      <td>https://infocovid.smc.unige.ch/</td>\n      <td>1.0</td>\n      <td>0.0</td>\n      <td>0.0</td>\n    </tr>\n    <tr>\n      <th>...</th>\n      <td>...</td>\n      <td>...</td>\n      <td>...</td>\n      <td>...</td>\n      <td>...</td>\n      <td>...</td>\n      <td>...</td>\n      <td>...</td>\n      <td>...</td>\n      <td>...</td>\n      <td>...</td>\n      <td>...</td>\n      <td>...</td>\n      <td>...</td>\n      <td>...</td>\n    </tr>\n    <tr>\n      <th>24036</th>\n      <td>2023-09-10</td>\n      <td>NaN</td>\n      <td>NE</td>\n      <td>NaN</td>\n      <td>92697.0</td>\n      <td>NaN</td>\n      <td>4.0</td>\n      <td>NaN</td>\n      <td>NaN</td>\n      <td>NaN</td>\n      <td>496.0</td>\n      <td>https://www.ne.ch/autorites/DFS/SCSP/medecin-c...</td>\n      <td>NaN</td>\n      <td>NaN</td>\n      <td>NaN</td>\n    </tr>\n    <tr>\n      <th>24037</th>\n      <td>2023-09-10</td>\n      <td>00:00</td>\n      <td>GE</td>\n      <td>NaN</td>\n      <td>251154.0</td>\n      <td>NaN</td>\n      <td>60.0</td>\n      <td>1.0</td>\n      <td>NaN</td>\n      <td>NaN</td>\n      <td>959.0</td>\n      <td>https://infocovid.smc.unige.ch/</td>\n      <td>NaN</td>\n      <td>NaN</td>\n      <td>NaN</td>\n    </tr>\n    <tr>\n      <th>24038</th>\n      <td>2023-09-11</td>\n      <td>NaN</td>\n      <td>NE</td>\n      <td>NaN</td>\n      <td>92700.0</td>\n      <td>NaN</td>\n      <td>9.0</td>\n      <td>NaN</td>\n      <td>NaN</td>\n      <td>NaN</td>\n      <td>496.0</td>\n      <td>https://www.ne.ch/autorites/DFS/SCSP/medecin-c...</td>\n      <td>NaN</td>\n      <td>NaN</td>\n      <td>NaN</td>\n    </tr>\n    <tr>\n      <th>24039</th>\n      <td>2023-09-11</td>\n      <td>00:00</td>\n      <td>GE</td>\n      <td>NaN</td>\n      <td>251162.0</td>\n      <td>NaN</td>\n      <td>66.0</td>\n      <td>1.0</td>\n      <td>NaN</td>\n      <td>NaN</td>\n      <td>959.0</td>\n      <td>https://infocovid.smc.unige.ch/</td>\n      <td>NaN</td>\n      <td>NaN</td>\n      <td>NaN</td>\n    </tr>\n    <tr>\n      <th>24040</th>\n      <td>2023-09-12</td>\n      <td>00:00</td>\n      <td>GE</td>\n      <td>NaN</td>\n      <td>251178.0</td>\n      <td>NaN</td>\n      <td>60.0</td>\n      <td>1.0</td>\n      <td>NaN</td>\n      <td>NaN</td>\n      <td>959.0</td>\n      <td>https://infocovid.smc.unige.ch/</td>\n      <td>NaN</td>\n      <td>NaN</td>\n      <td>NaN</td>\n    </tr>\n  </tbody>\n</table>\n<p>24041 rows × 15 columns</p>\n</div>"
     },
     "execution_count": 13,
     "metadata": {},
     "output_type": "execute_result"
    }
   ],
   "source": [
    "covid_data.dropna(thresh=3)"
   ]
  },
  {
   "cell_type": "markdown",
   "metadata": {
    "id": "hBddUuNBxPP-"
   },
   "source": [
    "### Replacing Missing Values"
   ]
  },
  {
   "cell_type": "markdown",
   "metadata": {
    "id": "DoIwwfzgDoRy"
   },
   "source": [
    "We will now focus on imputing missing values.\n",
    "\n",
    "Our data contains broadly speaking 3 types of values:\n",
    "* direct and cumulative counts of populations (numerical)\n",
    "* `date` and `time`\n",
    "* categorical `abbreviation_canton_and_fl` and `source`\n",
    "\n",
    "We already know that `abbreviation_canton_and_fl` and `date` do not have any missing values.\n",
    "\n",
    "`source` has only 2 missing values, which we will ignore for now."
   ]
  },
  {
   "cell_type": "markdown",
   "metadata": {
    "id": "NiR4qeRjFAnG"
   },
   "source": [
    "We will first focus on the `time` column. Looking at the dataframe console printouts, we can already guess that many rows have the value `\"00:00\"` as their time.\n",
    "\n",
    "We can confirm this by counting how many times each unique `time` value appears:"
   ]
  },
  {
   "cell_type": "code",
   "execution_count": 14,
   "metadata": {
    "id": "wZoxuQnaFcBb",
    "ExecuteTime": {
     "end_time": "2024-02-22T16:34:43.520253Z",
     "start_time": "2024-02-22T16:34:43.514363Z"
    }
   },
   "outputs": [
    {
     "data": {
      "text/plain": "time\n00:00    3622\n08:00    2495\n10:00    1175\n14:30    1162\n09:00     738\n         ... \n10:25       1\n07:40       1\n08:40       1\n15:15       1\n16:40       1\nName: count, Length: 114, dtype: int64"
     },
     "execution_count": 14,
     "metadata": {},
     "output_type": "execute_result"
    }
   ],
   "source": [
    "covid_data['time'].value_counts()"
   ]
  },
  {
   "cell_type": "markdown",
   "metadata": {
    "id": "njQA3zUOGRJU"
   },
   "source": [
    "We will therefore decide to fill the missing `time` values with\n",
    "`\"00:00\"`. This can be achieved by the `.fillna()` method:"
   ]
  },
  {
   "cell_type": "code",
   "execution_count": 15,
   "metadata": {
    "id": "wk0tyeVzGQJ4",
    "ExecuteTime": {
     "end_time": "2024-02-22T16:35:05.295324Z",
     "start_time": "2024-02-22T16:35:05.287273Z"
    }
   },
   "outputs": [
    {
     "data": {
      "text/plain": "date                                      0\ntime                                      0\nabbreviation_canton_and_fl                0\nncumul_tested                         23778\nncumul_conf                             547\nnew_hosp                              22647\ncurrent_hosp                           3136\ncurrent_icu                            6098\ncurrent_vent                          16704\nncumul_released                       16671\nncumul_deceased                        2287\nsource                                    2\ncurrent_isolated                      14737\ncurrent_quarantined                   15115\ncurrent_quarantined_riskareatravel    18911\ndtype: int64"
     },
     "execution_count": 15,
     "metadata": {},
     "output_type": "execute_result"
    }
   ],
   "source": [
    "covid_data['time'] = covid_data['time'].fillna(\"00:00\")\n",
    "covid_data.isna().sum()"
   ]
  },
  {
   "cell_type": "markdown",
   "metadata": {
    "id": "_4KXhmoMG8lb"
   },
   "source": [
    "Note that we specifically update the `time` column with a version where the missing values have been replaced. If we instead wrote `covid_data.fillna(\"00:00\")` then every missing value in the entire dataframe would be replaced by `\"00:00\"`!"
   ]
  },
  {
   "cell_type": "markdown",
   "metadata": {
    "id": "945Jgvt_Dwz8"
   },
   "source": [
    "**(Side Note)**: If we inspect the data more closely, we can see that each canton seems to have a specific time that they usually submit the data, so filling in \"00:00\" agnostically might not be the perfect solution but we will consider it good enough for this lab."
   ]
  },
  {
   "cell_type": "markdown",
   "metadata": {
    "id": "KxYq0v93EI7S"
   },
   "source": [
    "Next, we will fill in current counts, such as `current_hosp`. In the lecture you have seen different approaches to determine a good value to impute. Intuitively, if we do not know how many people are currently in the hospital, a simple estimate would be to use the number of people hospitalised the day before, or the last known value in general."
   ]
  },
  {
   "cell_type": "markdown",
   "metadata": {
    "id": "mjIIInBqIHBP"
   },
   "source": [
    "This can be achieved in pandas by using the `.ffill()` (forward-fill) method. The code sniplet below shows a simple example."
   ]
  },
  {
   "cell_type": "code",
   "execution_count": 16,
   "metadata": {
    "id": "jyy4zhPmIjpx",
    "ExecuteTime": {
     "end_time": "2024-02-22T16:44:13.817694Z",
     "start_time": "2024-02-22T16:44:13.812Z"
    }
   },
   "outputs": [
    {
     "data": {
      "text/plain": "   values\n0     1.0\n1     2.0\n2     3.0\n3     NaN\n4     NaN\n5     6.0",
      "text/html": "<div>\n<style scoped>\n    .dataframe tbody tr th:only-of-type {\n        vertical-align: middle;\n    }\n\n    .dataframe tbody tr th {\n        vertical-align: top;\n    }\n\n    .dataframe thead th {\n        text-align: right;\n    }\n</style>\n<table border=\"1\" class=\"dataframe\">\n  <thead>\n    <tr style=\"text-align: right;\">\n      <th></th>\n      <th>values</th>\n    </tr>\n  </thead>\n  <tbody>\n    <tr>\n      <th>0</th>\n      <td>1.0</td>\n    </tr>\n    <tr>\n      <th>1</th>\n      <td>2.0</td>\n    </tr>\n    <tr>\n      <th>2</th>\n      <td>3.0</td>\n    </tr>\n    <tr>\n      <th>3</th>\n      <td>NaN</td>\n    </tr>\n    <tr>\n      <th>4</th>\n      <td>NaN</td>\n    </tr>\n    <tr>\n      <th>5</th>\n      <td>6.0</td>\n    </tr>\n  </tbody>\n</table>\n</div>"
     },
     "execution_count": 16,
     "metadata": {},
     "output_type": "execute_result"
    }
   ],
   "source": [
    "ffill_example = pd.DataFrame({\"values\": [1, 2, 3, None, None, 6]})\n",
    "ffill_example"
   ]
  },
  {
   "cell_type": "code",
   "execution_count": 17,
   "metadata": {
    "id": "ccRvHuYoI06P",
    "ExecuteTime": {
     "end_time": "2024-02-22T16:44:44.151539Z",
     "start_time": "2024-02-22T16:44:44.143248Z"
    }
   },
   "outputs": [
    {
     "data": {
      "text/plain": "   values\n0     1.0\n1     2.0\n2     3.0\n3     3.0\n4     3.0\n5     6.0",
      "text/html": "<div>\n<style scoped>\n    .dataframe tbody tr th:only-of-type {\n        vertical-align: middle;\n    }\n\n    .dataframe tbody tr th {\n        vertical-align: top;\n    }\n\n    .dataframe thead th {\n        text-align: right;\n    }\n</style>\n<table border=\"1\" class=\"dataframe\">\n  <thead>\n    <tr style=\"text-align: right;\">\n      <th></th>\n      <th>values</th>\n    </tr>\n  </thead>\n  <tbody>\n    <tr>\n      <th>0</th>\n      <td>1.0</td>\n    </tr>\n    <tr>\n      <th>1</th>\n      <td>2.0</td>\n    </tr>\n    <tr>\n      <th>2</th>\n      <td>3.0</td>\n    </tr>\n    <tr>\n      <th>3</th>\n      <td>3.0</td>\n    </tr>\n    <tr>\n      <th>4</th>\n      <td>3.0</td>\n    </tr>\n    <tr>\n      <th>5</th>\n      <td>6.0</td>\n    </tr>\n  </tbody>\n</table>\n</div>"
     },
     "execution_count": 17,
     "metadata": {},
     "output_type": "execute_result"
    }
   ],
   "source": [
    "ffill_example.ffill()"
   ]
  },
  {
   "cell_type": "markdown",
   "metadata": {
    "id": "r7PFDwu2JHGy"
   },
   "source": [
    "For our covid data this will become a little more intricate. First, we have to make sure that the data is sorted by date and time to make sure we actually forward fill the last known values. Second, we will have to do this for each canton individually, as it makes no sense to substitute a known value from Geneva in Zurich. We show how to achieve this in the next cell and unpack it afterwards:"
   ]
  },
  {
   "cell_type": "code",
   "execution_count": 18,
   "metadata": {
    "id": "7aBMcfTVFzep",
    "ExecuteTime": {
     "end_time": "2024-02-22T16:45:49.051414Z",
     "start_time": "2024-02-22T16:45:48.944254Z"
    }
   },
   "outputs": [
    {
     "data": {
      "text/plain": "             date   time abbreviation_canton_and_fl  ncumul_tested  \\\n0      2020-02-01  00:00                         GE          109.0   \n1      2020-02-02  00:00                         GE          115.0   \n2      2020-02-03  00:00                         GE          136.0   \n3      2020-02-04  00:00                         GE          156.0   \n4      2020-02-05  00:00                         GE          169.0   \n...           ...    ...                        ...            ...   \n24036  2023-09-10  00:00                         NE            0.0   \n24037  2023-09-10  00:00                         GE       187408.0   \n24038  2023-09-11  00:00                         NE            0.0   \n24039  2023-09-11  00:00                         GE       187408.0   \n24040  2023-09-12  00:00                         GE       187408.0   \n\n       ncumul_conf  new_hosp  current_hosp  current_icu  current_vent  \\\n0              0.0       NaN           0.0          0.0           0.0   \n1              0.0       NaN           0.0          0.0           0.0   \n2              0.0       NaN           0.0          0.0           0.0   \n3              0.0       NaN           0.0          0.0           0.0   \n4              0.0       NaN           0.0          0.0           0.0   \n...            ...       ...           ...          ...           ...   \n24036      92697.0       NaN           4.0          1.0           0.0   \n24037     251154.0       NaN          60.0          1.0           1.0   \n24038      92700.0       NaN           9.0          1.0           0.0   \n24039     251162.0       NaN          66.0          1.0           1.0   \n24040     251178.0       NaN          60.0          1.0           1.0   \n\n       ncumul_released  ncumul_deceased  \\\n0                  0.0              0.0   \n1                  0.0              0.0   \n2                  0.0              0.0   \n3                  0.0              0.0   \n4                  0.0              0.0   \n...                ...              ...   \n24036              0.0            496.0   \n24037            973.0            959.0   \n24038              0.0            496.0   \n24039            973.0            959.0   \n24040            973.0            959.0   \n\n                                                  source  current_isolated  \\\n0                        https://infocovid.smc.unige.ch/               1.0   \n1                        https://infocovid.smc.unige.ch/               1.0   \n2                        https://infocovid.smc.unige.ch/               1.0   \n3                        https://infocovid.smc.unige.ch/               1.0   \n4                        https://infocovid.smc.unige.ch/               1.0   \n...                                                  ...               ...   \n24036  https://www.ne.ch/autorites/DFS/SCSP/medecin-c...               0.0   \n24037                    https://infocovid.smc.unige.ch/            1816.0   \n24038  https://www.ne.ch/autorites/DFS/SCSP/medecin-c...               0.0   \n24039                    https://infocovid.smc.unige.ch/            1816.0   \n24040                    https://infocovid.smc.unige.ch/            1816.0   \n\n       current_quarantined  current_quarantined_riskareatravel  \n0                      0.0                                 0.0  \n1                      0.0                                 0.0  \n2                      0.0                                 0.0  \n3                      0.0                                 0.0  \n4                      0.0                                 0.0  \n...                    ...                                 ...  \n24036                  0.0                                 0.0  \n24037                  0.0                                 0.0  \n24038                  0.0                                 0.0  \n24039                  0.0                                 0.0  \n24040                  0.0                                 0.0  \n\n[24041 rows x 15 columns]",
      "text/html": "<div>\n<style scoped>\n    .dataframe tbody tr th:only-of-type {\n        vertical-align: middle;\n    }\n\n    .dataframe tbody tr th {\n        vertical-align: top;\n    }\n\n    .dataframe thead th {\n        text-align: right;\n    }\n</style>\n<table border=\"1\" class=\"dataframe\">\n  <thead>\n    <tr style=\"text-align: right;\">\n      <th></th>\n      <th>date</th>\n      <th>time</th>\n      <th>abbreviation_canton_and_fl</th>\n      <th>ncumul_tested</th>\n      <th>ncumul_conf</th>\n      <th>new_hosp</th>\n      <th>current_hosp</th>\n      <th>current_icu</th>\n      <th>current_vent</th>\n      <th>ncumul_released</th>\n      <th>ncumul_deceased</th>\n      <th>source</th>\n      <th>current_isolated</th>\n      <th>current_quarantined</th>\n      <th>current_quarantined_riskareatravel</th>\n    </tr>\n  </thead>\n  <tbody>\n    <tr>\n      <th>0</th>\n      <td>2020-02-01</td>\n      <td>00:00</td>\n      <td>GE</td>\n      <td>109.0</td>\n      <td>0.0</td>\n      <td>NaN</td>\n      <td>0.0</td>\n      <td>0.0</td>\n      <td>0.0</td>\n      <td>0.0</td>\n      <td>0.0</td>\n      <td>https://infocovid.smc.unige.ch/</td>\n      <td>1.0</td>\n      <td>0.0</td>\n      <td>0.0</td>\n    </tr>\n    <tr>\n      <th>1</th>\n      <td>2020-02-02</td>\n      <td>00:00</td>\n      <td>GE</td>\n      <td>115.0</td>\n      <td>0.0</td>\n      <td>NaN</td>\n      <td>0.0</td>\n      <td>0.0</td>\n      <td>0.0</td>\n      <td>0.0</td>\n      <td>0.0</td>\n      <td>https://infocovid.smc.unige.ch/</td>\n      <td>1.0</td>\n      <td>0.0</td>\n      <td>0.0</td>\n    </tr>\n    <tr>\n      <th>2</th>\n      <td>2020-02-03</td>\n      <td>00:00</td>\n      <td>GE</td>\n      <td>136.0</td>\n      <td>0.0</td>\n      <td>NaN</td>\n      <td>0.0</td>\n      <td>0.0</td>\n      <td>0.0</td>\n      <td>0.0</td>\n      <td>0.0</td>\n      <td>https://infocovid.smc.unige.ch/</td>\n      <td>1.0</td>\n      <td>0.0</td>\n      <td>0.0</td>\n    </tr>\n    <tr>\n      <th>3</th>\n      <td>2020-02-04</td>\n      <td>00:00</td>\n      <td>GE</td>\n      <td>156.0</td>\n      <td>0.0</td>\n      <td>NaN</td>\n      <td>0.0</td>\n      <td>0.0</td>\n      <td>0.0</td>\n      <td>0.0</td>\n      <td>0.0</td>\n      <td>https://infocovid.smc.unige.ch/</td>\n      <td>1.0</td>\n      <td>0.0</td>\n      <td>0.0</td>\n    </tr>\n    <tr>\n      <th>4</th>\n      <td>2020-02-05</td>\n      <td>00:00</td>\n      <td>GE</td>\n      <td>169.0</td>\n      <td>0.0</td>\n      <td>NaN</td>\n      <td>0.0</td>\n      <td>0.0</td>\n      <td>0.0</td>\n      <td>0.0</td>\n      <td>0.0</td>\n      <td>https://infocovid.smc.unige.ch/</td>\n      <td>1.0</td>\n      <td>0.0</td>\n      <td>0.0</td>\n    </tr>\n    <tr>\n      <th>...</th>\n      <td>...</td>\n      <td>...</td>\n      <td>...</td>\n      <td>...</td>\n      <td>...</td>\n      <td>...</td>\n      <td>...</td>\n      <td>...</td>\n      <td>...</td>\n      <td>...</td>\n      <td>...</td>\n      <td>...</td>\n      <td>...</td>\n      <td>...</td>\n      <td>...</td>\n    </tr>\n    <tr>\n      <th>24036</th>\n      <td>2023-09-10</td>\n      <td>00:00</td>\n      <td>NE</td>\n      <td>0.0</td>\n      <td>92697.0</td>\n      <td>NaN</td>\n      <td>4.0</td>\n      <td>1.0</td>\n      <td>0.0</td>\n      <td>0.0</td>\n      <td>496.0</td>\n      <td>https://www.ne.ch/autorites/DFS/SCSP/medecin-c...</td>\n      <td>0.0</td>\n      <td>0.0</td>\n      <td>0.0</td>\n    </tr>\n    <tr>\n      <th>24037</th>\n      <td>2023-09-10</td>\n      <td>00:00</td>\n      <td>GE</td>\n      <td>187408.0</td>\n      <td>251154.0</td>\n      <td>NaN</td>\n      <td>60.0</td>\n      <td>1.0</td>\n      <td>1.0</td>\n      <td>973.0</td>\n      <td>959.0</td>\n      <td>https://infocovid.smc.unige.ch/</td>\n      <td>1816.0</td>\n      <td>0.0</td>\n      <td>0.0</td>\n    </tr>\n    <tr>\n      <th>24038</th>\n      <td>2023-09-11</td>\n      <td>00:00</td>\n      <td>NE</td>\n      <td>0.0</td>\n      <td>92700.0</td>\n      <td>NaN</td>\n      <td>9.0</td>\n      <td>1.0</td>\n      <td>0.0</td>\n      <td>0.0</td>\n      <td>496.0</td>\n      <td>https://www.ne.ch/autorites/DFS/SCSP/medecin-c...</td>\n      <td>0.0</td>\n      <td>0.0</td>\n      <td>0.0</td>\n    </tr>\n    <tr>\n      <th>24039</th>\n      <td>2023-09-11</td>\n      <td>00:00</td>\n      <td>GE</td>\n      <td>187408.0</td>\n      <td>251162.0</td>\n      <td>NaN</td>\n      <td>66.0</td>\n      <td>1.0</td>\n      <td>1.0</td>\n      <td>973.0</td>\n      <td>959.0</td>\n      <td>https://infocovid.smc.unige.ch/</td>\n      <td>1816.0</td>\n      <td>0.0</td>\n      <td>0.0</td>\n    </tr>\n    <tr>\n      <th>24040</th>\n      <td>2023-09-12</td>\n      <td>00:00</td>\n      <td>GE</td>\n      <td>187408.0</td>\n      <td>251178.0</td>\n      <td>NaN</td>\n      <td>60.0</td>\n      <td>1.0</td>\n      <td>1.0</td>\n      <td>973.0</td>\n      <td>959.0</td>\n      <td>https://infocovid.smc.unige.ch/</td>\n      <td>1816.0</td>\n      <td>0.0</td>\n      <td>0.0</td>\n    </tr>\n  </tbody>\n</table>\n<p>24041 rows × 15 columns</p>\n</div>"
     },
     "execution_count": 18,
     "metadata": {},
     "output_type": "execute_result"
    }
   ],
   "source": [
    "ffill_columns = [\n",
    "  'ncumul_tested',\n",
    "  'ncumul_conf',\n",
    "  'current_hosp',\n",
    "  'current_icu',\n",
    "  'current_vent',\n",
    "  'ncumul_released',\n",
    "  'ncumul_deceased',\n",
    "  'current_isolated',\n",
    "  'current_quarantined',\n",
    "  'current_quarantined_riskareatravel',\n",
    "]\n",
    "for canton in covid_data['abbreviation_canton_and_fl'].unique():\n",
    "  covid_data.loc[covid_data['abbreviation_canton_and_fl'] == canton, ffill_columns] = covid_data.loc[covid_data['abbreviation_canton_and_fl'] == canton, ffill_columns].ffill().fillna(0.)\n",
    "\n",
    "covid_data"
   ]
  },
  {
   "cell_type": "markdown",
   "metadata": {
    "id": "aPtCqN6xLofg"
   },
   "source": [
    "First, we specify which columns we will forward fill. Here we selected all current and cumulative counts.\n",
    "\n",
    "Then we iterate over all cantons. The `.loc` method is used for complex indexing. It can be used as `.loc[row_selection, column_selection]`. The rows we select are the ones that correspond to the current canton. The expression `covid_data['abbreviation_canton_and_fl'] == canton` returns a boolean index series that indicates rows that match the current canton. We use the list of columns we want to forward fill as our column selection.\n",
    "\n",
    "As before, we reassign all these cells by a version that has its missing values filled in. We apply the `.ffill()` method and follow it by a `fillna(0.)`. This is because missing values at the start (before any value is known) can not be forward-filled and we explicitely set them to 0 here."
   ]
  },
  {
   "cell_type": "markdown",
   "metadata": {
    "id": "CCMWvhgANTEw"
   },
   "source": [
    "Let us now see our progess:"
   ]
  },
  {
   "cell_type": "code",
   "execution_count": 19,
   "metadata": {
    "id": "2YGVDLNUNWI4",
    "ExecuteTime": {
     "end_time": "2024-02-22T16:46:59.596590Z",
     "start_time": "2024-02-22T16:46:59.589411Z"
    }
   },
   "outputs": [
    {
     "data": {
      "text/plain": "date                                      0\ntime                                      0\nabbreviation_canton_and_fl                0\nncumul_tested                             0\nncumul_conf                               0\nnew_hosp                              22647\ncurrent_hosp                              0\ncurrent_icu                               0\ncurrent_vent                              0\nncumul_released                           0\nncumul_deceased                           0\nsource                                    2\ncurrent_isolated                          0\ncurrent_quarantined                       0\ncurrent_quarantined_riskareatravel        0\ndtype: int64"
     },
     "execution_count": 19,
     "metadata": {},
     "output_type": "execute_result"
    }
   ],
   "source": [
    "covid_data.isna().sum()"
   ]
  },
  {
   "cell_type": "markdown",
   "metadata": {
    "id": "LnFnHsMUNeCW"
   },
   "source": [
    "There are two remaining columns with missing values. For `new_hosp` we will naively fill in 0 and for `source` we will impute the string `\"unknown\"`."
   ]
  },
  {
   "cell_type": "markdown",
   "metadata": {
    "id": "GnaMZBPjx2Fu"
   },
   "source": [
    "**🚨 TASK 1A (2 Points) 🚨**\n",
    "\n",
    "* Replace missing values in the `new_hosp` column by 0\n",
    "* Replace missing values in the `source` column by the string `\"unknown\"`"
   ]
  },
  {
   "cell_type": "code",
   "execution_count": 22,
   "metadata": {
    "id": "peaTkKqzNs0o",
    "ExecuteTime": {
     "end_time": "2024-02-22T16:49:10.797Z",
     "start_time": "2024-02-22T16:49:10.792138Z"
    }
   },
   "outputs": [],
   "source": [
    "# Hint refer back to where we replaced missing 'time' values by \"00:00\"!\n",
    "covid_data['new_hosp'] = covid_data['new_hosp'].fillna(0)\n",
    "covid_data['source'] = covid_data['source'].fillna(\"unknown\")"
   ]
  },
  {
   "cell_type": "markdown",
   "metadata": {
    "id": "vlL0jj_LN6l9"
   },
   "source": [
    "We have now eliminated all missing values!"
   ]
  },
  {
   "cell_type": "code",
   "execution_count": 23,
   "metadata": {
    "id": "K4R1WjQvN9Lo",
    "ExecuteTime": {
     "end_time": "2024-02-22T16:49:16.182148Z",
     "start_time": "2024-02-22T16:49:16.174396Z"
    }
   },
   "outputs": [
    {
     "data": {
      "text/plain": "date                                  0\ntime                                  0\nabbreviation_canton_and_fl            0\nncumul_tested                         0\nncumul_conf                           0\nnew_hosp                              0\ncurrent_hosp                          0\ncurrent_icu                           0\ncurrent_vent                          0\nncumul_released                       0\nncumul_deceased                       0\nsource                                0\ncurrent_isolated                      0\ncurrent_quarantined                   0\ncurrent_quarantined_riskareatravel    0\ndtype: int64"
     },
     "execution_count": 23,
     "metadata": {},
     "output_type": "execute_result"
    }
   ],
   "source": [
    "covid_data.isna().sum()"
   ]
  },
  {
   "cell_type": "markdown",
   "metadata": {
    "id": "GX14pnEteeXJ"
   },
   "source": [
    "<mark>In **MOODLE**</mark>:\n",
    "\n",
    "* upload your code snippte to fill in missing values for `new_hosp` and `source`\n",
    "* upload the output of counting remaining missing values"
   ]
  },
  {
   "cell_type": "markdown",
   "metadata": {
    "id": "GcHL2-ZHON8g"
   },
   "source": [
    "## Dealing with Duplicate Rows"
   ]
  },
  {
   "cell_type": "markdown",
   "metadata": {
    "id": "wh0uWaYUOQ48"
   },
   "source": [
    "The `.duplicated()` method will tell you for each row whether it is an exact duplicate. By default it will mark the first occurrence of a row as a non-duplicate and every following occurrence as a duplicate."
   ]
  },
  {
   "cell_type": "code",
   "execution_count": 24,
   "metadata": {
    "id": "q-Ejmse0YRIT",
    "ExecuteTime": {
     "end_time": "2024-02-22T16:51:30.368180Z",
     "start_time": "2024-02-22T16:51:30.351199Z"
    }
   },
   "outputs": [
    {
     "data": {
      "text/plain": "0        False\n1        False\n2        False\n3        False\n4        False\n         ...  \n24036    False\n24037    False\n24038    False\n24039    False\n24040    False\nLength: 24041, dtype: bool"
     },
     "execution_count": 24,
     "metadata": {},
     "output_type": "execute_result"
    }
   ],
   "source": [
    "covid_data.duplicated()"
   ]
  },
  {
   "cell_type": "markdown",
   "metadata": {
    "id": "PjDDBgVYYYou"
   },
   "source": [
    "We can check whether there are any exact duplicates by summing:"
   ]
  },
  {
   "cell_type": "code",
   "execution_count": 25,
   "metadata": {
    "id": "hB5R0BLkYU4-",
    "ExecuteTime": {
     "end_time": "2024-02-22T16:51:45.705519Z",
     "start_time": "2024-02-22T16:51:45.689823Z"
    }
   },
   "outputs": [
    {
     "data": {
      "text/plain": "0"
     },
     "execution_count": 25,
     "metadata": {},
     "output_type": "execute_result"
    }
   ],
   "source": [
    "covid_data.duplicated().sum()"
   ]
  },
  {
   "cell_type": "markdown",
   "metadata": {
    "id": "9H65SLycYgcd"
   },
   "source": [
    "We can see that our dataset does not contain any duplicate columns, this is mainly because each entry has a unique `'date'` and `'time'`.\n",
    "\n",
    "We can set the `subset=...` parameter to indicate which columns to consider for duplicate detection. Let us check whether there are duplicates, when we ignore the `'date'` and `'time'` columns:"
   ]
  },
  {
   "cell_type": "markdown",
   "metadata": {
    "id": "7c2qk9UQytVe"
   },
   "source": [
    "**🚨 TASK 1B (1 Point) 🚨**\n",
    "\n",
    "* count the number of exact duplicates when we only consider non-time colums"
   ]
  },
  {
   "cell_type": "code",
   "execution_count": 27,
   "metadata": {
    "id": "5cFMZMszORoC",
    "ExecuteTime": {
     "end_time": "2024-02-22T16:53:05.811283Z",
     "start_time": "2024-02-22T16:53:05.808105Z"
    }
   },
   "outputs": [],
   "source": [
    "non_time_cols = [c for c in covid_data.columns if c not in {'date', 'time'}]"
   ]
  },
  {
   "cell_type": "code",
   "execution_count": 28,
   "metadata": {
    "id": "gzAGHBH2zPWo",
    "ExecuteTime": {
     "end_time": "2024-02-22T16:53:08.200266Z",
     "start_time": "2024-02-22T16:53:08.187321Z"
    }
   },
   "outputs": [
    {
     "data": {
      "text/plain": "1213"
     },
     "execution_count": 28,
     "metadata": {},
     "output_type": "execute_result"
    }
   ],
   "source": [
    "covid_data.duplicated(subset=non_time_cols).sum()"
   ]
  },
  {
   "cell_type": "markdown",
   "metadata": {
    "id": "5x6S2E67e6Ni"
   },
   "source": [
    "<mark>In **MOODLE**</mark>:\n",
    "* upload the number of exact duplicates considering only non-time columns"
   ]
  },
  {
   "cell_type": "markdown",
   "metadata": {
    "id": "aY_o5c2VZNr-"
   },
   "source": [
    "There is a good chance that the duplicates are a result of our missing value imputation approach.\n",
    "\n",
    "Here it does not seem like a good idea to drop any rows as those rows that have identical entries except date and time are not a-priori problematic.\n"
   ]
  },
  {
   "cell_type": "markdown",
   "metadata": {
    "id": "V1GVriCx1euq"
   },
   "source": [
    "Nevertheless, it is good to know how to remove duplicate rows for future reference.\n",
    "\n",
    "We can do so using the `.drop_duplicates()` method, which will drop those rows that `.duplicated()` indicates as duplicates:\n",
    "\n",
    "Don't worry about running the next cell, it will return a new dataframe with rows dropped but will not change your current version of `covid_data`."
   ]
  },
  {
   "cell_type": "code",
   "execution_count": 29,
   "metadata": {
    "id": "9VLn8Vx4ZMvc",
    "ExecuteTime": {
     "end_time": "2024-02-22T16:53:57.790617Z",
     "start_time": "2024-02-22T16:53:57.771696Z"
    }
   },
   "outputs": [
    {
     "data": {
      "text/plain": "             date   time abbreviation_canton_and_fl  ncumul_tested  \\\n0      2020-02-01  00:00                         GE          109.0   \n1      2020-02-02  00:00                         GE          115.0   \n2      2020-02-03  00:00                         GE          136.0   \n3      2020-02-04  00:00                         GE          156.0   \n4      2020-02-05  00:00                         GE          169.0   \n...           ...    ...                        ...            ...   \n24036  2023-09-10  00:00                         NE            0.0   \n24037  2023-09-10  00:00                         GE       187408.0   \n24038  2023-09-11  00:00                         NE            0.0   \n24039  2023-09-11  00:00                         GE       187408.0   \n24040  2023-09-12  00:00                         GE       187408.0   \n\n       ncumul_conf  new_hosp  current_hosp  current_icu  current_vent  \\\n0              0.0       0.0           0.0          0.0           0.0   \n1              0.0       0.0           0.0          0.0           0.0   \n2              0.0       0.0           0.0          0.0           0.0   \n3              0.0       0.0           0.0          0.0           0.0   \n4              0.0       0.0           0.0          0.0           0.0   \n...            ...       ...           ...          ...           ...   \n24036      92697.0       0.0           4.0          1.0           0.0   \n24037     251154.0       0.0          60.0          1.0           1.0   \n24038      92700.0       0.0           9.0          1.0           0.0   \n24039     251162.0       0.0          66.0          1.0           1.0   \n24040     251178.0       0.0          60.0          1.0           1.0   \n\n       ncumul_released  ncumul_deceased  \\\n0                  0.0              0.0   \n1                  0.0              0.0   \n2                  0.0              0.0   \n3                  0.0              0.0   \n4                  0.0              0.0   \n...                ...              ...   \n24036              0.0            496.0   \n24037            973.0            959.0   \n24038              0.0            496.0   \n24039            973.0            959.0   \n24040            973.0            959.0   \n\n                                                  source  current_isolated  \\\n0                        https://infocovid.smc.unige.ch/               1.0   \n1                        https://infocovid.smc.unige.ch/               1.0   \n2                        https://infocovid.smc.unige.ch/               1.0   \n3                        https://infocovid.smc.unige.ch/               1.0   \n4                        https://infocovid.smc.unige.ch/               1.0   \n...                                                  ...               ...   \n24036  https://www.ne.ch/autorites/DFS/SCSP/medecin-c...               0.0   \n24037                    https://infocovid.smc.unige.ch/            1816.0   \n24038  https://www.ne.ch/autorites/DFS/SCSP/medecin-c...               0.0   \n24039                    https://infocovid.smc.unige.ch/            1816.0   \n24040                    https://infocovid.smc.unige.ch/            1816.0   \n\n       current_quarantined  current_quarantined_riskareatravel  \n0                      0.0                                 0.0  \n1                      0.0                                 0.0  \n2                      0.0                                 0.0  \n3                      0.0                                 0.0  \n4                      0.0                                 0.0  \n...                    ...                                 ...  \n24036                  0.0                                 0.0  \n24037                  0.0                                 0.0  \n24038                  0.0                                 0.0  \n24039                  0.0                                 0.0  \n24040                  0.0                                 0.0  \n\n[22828 rows x 15 columns]",
      "text/html": "<div>\n<style scoped>\n    .dataframe tbody tr th:only-of-type {\n        vertical-align: middle;\n    }\n\n    .dataframe tbody tr th {\n        vertical-align: top;\n    }\n\n    .dataframe thead th {\n        text-align: right;\n    }\n</style>\n<table border=\"1\" class=\"dataframe\">\n  <thead>\n    <tr style=\"text-align: right;\">\n      <th></th>\n      <th>date</th>\n      <th>time</th>\n      <th>abbreviation_canton_and_fl</th>\n      <th>ncumul_tested</th>\n      <th>ncumul_conf</th>\n      <th>new_hosp</th>\n      <th>current_hosp</th>\n      <th>current_icu</th>\n      <th>current_vent</th>\n      <th>ncumul_released</th>\n      <th>ncumul_deceased</th>\n      <th>source</th>\n      <th>current_isolated</th>\n      <th>current_quarantined</th>\n      <th>current_quarantined_riskareatravel</th>\n    </tr>\n  </thead>\n  <tbody>\n    <tr>\n      <th>0</th>\n      <td>2020-02-01</td>\n      <td>00:00</td>\n      <td>GE</td>\n      <td>109.0</td>\n      <td>0.0</td>\n      <td>0.0</td>\n      <td>0.0</td>\n      <td>0.0</td>\n      <td>0.0</td>\n      <td>0.0</td>\n      <td>0.0</td>\n      <td>https://infocovid.smc.unige.ch/</td>\n      <td>1.0</td>\n      <td>0.0</td>\n      <td>0.0</td>\n    </tr>\n    <tr>\n      <th>1</th>\n      <td>2020-02-02</td>\n      <td>00:00</td>\n      <td>GE</td>\n      <td>115.0</td>\n      <td>0.0</td>\n      <td>0.0</td>\n      <td>0.0</td>\n      <td>0.0</td>\n      <td>0.0</td>\n      <td>0.0</td>\n      <td>0.0</td>\n      <td>https://infocovid.smc.unige.ch/</td>\n      <td>1.0</td>\n      <td>0.0</td>\n      <td>0.0</td>\n    </tr>\n    <tr>\n      <th>2</th>\n      <td>2020-02-03</td>\n      <td>00:00</td>\n      <td>GE</td>\n      <td>136.0</td>\n      <td>0.0</td>\n      <td>0.0</td>\n      <td>0.0</td>\n      <td>0.0</td>\n      <td>0.0</td>\n      <td>0.0</td>\n      <td>0.0</td>\n      <td>https://infocovid.smc.unige.ch/</td>\n      <td>1.0</td>\n      <td>0.0</td>\n      <td>0.0</td>\n    </tr>\n    <tr>\n      <th>3</th>\n      <td>2020-02-04</td>\n      <td>00:00</td>\n      <td>GE</td>\n      <td>156.0</td>\n      <td>0.0</td>\n      <td>0.0</td>\n      <td>0.0</td>\n      <td>0.0</td>\n      <td>0.0</td>\n      <td>0.0</td>\n      <td>0.0</td>\n      <td>https://infocovid.smc.unige.ch/</td>\n      <td>1.0</td>\n      <td>0.0</td>\n      <td>0.0</td>\n    </tr>\n    <tr>\n      <th>4</th>\n      <td>2020-02-05</td>\n      <td>00:00</td>\n      <td>GE</td>\n      <td>169.0</td>\n      <td>0.0</td>\n      <td>0.0</td>\n      <td>0.0</td>\n      <td>0.0</td>\n      <td>0.0</td>\n      <td>0.0</td>\n      <td>0.0</td>\n      <td>https://infocovid.smc.unige.ch/</td>\n      <td>1.0</td>\n      <td>0.0</td>\n      <td>0.0</td>\n    </tr>\n    <tr>\n      <th>...</th>\n      <td>...</td>\n      <td>...</td>\n      <td>...</td>\n      <td>...</td>\n      <td>...</td>\n      <td>...</td>\n      <td>...</td>\n      <td>...</td>\n      <td>...</td>\n      <td>...</td>\n      <td>...</td>\n      <td>...</td>\n      <td>...</td>\n      <td>...</td>\n      <td>...</td>\n    </tr>\n    <tr>\n      <th>24036</th>\n      <td>2023-09-10</td>\n      <td>00:00</td>\n      <td>NE</td>\n      <td>0.0</td>\n      <td>92697.0</td>\n      <td>0.0</td>\n      <td>4.0</td>\n      <td>1.0</td>\n      <td>0.0</td>\n      <td>0.0</td>\n      <td>496.0</td>\n      <td>https://www.ne.ch/autorites/DFS/SCSP/medecin-c...</td>\n      <td>0.0</td>\n      <td>0.0</td>\n      <td>0.0</td>\n    </tr>\n    <tr>\n      <th>24037</th>\n      <td>2023-09-10</td>\n      <td>00:00</td>\n      <td>GE</td>\n      <td>187408.0</td>\n      <td>251154.0</td>\n      <td>0.0</td>\n      <td>60.0</td>\n      <td>1.0</td>\n      <td>1.0</td>\n      <td>973.0</td>\n      <td>959.0</td>\n      <td>https://infocovid.smc.unige.ch/</td>\n      <td>1816.0</td>\n      <td>0.0</td>\n      <td>0.0</td>\n    </tr>\n    <tr>\n      <th>24038</th>\n      <td>2023-09-11</td>\n      <td>00:00</td>\n      <td>NE</td>\n      <td>0.0</td>\n      <td>92700.0</td>\n      <td>0.0</td>\n      <td>9.0</td>\n      <td>1.0</td>\n      <td>0.0</td>\n      <td>0.0</td>\n      <td>496.0</td>\n      <td>https://www.ne.ch/autorites/DFS/SCSP/medecin-c...</td>\n      <td>0.0</td>\n      <td>0.0</td>\n      <td>0.0</td>\n    </tr>\n    <tr>\n      <th>24039</th>\n      <td>2023-09-11</td>\n      <td>00:00</td>\n      <td>GE</td>\n      <td>187408.0</td>\n      <td>251162.0</td>\n      <td>0.0</td>\n      <td>66.0</td>\n      <td>1.0</td>\n      <td>1.0</td>\n      <td>973.0</td>\n      <td>959.0</td>\n      <td>https://infocovid.smc.unige.ch/</td>\n      <td>1816.0</td>\n      <td>0.0</td>\n      <td>0.0</td>\n    </tr>\n    <tr>\n      <th>24040</th>\n      <td>2023-09-12</td>\n      <td>00:00</td>\n      <td>GE</td>\n      <td>187408.0</td>\n      <td>251178.0</td>\n      <td>0.0</td>\n      <td>60.0</td>\n      <td>1.0</td>\n      <td>1.0</td>\n      <td>973.0</td>\n      <td>959.0</td>\n      <td>https://infocovid.smc.unige.ch/</td>\n      <td>1816.0</td>\n      <td>0.0</td>\n      <td>0.0</td>\n    </tr>\n  </tbody>\n</table>\n<p>22828 rows × 15 columns</p>\n</div>"
     },
     "execution_count": 29,
     "metadata": {},
     "output_type": "execute_result"
    }
   ],
   "source": [
    "covid_data.drop_duplicates(subset=non_time_cols)"
   ]
  },
  {
   "cell_type": "markdown",
   "metadata": {
    "id": "13otm6KSa-qz"
   },
   "source": [
    "## Cleaning up the 'source' Column"
   ]
  },
  {
   "cell_type": "markdown",
   "metadata": {
    "id": "CFgZqf-ScElX"
   },
   "source": [
    "Looking at the values in the `source` column, we can see that they correspond to URLs. Many of these belong to the same domain and only vary in their parameters."
   ]
  },
  {
   "cell_type": "markdown",
   "metadata": {
    "id": "Qz6ozYz-2ASg"
   },
   "source": [
    "🚨 **TASK 1C (1 Point)** 🚨\n",
    "\n",
    "* inspect the unique values in the `source` column\n",
    "* count the unique values in the `source` column"
   ]
  },
  {
   "cell_type": "code",
   "execution_count": 32,
   "metadata": {
    "id": "rObuK96IbERA",
    "ExecuteTime": {
     "end_time": "2024-02-22T16:57:45.466654Z",
     "start_time": "2024-02-22T16:57:45.459082Z"
    }
   },
   "outputs": [
    {
     "data": {
      "text/plain": "array(['https://infocovid.smc.unige.ch/',\n       'https://www.baselland.ch/politik-und-behorden/direktionen/volkswirtschafts-und-gesundheitsdirektion/amt-fur-gesundheit/medizinische-dienste/kantonsarztlicher-dienst/aktuelles/covid-19-faelle-kanton-basel-landschaft',\n       'https://www.jura.ch/fr/Autorites/Coronavirus/Infos-Actualites/Statistique-COVID/Evolution-des-cas-COVID-19-dans-le-Jura.html',\n       'https://www4.ti.ch//fileadmin/DSS/DSP/UMC/malattie_infettive/Coronavirus/dati/COVID19_Dati_TI_UMC_per_github_storico.xlsx',\n       'https://services1.arcgis.com/YAuo6vcW85VPu7OE/arcgis/rest/services/Fallzahlen_Total_Kanton/FeatureServer/0/query?where=1%3D1&objectIds=&time=&resultType=none&outFields=*&returnHiddenFields=false&returnIdsOnly=false&returnUniqueIdsOnly=false&returnCountOnly=false&returnDistinctValues=false&cacheHint=false&orderByFields=Eingangs_Datum&groupByFieldsForStatistics=&outStatistics=&having=&resultOffset=&resultRecordCount=&sqlFormat=standard&f=pjson',\n       'https://www.ag.ch/media/kanton_aargau/themen_1/coronavirus_1/daten_excel/Covid-19-Daten_Kanton_Aargau.xlsx',\n       'https://covid-kennzahlen.apps.be.ch/',\n       'https://www.regierung.li/media/attachments/83-verdachtsfaelle-negativ-getestet.pdf?t=637202562374055719',\n       'https://www.lustat.ch/files_ftp/daten/covid/web/w142_200t_kt0003_zz_d_0000.xlsx',\n       'https://www.zh.ch/de/gesundheit/coronavirus.html',\n       'https://www.coronavirus.bs.ch/nm/2020-coronavirus-erster-positiver-fall-in-basel-stadt-zweiter-positiv-getesteter-ausserkantonaler-fall-gd.html',\n       'https://www.be.ch/portal/de/index/mediencenter/medienmitteilungen/suche.archiv.meldungNeu.html/portal/de/meldungen/mm/2020/02/20200229_0936_corona.html',\n       'https://www.vd.ch/toutes-les-actualites/hotline-et-informations-sur-le-coronavirus/',\n       'https://www.vs.ch/de/web/coronavirus',\n       'https://twitter.com/BR_Sprecher/status/1233316679863631873?s=20',\n       'https://www.fr.ch/de/gesundheit/covid-19/coronavirus-statistik-ueber-die-entwicklung-im-kanton',\n       'https://www.zg.ch/behoerden/gesundheitsdirektion/statistikfachstelle/themen/gesundheit/corona',\n       'https://twitter.com/BAG_OFSP_UFSP/status/1233759578241863681?s=20',\n       'https://www.be.ch/portal/de/index/mediencenter/medienmitteilungen/suche.meldungNeu.html/portal/de/meldungen/mm/2020/03/20200302_1522_zweiter_bestaetigtercorona-fallinbiel',\n       'https://www.ne.ch/autorites/DFS/SCSP/medecin-cantonal/maladies-vaccinations/Documents/Covid-19-Statistiques/COVID19_PublicationInternet.xlsx',\n       'https://www.llv.li/files/ag/aktuelle-fallzahlen.xlsx',\n       'https://www.coronavirus.bs.ch/nm/2020-coronavirus-anzahl-der-getesteten-faelle-und-zwischenstand-kita-riehen-gd.html',\n       'https://www.sg.ch/tools/informationen-coronavirus.html',\n       'https://www.coronavirus.bs.ch/nm/2020-coronavirus-zwei-neue-positive-faelle-in-basel-stadt-gd.html',\n       'https://www.sz.ch/public/upload/assets/45351/MM_Coronavirus_4_3_2020.pdf',\n       'https://twitter.com/BAG_OFSP_UFSP/status/1234880556095213569?s=20',\n       'https://twitter.com/BAG_OFSP_UFSP/status/1235240377134862336?s=20',\n       'https://www.ar.ch/verwaltung/departement-gesundheit-und-soziales/news-aus-dem-departement/detail/news/coronavirusersterfallinappenzellausserrhoden/?tx_news_pi1[controller]=News&tx_news_pi1[action]=detail&cHash=fb1a9cf08108cdc7b82780b9239b009d',\n       'https://www.tg.ch/news/fachstab-gesundheit-coronavirus.html/10552',\n       'https://www.coronavirus.bs.ch/nm/2020-coronavirus-fuenf-neue-positive-faelle-in-basel-stadt-gd.html',\n       'https://www.ar.ch/schnellzugriff/medienmitteilungen-der-kantonalen-verwaltung/detail/news/zweiter-coronafall-in-appenzell-ausserrhoden/?tx_news_pi1[controller]=News&tx_news_pi1[action]=detail&cHash=de7ec38198b5e60b6dce8fccc7735501',\n       'https://www.sz.ch/public/upload/assets/45417/MM_Coronavirus_6_3_2020.pdf',\n       'https://so.ch/startseite/aktuell/news/erster-laborbestaetigter-covid-19-fall-im-kanton-solothurn/?tx_news_pi1%5Bcontroller%5D=News&tx_news_pi1%5Baction%5D=detail&cHash=3074bbdc8f0fcdcb9f1e11a21fc05e73',\n       'https://twitter.com/BAG_OFSP_UFSP/status/1235934884167852035?s=20',\n       'https://twitter.com/BAG_OFSP_UFSP/status/1236249864473894914?s=20',\n       'https://twitter.com/BAG_OFSP_UFSP/status/1236609191831384064?s=20',\n       'https://twitter.com/BAG_OFSP_UFSP/status/1236973685602426881?s=20',\n       'https://docs.google.com/spreadsheets/d/1Q7VoxM6wvbdsC84DLWrzyNymkcxUKqIXHy6BpB2Ez0k/edit',\n       'https://www.vd.ch/toutes-les-actualites/hotline-et-informations-sur-le-coronavirus/point-de-situation-statistique-dans-le-canton-de-vaud/',\n       'https://twitter.com/BAG_OFSP_UFSP/status/1237336196772175873?s=20',\n       'http://www.nw.ch/coronastatistik',\n       'https://coviddashboard.sh.ch/',\n       'https://www.coronavirus.bs.ch/nm/2020-coronavirus-ende-der-quarantaenemassnahmen-im-fall-kita-riehen-gd.html',\n       'https://www.ar.ch/schnellzugriff/medienmitteilungen-der-kantonalen-verwaltung/detail/news/coronavirus-drei-neue-faelle-in-appenzell-ausserrhoden/?tx_news_pi1[controller]=News&tx_news_pi1[action]=detail&cHash=272411484066c8fb971dcc838aa96ef9',\n       'unknown',\n       'https://twitter.com/BAG_OFSP_UFSP/status/1238073089902235648?s=20 https://www.coronavirus.bs.ch/nm/2020-coronavirus-erster-todesfall-im-kanton-basel-stadt-gd.html',\n       'https://www.ow.ch/de/aktuelles/aktuellesinformationen/amtsmitteilungen/welcome.php?action=showinfo&info_id=63566&ls=0&sq=&kategorie_id=&date_from=&date_to=',\n       'https://www.sz.ch/public/upload/assets/45585/MM_Coronavirus_13_03_2020.pdf',\n       'https://twitter.com/BAG_OFSP_UFSP/status/1238430659762364417?s=20',\n       'https://www.ai.ch/themen/gesundheit-alter-und-soziales/gesundheitsfoerderung-und-praevention/aktuelles/erste-bestaetigte-coronavirus-faelle-auch-in-innerrhoden',\n       'https://twitter.com/BAG_OFSP_UFSP/status/1238773726423941127?s=20',\n       'https://www.sz.ch/public/upload/assets/45590/MM_Coronavirus_15_3_2020.pdf',\n       'Kantonaler Führungsstab Appenzell Innerrhoden',\n       'https://www.coronavirus.bs.ch/nm/2020-tagesbulletin-coronavirus-144-bestaetigte-faelle-im-kanton-basel-stadt-gd.html',\n       'https://www.coronavirus.bs.ch/nm/2020-tagesbulletin-coronavirus-165-bestaetigte-faelle-im-kanton-basel-stadt-gd.html',\n       'https://www.ar.ch/schnellzugriff/medienmitteilungen-der-kantonalen-verwaltung/detail/news/coronavirus-bevoelkerung-und-alle-spitaeler-machen-bei-der-gesundheitsversorgung-mit/?tx_news_pi1%5Bcontroller%5D=News&tx_news_pi1%5Baction%5D=detail&cHash=3d2a0733446b5fc7cdad0f48f61c28fd',\n       'https://www.ur.ch/mmdirektionen/63802',\n       'https://www.coronavirus.bs.ch/nm/2020-tagesbulletin-coronavirus-182-bestaetigte-faelle-im-kanton-basel-stadt-treffen-mit-allen-spitaelern-gd.html',\n       'https://www.ur.ch/mmdirektionen/63841',\n       'https://www.coronavirus.bs.ch/nm/2020-tagesbulletin-coronavirus-222-bestaetigte-faelle-basel-stadt-trifft-gemeinsam-mit-den-spitaelern-vorkehrungen-fuer-intensiv--und-beatmungskapazitaeten-gd.html',\n       'https://www.coronavirus.bs.ch/nm/2020-tagesbulletin-coronavirus-272-bestaetigte-faelle-im-kanton-basel-stadt-gd.html',\n       'https://www.ur.ch/themen/2920',\n       'https://twitter.com/KantonSolothurn/status/1241041303024041989?p=p',\n       'https://www.ar.ch/schnellzugriff/medienmitteilungen-der-kantonalen-verwaltung/detail/news/coronavirus-erster-todesfall-in-appenzell-ausserrhoden/?tx_news_pi1%5Bcontroller%5D=News&tx_news_pi1%5Baction%5D=detail&cHash=a88f209df29c38474f9c5f9e1c5dd53f',\n       'https://www.coronavirus.bs.ch/nm/2020-tagesbulletin-coronavirus-299-bestaetigte-faelle-im-kanton-basel-stadt-gd.html',\n       'https://www.coronavirus.bs.ch/nm/2020-tagesbulletin-coronavirus-358-bestaetigte-faelle-im-kanton-basel-stadt-gd.html',\n       'https://www.ow.ch/dl.php/de/5fed92a4d9b76/OW-1103775-v1-Statistik_OW_Covid-19.XLSX',\n       'https://www.ar.ch/verwaltung/departement-gesundheit-und-soziales/amt-fuer-gesundheit/informationsseite-coronavirus/',\n       'https://www.coronavirus.bs.ch/nm/2020-tagesbulletin-coronavirus-376-bestaetigte-faelle-im-kanton-basel-stadt-gd.html',\n       'https://corona.so.ch/',\n       'https://www.sz.ch/behoerden/information-medien/medienmitteilungen/coronavirus.html/72-416-412-1379-6948',\n       'https://www.coronavirus.bs.ch/nm/2020-tagesbulletin-coronavirus-414-bestaetigte-faelle-im-kanton-basel-stadt-gd.html',\n       'https://www.ai.ch/themen/gesundheit-alter-und-soziales/gesundheitsfoerderung-und-praevention/uebertragbare-krankheiten/coronavirus',\n       'https://www.coronavirus.bs.ch/nm/2020-tagesbulletin-coronavirus-466-bestaetigte-faelle-im-kanton-basel-stadt-gd.html',\n       'https://www.coronavirus.bs.ch/nm/2020-tagesbulletin-coronavirus-505-bestaetigte-faelle-im-kanton-basel-stadt-gd.html',\n       'https://www.coronavirus.bs.ch/nm/2020-tagesbulletin-coronavirus-534-bestaetigte-faelle-im-kanton-basel-stadt-gd.html',\n       'https://www.coronavirus.bs.ch/nm/2020-tagesbulletin-coronavirus-573-bestaetigte-faelle-im-kanton-basel-stadt-gd.html',\n       'https://www.coronavirus.bs.ch/nm/2020-tagesbulletin-coronavirus-609-bestaetigte-faelle-im-kanton-basel-stadt-gd.html',\n       'https://www.coronavirus.bs.ch/nm/2020-tagesbulletin-coronavirus-621-bestaetigte-faelle-im-kanton-basel-stadt-gd.html',\n       'https://corona.so.ch/index.php?id=27979',\n       'https://www.coronavirus.bs.ch/nm/2020-tagesbulletin-coronavirus-628-bestaetigte-faelle-im-kanton-basel-stadt-gd.html https://www.coronavirus.bs.ch/nm/2020-tagesbulletin-coronavirus-691-bestaetigte-faelle-im-kanton-basel-stadt-gd.html',\n       'https://www.coronavirus.bs.ch/nm/2020-tagesbulletin-coronavirus-691-bestaetigte-faelle-im-kanton-basel-stadt-gd.html',\n       'https://www.gd.bs.ch//nm/2020-tagesbulletin-coronavirus-718-bestaetigte-faelle-im-kanton-basel-stadt-gd.html',\n       'https://www.gd.bs.ch/nm/2020-tagesbulletin-coronavirus-748-bestaetigte-faelle-im-kanton-basel-stadt-gd.html https://www.coronavirus.bs.ch/nm/2020-tagesbulletin-coronavirus-771-bestaetigte-faelle-im-kanton-basel-stadt-gd.html',\n       'https://www.gd.bs.ch//nm/2020-tagesbulletin-coronavirus-771-bestaetigte-faelle-im-kanton-basel-stadt-gd.html',\n       'https://www.gd.bs.ch//nm/2020-tagesbulletin-coronavirus-794-bestaetigte-faelle-im-kanton-basel-stadt-gd.html',\n       'https://www.coronavirus.bs.ch/nm/2020-tagesbulletin-coronavirus-803-bestaetigte-faelle-im-kanton-basel-stadt-gd.html',\n       'https://www.ag.ch/media/kanton-aargau/themen/coronavirus/aktuelle-lage-und-fallzahlen/daten-excel/covid-19-daten-kanton-aargau.xlsx',\n       'https://www.gd.bs.ch//nm/2020-tagesbulletin-coronavirus-813-bestaetigte-faelle-im-kanton-basel-stadt-gd.html',\n       'https://www.gd.bs.ch//nm/2020-tagesbulletin-coronavirus-834-bestaetigte-faelle-im-kanton-basel-stadt-gd.html',\n       'https://www.ur.ch/themen/2962',\n       'https://www.gd.bs.ch//nm/2020-tagesbulletin-coronavirus-846-bestaetigte-faelle-im-kanton-basel-stadt-gd.html',\n       'https://www.gd.bs.ch//nm/2020-tagesbulletin-coronavirus-859-bestaetigte-faelle-im-kanton-basel-stadt-gd.html',\n       'https://www.gd.bs.ch//nm/2020-tagesbulletin-coronavirus-866-bestaetigte-faelle-im-kanton-basel-stadt-gd.html',\n       'https://www.gd.bs.ch//nm/2020-tagesbulletin-coronavirus-882-bestaetigte-faelle-im-kanton-basel-stadt-gd.html',\n       'https://www.gd.bs.ch//nm/2020-tagesbulletin-coronavirus-893-bestaetigte-faelle-im-kanton-basel-stadt-gd.html',\n       'https://www.gd.bs.ch//nm/2020-tagesbulletin-coronavirus-899-bestaetigte-faelle-im-kanton-basel-stadt-gd.html',\n       'https://www.gd.bs.ch//nm/2020-tagesbulletin-coronavirus-909-bestaetigte-faelle-im-kanton-basel-stadt-gd.html',\n       'https://www.gd.bs.ch//nm/2020-tagesbulletin-coronavirus-917-bestaetigte-faelle-im-kanton-basel-stadt-gd.html',\n       'https://www.gd.bs.ch//nm/2020-tagesbulletin-coronavirus-923-bestaetigte-faelle-im-kanton-basel-stadt-gd.html',\n       'https://www.gd.bs.ch//nm/2020-tagesbulletin-coronavirus-929-bestaetigte-faelle-im-kanton-basel-stadt-gd.html',\n       'https://www.gd.bs.ch//nm/2020-tagesbulletin-coronavirus-932-bestaetigte-faelle-im-kanton-basel-stadt-gd.html',\n       'https://www.gd.bs.ch//nm/2020-tagesbulletin-coronavirus-933-bestaetigte-faelle-im-kanton-basel-stadt-gd.html',\n       'https://www.gd.bs.ch//nm/2020-tagesbulletin-coronavirus-933-bestaetigte-faelle-im-kanton-basel-stadt-gd-2.html',\n       'https://www.gd.bs.ch//nm/2020-tagesbulletin-coronavirus-933-bestaetigte-faelle-im-kanton-basel-stadt-gd-3.html',\n       'https://www.gd.bs.ch//nm/2020-tagesbulletin-coronavirus-931-bestaetigte-faelle-im-kanton-basel-stadt-gd.html',\n       'https://www.gd.bs.ch//nm/2020-tagesbulletin-coronavirus-936-bestaetigte-faelle-im-kanton-basel-stadt-gd.html',\n       'https://www.gd.bs.ch//nm/2020-tagesbulletin-coronavirus-941-bestaetigte-faelle-im-kanton-basel-stadt-gd.html',\n       'https://www.gd.bs.ch//nm/2020-tagesbulletin-coronavirus-943-bestaetigte-faelle-im-kanton-basel-stadt-gd.html',\n       'https://www.gd.bs.ch//nm/2020-tagesbulletin-coronavirus-946-bestaetigte-faelle-im-kanton-basel-stadt-gd.html',\n       'https://www.gd.bs.ch//nm/2020-tagesbulletin-coronavirus-951-bestaetigte-faelle-im-kanton-basel-stadt-gd.html',\n       'https://www.gd.bs.ch//nm/2020-tagesbulletin-coronavirus-958-bestaetigte-faelle-im-kanton-basel-stadt-gd.html',\n       'https://www.gd.bs.ch//nm/2020-tagesbulletin-coronavirus-959-bestaetigte-faelle-im-kanton-basel-stadt-gd.html',\n       'https://www.gd.bs.ch//nm/2020-tagesbulletin-coronavirus-962-bestaetigte-faelle-im-kanton-basel-stadt-gd.html',\n       'https://www.gd.bs.ch//nm/2020-tagesbulletin-coronavirus-965-bestaetigte-faelle-im-kanton-basel-stadt-gd.html',\n       'https://www.gd.bs.ch//nm/2020-tagesbulletin-coronavirus-966-bestaetigte-faelle-im-kanton-basel-stadt-gd.html',\n       'https://www.gd.bs.ch//nm/2020-tagesbulletin-coronavirus-970-bestaetigte-faelle-im-kanton-basel-stadt-gd.html',\n       'https://www.gd.bs.ch//nm/2020-tagesbulletin-coronavirus-970-bestaetigte-faelle-im-kanton-basel-stadt-gd-2.html',\n       'https://www.gd.bs.ch//nm/2020-tagesbulletin-coronavirus-970-bestaetigte-faelle-im-kanton-basel-stadt-gd-3.html',\n       'https://www.gd.bs.ch//nm/2020-tagesbulletin-coronavirus-971-bestaetigte-faelle-im-kanton-basel-stadt-gd.html',\n       'https://www.gd.bs.ch//nm/2020-tagesbulletin-coronavirus-972-bestaetigte-faelle-im-kanton-basel-stadt-gd.html',\n       'https://www.gd.bs.ch//nm/2020-tagesbulletin-coronavirus-974-bestaetigte-faelle-im-kanton-basel-stadt-gd.html',\n       'https://www.gd.bs.ch//nm/2020-tagesbulletin-coronavirus-975-bestaetigte-faelle-im-kanton-basel-stadt-gd.html',\n       'https://www.gd.bs.ch//nm/2020-tagesbulletin-coronavirus-976-bestaetigte-faelle-im-kanton-basel-stadt-gd.html',\n       'https://www.gd.bs.ch//nm/2020-tagesbulletin-coronavirus-976-bestaetigte-faelle-im-kanton-basel-stadt-gd-2.html',\n       'https://www.besondere-lage.sites.be.ch/besondere-lage_sites/de/index/corona/index.html',\n       'https://www.gd.bs.ch//nm/2020-tagesbulletin-coronavirus-976-bestaetigte-faelle-im-kanton-basel-stadt-gd-3.html',\n       'https://www.gd.bs.ch//nm/2020-tagesbulletin-coronavirus-weiterhin-976-bestaetigte-faelle-im-kanton-basel-stadt-gd.html',\n       'https://www.coronavirus.bs.ch//nm/2020-tagesbulletin-coronavirus-noch-drei-aktive-faelle-im-kanton-basel-stadt-gd.html',\n       'https://www.gd.bs.ch/nm/2020-tagesbulletin-coronavirus-weiterhin-total-976-bestaetigte-infektionen-und-noch-drei-aktive-faelle-im-kanton-basel-stadt-gd.html',\n       'https://www.gd.bs.ch//nm/2020-tagesbulletin-coronavirus-978-bestaetigte-infektionen-im-kanton-basel-stadt-gd.html',\n       'https://www.gd.bs.ch//nm/2020-tagesbulletin-coronavirus-978-bestaetigte-faelle-im-kanton-basel-stadt-gd.html',\n       'https://www.gd.bs.ch//nm/2020-tagesbulletin-coronavirus-979-bestaetigte-faelle-im-kanton-basel-stadt-gd.html',\n       'https://www.gd.bs.ch//nm/2020-tagesbulletin-coronavirus-979-bestaetigte-faelle-im-kanton-basel-stadt-gd-2.html',\n       'https://www.gd.bs.ch//nm/2020-tagesbulletin-coronavirus-982-bestaetigte-faelle-im-kanton-basel-stadt-gd.html',\n       'https://www.gd.bs.ch//nm/2020-tagesbulletin-coronavirus-unveraendert-982-bestaetigte-faelle-im-kanton-basel-stadt-gd.html',\n       'https://www.gd.bs.ch//nm/2020-tagesbulletin-coronavirus-983-bestaetigte-faelle-im-kanton-basel-stadt-gd.html',\n       'https://www.gd.bs.ch//nm/2020-tagesbulletin-coronavirus-983-bestaetigte-faelle-im-kanton-basel-stadt-gd-2.html',\n       'https://www.gd.bs.ch//nm/2020-tagesbulletin-coronavirus-983-bestaetigte-faelle-im-kanton-basel-stadt-gd-3.html',\n       'https://www.gd.bs.ch//nm/2020-tagesbulletin-coronavirus-983-bestaetigte-faelle-im-kanton-basel-stadt-gd-4.html',\n       'https://www.gd.bs.ch//nm/2020-tagesbulletin-coronavirus-unveraendert-983-bestaetigte-faelle-im-kanton-basel-stadt-gd.html',\n       'https://www.gd.bs.ch//nm/2020-tagesbulletin-coronavirus-unveraendert-983-bestaetigte-faelle-im-kanton-basel-stadt-gd.html https://www.bag.admin.ch/dam/bag/de/dokumente/mt/k-und-i/aktuelle-ausbrueche-pandemien/2019-nCoV/bisherige-lageberichte-zip.zip.download.zip/Epidemiologische_Lage_Schweiz.zip',\n       'https://www.gd.bs.ch//nm/2020-tagesbulletin-coronavirus-unveraendert-983-bestaetigte-faelle-im-kanton-basel-stadt-gd-2.html',\n       'https://www.gd.bs.ch//nm/2020-tagesbulletin-coronavirus-984-bestaetigte-faelle-im-kanton-basel-stadt-gd.html',\n       'https://www.gd.bs.ch//nm/2020-tagesbulletin-coronavirus-984-bestaetigte-faelle-im-kanton-basel-stadt-gd-2.html',\n       'https://www.gd.bs.ch//nm/2020-tagesbulletin-coronavirus-985-bestaetigte-faelle-im-kanton-basel-stadt-gd.html',\n       'https://www.gd.bs.ch//nm/2020-tagesbulletin-coronavirus-unveraendert-985-bestaetigte-faelle-im-kanton-basel-stadt-gd.html',\n       'https://www.gd.bs.ch//nm/2020-tagesbulletin-coronavirus-unveraendert-985-bestaetigte-faelle-im-kanton-basel-stadt-gd.html https://www.bag.admin.ch/dam/bag/de/dokumente/mt/k-und-i/aktuelle-ausbrueche-pandemien/2019-nCoV/bisherige-lageberichte-zip.zip.download.zip/Epidemiologische_Lage_Schweiz.zip',\n       'https://www.gd.bs.ch//nm/2020-tagesbulletin-coronavirus-unveraendert-985-bestaetigte-faelle-im-kanton-basel-stadt-gd-2.html',\n       'https://www.gd.bs.ch//nm/2020-tagesbulletin-coronavirus-unveraendert-985-bestaetigte-faelle-im-kanton-basel-stadt-gd-3.html',\n       'https://www.gd.bs.ch//nm/2020-tagesbulletin-coronavirus-unveraendert-985-bestaetigte-faelle-im-kanton-basel-stadt-gd-4.html',\n       'https://www.gesundheit.bs.ch',\n       'https://www.gesundheit.bs.ch https://www.bag.admin.ch/dam/bag/de/dokumente/mt/k-und-i/aktuelle-ausbrueche-pandemien/2019-nCoV/bisherige-lageberichte-zip.zip.download.zip/Epidemiologische_Lage_Schweiz.zip',\n       'https://www.gesundheit.bs.ch https://www.bag.admin.ch/dam/bag/de/dokumente/mt/k-und-i/aktuelle-ausbrueche-pandemien/2019-nCoV/covid-19-woechentlicher-lagebericht.pdf.download.pdf/BAG_COVID-19_Woechentliche_Lage.pdf',\n       'https://www.gl.ch/public/upload/assets/31286/Sentinellabericht%20KW%2040%20ohne%20Erg%C3%A4nzungen.pdf',\n       'https://www.gl.ch/public/upload/assets/31286/Sentinella%20Bericht%20KW41.pdf',\n       'https://www.gl.ch/public/upload/assets/31558/Sentinella%20Bericht%20KW42.pdf',\n       'https://www.gl.ch/public/upload/assets/27018/Sentinella%20Bericht%20KW43.pdf',\n       'https://www.gl.ch/public/upload/assets/31866/Sentinella%20Bericht%20KW44.pdf',\n       'https://www.gl.ch/public/upload/assets/31992/Sentinella%20Bericht%20KW45.pdf',\n       'https://www.gl.ch/public/upload/assets/32073/Sentinella%20Bericht%20KW46.pdf',\n       'https://www.gl.ch/public/upload/assets/32176/Sentinella%20Bericht%20KW47.pdf',\n       'https://www.gl.ch/public/upload/assets/32315/Sentinella%20Bericht%20KW48.pdf',\n       'https://corona.so.ch/fileadmin/internet/staatskanzlei/stk-komm/Dokumente/2020/Corona/Neue_Webseite/Fallzahlen/2020_1102_Woechentlicher_Situationsbericht.pdf',\n       'https://www.gl.ch/public/upload/assets/32875/Sentinella%20Bericht%20KW49.pdf',\n       'https://www.gl.ch/public/upload/assets/33581/Sentinella%20Bericht%20KW50.pdf',\n       'https://www.llv.li/files/ag/aktuelle-fallzahlen.pdf',\n       'https://www.gl.ch/public/upload/assets/33720/Sentinella%20Bericht%20KW52.pdf',\n       'https://www.gl.ch/public/upload/assets/39271/Sentinella_kw50.pdf?fp=1',\n       'https://www.gl.ch/public/upload/assets/39375/Sentinella%20Bericht%20KW51.pdf?fp=1',\n       'https://www.regierung.li/media/attachments/749-corona-situationsbericht-1219.pdf',\n       'https://www.gl.ch/public/upload/assets/39495/Sentinella_Kw52.pdf?fp=1',\n       'https://www.regierung.li/de/mitteilungen/224098/?typ=content&nid=11076',\n       'https://www.regierung.li/de/mitteilungen/224099/?typ=content&nid=11076',\n       'https://www.gl.ch/public/upload/assets/39576/Sentinella_KW1.pdf?fp=1',\n       'https://www.gl.ch/public/upload/assets/34288/Sentinella%20Bericht%20KW4.pdf',\n       'https://www.ow.ch/de/verwaltung/dienstleistungen/?dienst_id=5962',\n       'https://www.gl.ch/public/upload/assets/34478/Sentinella%20Bericht%20KW5.pdf',\n       'https://www.gl.ch/public/upload/assets/34570/Sentinella%20Bericht%20KW6.pdf',\n       'https://www.gl.ch/public/upload/assets/34703/Sentinella%20Bericht%20KW7.pdf',\n       'https://www.gl.ch/public/upload/assets/34778/Sentinella%20Bericht%20KW8.pdf',\n       'https://www.gl.ch/public/upload/assets/34985/Sentinella%20Bericht%20KW9.pdf',\n       'https://www.gl.ch/public/upload/assets/35098/Sentinella%20Bericht%20KW10.pdf',\n       'https://www.gl.ch/public/upload/assets/35191/Sentinella%20Bericht%20KW11.pdf',\n       'https://www.gl.ch/public/upload/assets/35263/Sentinella%20Bericht%20KW12.pdf',\n       'https://www.gl.ch/public/upload/assets/35341/Sentinella%20Bericht%20KW13.pdf',\n       'https://www.gl.ch/public/upload/assets/35579/Sentinella%20Bericht%20KW15.pdf',\n       'https://www.gl.ch/public/upload/assets/35659/Sentinella%20Bericht%20KW16.pdf',\n       'https://corona.so.ch/fileadmin/internet/staatskanzlei/stk-komm/Dokumente/2020/Corona/Neue_Webseite/Fallzahlen/2021_0329_Woechentlicher_Situationsbericht.pdf',\n       'https://corona.so.ch/bevoelkerung/daten/',\n       'https://www.gl.ch/public/upload/assets/35756/Sentinella%20Bericht%20KW17.pdf',\n       'https://corona.so.ch/fileadmin/internet/staatskanzlei/stk-komm/Dokumente/2020/Corona/Neue_Webseite/Fallzahlen/2021_0405_Woechentlicher_Situationsbericht.pdf',\n       'https://www.gl.ch/public/upload/assets/35891/Sentinella%20Bericht%20KW18.pdf',\n       'https://corona.so.ch/fileadmin/internet/staatskanzlei/stk-komm/Dokumente/2020/Corona/Neue_Webseite/Fallzahlen/2021_0412_Woechentlicher_Situationsbericht.pdf',\n       'https://www.gl.ch/public/upload/assets/35967/Sentinella%20Bericht%20KW19.pdf',\n       'https://corona.so.ch/fileadmin/corona/Bevoelkerung/Daten/Woechentlicher_Situationsbericht/2021_0419_Woechentlicher_Situationsbericht.pdf',\n       'https://www.gl.ch/public/upload/assets/36048/Sentinella%20Bericht%20KW20.pdf',\n       'https://corona.so.ch/fileadmin/corona/Bevoelkerung/Daten/Woechentlicher_Situationsbericht/2021_0426_Woechentlicher_Situationsbericht.pdf',\n       'https://www.gl.ch/public/upload/assets/36144/Sentinella%20Bericht%20KW21.pdf',\n       'https://corona.so.ch/fileadmin/corona/Bevoelkerung/Daten/Woechentlicher_Situationsbericht/0305_2021_Woechentlicher_Situationsbericht.pdf',\n       'https://www.gl.ch/public/upload/assets/36207/Sentinella%20Bericht%20KW22.pdf',\n       'https://corona.so.ch/fileadmin/corona/Bevoelkerung/Daten/Woechentlicher_Situationsbericht/1005_2021_Woechentlicher_Situationsbericht.pdf',\n       'https://www.gl.ch/public/upload/assets/36335/Sentinella%20Bericht%20KW23.pdf',\n       'https://corona.so.ch/fileadmin/corona/Bevoelkerung/Daten/Woechentlicher_Situationsbericht/_2021_0517_Woechentlicher_Situationsbericht.pdf',\n       'https://www.gl.ch/public/upload/assets/36481/Sentinella%20Bericht%20KW24.pdf',\n       'https://corona.so.ch/fileadmin/corona/Bevoelkerung/Daten/Woechentlicher_Situationsbericht/2021_0524_Woechentlicher_Situationsbericht.pdf',\n       'https://www.gl.ch/public/upload/assets/36569/Sentinella%20Bericht%20KW25.pdf',\n       'https://www.gl.ch/public/upload/assets/36742/Sentinella%20Bericht%20KW26.pdf',\n       'https://www.gl.ch/public/upload/assets/36814/Sentinella%20Bericht%20KW27.pdf',\n       'https://www.gl.ch/public/upload/assets/36840/Sentinella%20Bericht%20KW28.pdf',\n       'https://www.gl.ch/public/upload/assets/36917/Sentinella%20Bericht%20KW29.pdf',\n       'https://www.infosan.vd.ch/fileadmin/2-PUBLICATIONS/SANTE_POPULATION/20210706_COVID_Bulletin_hebdomadaire_epidemio.pdf',\n       'https://www.gl.ch/public/upload/assets/36985/Sentinella%20Bericht%20KW31.pdf',\n       'https://www.infosan.vd.ch/fileadmin/2-PUBLICATIONS/SANTE_POPULATION/SSP_20210713_COVID_Bulletin_hebdomadaire_epidemio.pdf',\n       'https://www.gl.ch/public/upload/assets/37221/Sentinella%20Bericht%20KW32.pdf',\n       'https://www.infosan.vd.ch/fileadmin/2-PUBLICATIONS/SANTE_POPULATION/SSP_20210720_COVID_Bulletin_hebdomadaire_epidemio.pdf',\n       'https://www.gl.ch/public/upload/assets/37317/Sentinella%20GL%20KW33.pdf',\n       'https://www.infosan.vd.ch/fileadmin/2-PUBLICATIONS/SANTE_POPULATION/SSP_20210725_COVID_Bulletin_hebdomadaire_epidemio.pdf',\n       'https://www.gl.ch/public/upload/assets/37447/Sentinella%20GL%20KW34.pdf',\n       'https://www.infosan.vd.ch/fileadmin/2-PUBLICATIONS/SANTE_POPULATION/SSP_20210801_COVID_Bulletin_hebdomadaire_epidemio.pdf',\n       'https://www.gl.ch/public/upload/assets/37549/Sentinella%20GL%20KW35.pdf',\n       'https://www.infosan.vd.ch/fileadmin/2-PUBLICATIONS/SANTE_POPULATION/SSP_20210810_COVID_Bulletin_hebdomadaire_epidemio.pdf',\n       'https://www.gl.ch/public/upload/assets/37658/Sentinella%20KW36.pdf',\n       'https://www.infosan.vd.ch/fileadmin/2-PUBLICATIONS/SANTE_POPULATION/SSP_20210815_COVID_Bulletin_hebdomadaire_epidemio.pdf',\n       'https://www.gl.ch/public/upload/assets/37764/Sentinella%20GL%20KW37.pdf',\n       'https://www.infosan.vd.ch/fileadmin/2-PUBLICATIONS/SANTE_POPULATION/SSP_20210822_COVID_Bulletin_hebdomadaire_epidemio.pdf',\n       'https://www.gl.ch/public/upload/assets/37877/Sentinella%20GL%20KW38.pdf',\n       'https://www.infosan.vd.ch/fileadmin/2-PUBLICATIONS/SANTE_POPULATION/SSP_20210829_COVID_Bulletin_hebdomadaire_epidemio.pdf',\n       'https://corona.so.ch/fileadmin/corona/Bevoelkerung/Daten/Woechentlicher_Situationsbericht/2021_0830_Woechentlicher_Situationsbericht__.pdf',\n       'https://www.gl.ch/public/upload/assets/37973/Sentinella%20GL%20KW39.pdf',\n       'https://www.infosan.vd.ch/fileadmin/2-PUBLICATIONS/SANTE_POPULATION/SSP_20210905_COVID_Bulletin_hebdomadaire_epidemio.pdf',\n       'https://corona.so.ch/fileadmin/corona/Bevoelkerung/Daten/Woechentlicher_Situationsbericht/2021_0906_Woechentlicher_Situationsbericht__.pdf',\n       'https://www.gl.ch/public/upload/assets/38160/Sentinella%20GL%20KW40.pdf',\n       'https://www.infosan.vd.ch/fileadmin/2-PUBLICATIONS/SANTE_POPULATION/SSP_20210912_COVID_Bulletin_hebdomadaire_epidemio.pdf',\n       'https://corona.so.ch/fileadmin/corona/Bevoelkerung/Daten/Woechentlicher_Situationsbericht/2021_0913_Woechentlicher_Situationsbericht__.pdf',\n       'https://www.gl.ch/public/upload/assets/38285/Sentinella%20GL%20KW41.pdf',\n       'https://www.infosan.vd.ch/fileadmin/2-PUBLICATIONS/SANTE_POPULATION/SSP_20210921_COVID_Bulletin_hebdomadaire_epidemio.pdf',\n       'https://corona.so.ch/fileadmin/corona/Bevoelkerung/Daten/Woechentlicher_Situationsbericht/2021_0920_Woechentlicher_Situationsbericht__.pdf',\n       'https://www.gl.ch/public/upload/assets/38381/Sentinella%20GL%20KW42.pdf',\n       'https://www.infosan.vd.ch/fileadmin/2-PUBLICATIONS/SANTE_POPULATION/SSP_20210928_COVID_Bulletin_hebdomadaire_epidemio.pdf',\n       'https://corona.so.ch/fileadmin/corona/Bevoelkerung/Daten/Woechentlicher_Situationsbericht/2021_0927_Woechentlicher_Situationsbericht__.pdf',\n       'https://www.gl.ch/public/upload/assets/38467/Sentinella%20GL%20KW43.pdf',\n       'https://www.infosan.vd.ch/fileadmin/2-PUBLICATIONS/SANTE_POPULATION/SSP_20211005_COVID_Bulletin_hebdomadaire_epidemio.pdf',\n       'https://corona.so.ch/fileadmin/corona/Bevoelkerung/Daten/Woechentlicher_Situationsbericht/2021_1004_Woechentlicher_Situationsbericht__.pdf',\n       'https://www.gl.ch/public/upload/assets/38579/Sentinella%20GL%20KW44.pdf',\n       'https://www.infosan.vd.ch/fileadmin/2-PUBLICATIONS/SANTE_POPULATION/20211012_COVID_Bulletin_hebdomadaire_epidemio.pdf',\n       'https://corona.so.ch/fileadmin/corona/Bevoelkerung/Daten/Woechentlicher_Situationsbericht/2021_1011_Woechentlicher_Situationsbericht__.pdf',\n       'https://www.gl.ch/public/upload/assets/38724/Sentinella%20GL%20KW45.pdf?fp=1',\n       'https://www.infosan.vd.ch/fileadmin/2-PUBLICATIONS/SANTE_POPULATION/SSP_20211019_COVID_Bulletin_hebdomadaire_epidemio.pdf',\n       'https://corona.so.ch/fileadmin/corona/Bevoelkerung/Daten/Woechentlicher_Situationsbericht/2021_1018_Woechentlicher_Situationsbericht__.pdf',\n       'https://www.infosan.vd.ch/fileadmin/2-PUBLICATIONS/SANTE_POPULATION/SSP_20211026_COVID_Bulletin_hebdomadaire_epidemio.pdf',\n       'https://corona.so.ch/fileadmin/corona/Bevoelkerung/Daten/Woechentlicher_Situationsbericht/2021_1025_Woechentlicher_Situationsbericht__.pdf',\n       'https://www.infosan.vd.ch/fileadmin/2-PUBLICATIONS/SANTE_POPULATION/SSP_20211102_COVID_Bulletin_hebdomadaire_epidemio.pdf',\n       'https://corona.so.ch/fileadmin/corona/Bevoelkerung/Daten/Woechentlicher_Situationsbericht/2021_1101_Woechentlicher_Situationsbericht__.pdf',\n       'https://www.infosan.vd.ch/fileadmin/2-PUBLICATIONS/SANTE_POPULATION/SSP_20211109_COVID_Bulletin_hebdomadaire_epidemio.pdf',\n       'https://corona.so.ch/fileadmin/corona/Bevoelkerung/Daten/Woechentlicher_Situationsbericht/2021_1108_Woechentlicher_Situationsbericht__.pdf',\n       'https://www.infosan.vd.ch/fileadmin/2-PUBLICATIONS/SANTE_POPULATION/SSP_20211116_COVID_Bulletin_hebdomadaire_epidemio.pdf',\n       'https://corona.so.ch/fileadmin/corona/Bevoelkerung/Daten/Woechentlicher_Situationsbericht/2021_1115_Woechentlicher_Situationsbericht__.pdf',\n       'https://www.infosan.vd.ch/fileadmin/2-PUBLICATIONS/SANTE_POPULATION/SSP_20211123_COVID_Bulletin_hebdomadaire_epidemio.pdf',\n       'https://corona.so.ch/fileadmin/corona/Bevoelkerung/Daten/Woechentlicher_Situationsbericht/2021_1122_Woechentlicher_Situationsbericht__.pdf',\n       'https://www.infosan.vd.ch/fileadmin/2-PUBLICATIONS/SANTE_POPULATION/SSP_20211130_COVID_Bulletin_hebdomadaire_epidemio.pdf',\n       'https://corona.so.ch/fileadmin/corona/Bevoelkerung/Daten/Woechentlicher_Situationsbericht/2021_1129_Woechentlicher_Situationsbericht__.pdf',\n       'https://www.gl.ch/public/upload/assets/39196/Sentinella%20GL%20KW49.pdf?fp=1',\n       'https://www.infosan.vd.ch/fileadmin/2-PUBLICATIONS/SANTE_POPULATION/SSP_20211207_COVID_Bulletin_hebdomadaire_epidemio.pdf',\n       'https://corona.so.ch/fileadmin/corona/Bevoelkerung/Daten/Woechentlicher_Situationsbericht/2021_1206_Woechentlicher_Situationsbericht__.pdf',\n       'https://www.infosan.vd.ch/fileadmin/2-PUBLICATIONS/SANTE_POPULATION/SSP_20211212_COVID_Bulletin_hebdomadaire_epidemio.pdf',\n       'https://corona.so.ch/fileadmin/corona/Bevoelkerung/Daten/Woechentlicher_Situationsbericht/2021_1213_Woechentlicher_Situationsbericht__.pdf',\n       'https://www.infosan.vd.ch/fileadmin/2-PUBLICATIONS/SANTE_POPULATION/SSP_20211221_COVID_Bulletin_hebdomadaire_epidemio.pdf',\n       'https://corona.so.ch/fileadmin/corona/Bevoelkerung/Daten/Woechentlicher_Situationsbericht/2021_1220_Woechentlicher_Situationsbericht__.pdf',\n       'https://www.infosan.vd.ch/fileadmin/2-PUBLICATIONS/SANTE_POPULATION/SSP_20220104_COVID_Bulletin_hebdomadaire_epidemio.pdf',\n       'https://corona.so.ch/fileadmin/corona/Bevoelkerung/Daten/Woechentlicher_Situationsbericht/2022_0103_Woechentlicher_Situationsbericht__.pdf',\n       'https://www.gl.ch/public/upload/assets/39832/Sentinella_kw2.pdf?fp=1',\n       'https://www.infosan.vd.ch/fileadmin/2-PUBLICATIONS/SANTE_POPULATION/SSP_20220111_COVID_Bulletin_hebdomadaire_epidemio.pdf',\n       'https://corona.so.ch/fileadmin/corona/Bevoelkerung/Daten/Woechentlicher_Situationsbericht/2022_0110_Woechentlicher_Situationsbericht__.xlsx.pdf',\n       'https://www.gl.ch/public/upload/assets/39935/Sentinella_kw3.pdf?fp=1',\n       'https://www.infosan.vd.ch/fileadmin/2-PUBLICATIONS/SANTE_POPULATION/SSP_20220118_COVID_Bulletin_hebdomadaire_epidemio.pdf',\n       'https://corona.so.ch/fileadmin/corona/Bevoelkerung/Daten/Woechentlicher_Situationsbericht/2022_0117_Woechentlicher_Situationsbericht__.pdf',\n       'https://www.gl.ch/public/upload/assets/40012/Sentinella_kw4.pdf?fp=1',\n       'https://www.infosan.vd.ch/fileadmin/2-PUBLICATIONS/SANTE_POPULATION/SSP_20220125_COVID_Bulletin_hebdomadaire_epidemio.pdf',\n       'https://corona.so.ch/fileadmin/corona/Bevoelkerung/Daten/Woechentlicher_Situationsbericht/1_2022_0124_Woechentlicher_Situationsbericht__.pdf',\n       'https://www.infosan.vd.ch/fileadmin/2-PUBLICATIONS/SANTE_POPULATION/SSP_20220130_COVID_Bulletin_hebdomadaire_epidemio.pdf',\n       'https://corona.so.ch/fileadmin/corona/Bevoelkerung/Daten/Woechentlicher_Situationsbericht/2022_0131_Woechentlicher_Situationsbericht__.pdf',\n       'https://www.infosan.vd.ch/fileadmin/2-PUBLICATIONS/SANTE_POPULATION/SSP_20220206_COVID_Bulletin_hebdomadaire_epidemio.pdf',\n       'https://corona.so.ch/fileadmin/corona/Bevoelkerung/Daten/Woechentlicher_Situationsbericht/2022_0207_Woechentlicher_Situationsbericht__.pdf',\n       'https://www.infosan.vd.ch/fileadmin/2-PUBLICATIONS/SANTE_POPULATION/SSP_20220213_COVID_Bulletin_hebdomadaire_epidemio.pdf',\n       'https://corona.so.ch/fileadmin/corona/Bevoelkerung/Daten/Woechentlicher_Situationsbericht/2022_0214_Woechentlicher_Situationsbericht__.pdf',\n       'https://www.infosan.vd.ch/fileadmin/2-PUBLICATIONS/SANTE_POPULATION/SSP_20220222_COVID_Bulletin_hebdomadaire_epidemio.pdf',\n       'https://corona.so.ch/fileadmin/corona/Bevoelkerung/Daten/Woechentlicher_Situationsbericht/2022_0221_Woechentlicher_Situationsbericht__.pdf',\n       'https://www.infosan.vd.ch/fileadmin/2-PUBLICATIONS/SANTE_POPULATION/SSP_20220301_COVID_Bulletin_hebdomadaire_epidemio.pdf',\n       'https://corona.so.ch/fileadmin/corona/Bevoelkerung/Daten/Woechentlicher_Situationsbericht/2022_0228_Woechentlicher_Situationsbericht__.pdf',\n       'https://www.infosan.vd.ch/fileadmin/2-PUBLICATIONS/SANTE_POPULATION/SSP_20220306_COVID_Bulletin_hebdomadaire_epidemio.pdf',\n       'https://corona.so.ch/fileadmin/corona/Bevoelkerung/Daten/Woechentlicher_Situationsbericht/2022_0307_Woechentlicher_Situationsbericht__.pdf',\n       'https://www.infosan.vd.ch/fileadmin/2-PUBLICATIONS/SANTE_POPULATION/SSP_20220315_COVID_Bulletin_hebdomadaire_epidemio.pdf',\n       'https://corona.so.ch/fileadmin/corona/Bevoelkerung/Daten/Woechentlicher_Situationsbericht/2022_0314_Woechentlicher_Situationsbericht__.pdf',\n       'https://www.infosan.vd.ch/fileadmin/2-PUBLICATIONS/SANTE_POPULATION/SSP_20220322_COVID_Bulletin_hebdomadaire_epidemio.pdf',\n       'https://corona.so.ch/fileadmin/corona/Bevoelkerung/Daten/Woechentlicher_Situationsbericht/2022_0321_Woechentlicher_Situationsbericht__.pdf',\n       'https://www.infosan.vd.ch/fileadmin/2-PUBLICATIONS/SANTE_POPULATION/SSP_20220327_COVID_Bulletin_hebdomadaire_epidemio.pdf',\n       'https://corona.so.ch/fileadmin/corona/Bevoelkerung/Daten/Woechentlicher_Situationsbericht/2022_0328_Woechentlicher_Situationsbericht__.pdf',\n       'https://corona.so.ch/fileadmin/corona/Bevoelkerung/Daten/Woechentlicher_Situationsbericht/2022_0404_Woechentlicher_Situationsbericht__.pdf',\n       'https://www.infosan.vd.ch/fileadmin/2-PUBLICATIONS/SANTE_POPULATION/SSP_20220412_COVID_Bulletin_hebdomadaire_epidemio.pdf',\n       'https://www.infosan.vd.ch/fileadmin/2-PUBLICATIONS/SANTE_POPULATION/SSP_20220427_COVID_Bulletin_hebdomadaire_epidemio.pdf',\n       'https://www.infosan.vd.ch/fileadmin/2-PUBLICATIONS/SANTE_POPULATION/SSP_20220501_COVID_Bulletin_hebdomadaire_epidemio.pdf',\n       'https://www.infosan.vd.ch/fileadmin/2-PUBLICATIONS/SANTE_POPULATION/SSP_20220508_COVID_Bulletin_hebdomadaire_epidemio.pdf',\n       'https://www.infosan.vd.ch/fileadmin/2-PUBLICATIONS/SANTE_POPULATION/SSP_20220515_COVID_Bulletin_hebdomadaire_epidemio.pdf',\n       'https://www.infosan.vd.ch/fileadmin/2-PUBLICATIONS/SANTE_POPULATION/SSP_20220524_COVID_Bulletin_hebdomadaire_epidemio.pdf',\n       'https://www.infosan.vd.ch/fileadmin/2-PUBLICATIONS/SANTE_POPULATION/SSP_20220531_COVID_Bulletin_hebdomadaire_epidemio.pdf',\n       'https://www.infosan.vd.ch/fileadmin/2-PUBLICATIONS/SANTE_POPULATION/SSP_20220605_COVID_Bulletin_hebdomadaire_epidemio.pdf',\n       'https://www.infosan.vd.ch/fileadmin/2-PUBLICATIONS/SANTE_POPULATION/SSP_20220614_COVID_Bulletin_hebdomadaire_epidemio.pdf',\n       'https://www.infosan.vd.ch/fileadmin/2-PUBLICATIONS/SANTE_POPULATION/SSP_20220619_COVID_Bulletin_hebdomadaire_epidemio.pdf',\n       'https://www.infosan.vd.ch/fileadmin/2-PUBLICATIONS/SANTE_POPULATION/SSP_20220628_COVID_Bulletin_hebdomadaire_epidemio.pdf',\n       'https://www.infosan.vd.ch/fileadmin/2-PUBLICATIONS/SANTE_POPULATION/SSP_20220705_COVID_Bulletin_hebdomadaire_epidemio.pdf',\n       'https://www.infosan.vd.ch/fileadmin/2-PUBLICATIONS/SANTE_POPULATION/SSP_20220712_COVID_Bulletin_hebdomadaire_epidemio.pdf',\n       'https://www.infosan.vd.ch/fileadmin/2-PUBLICATIONS/SANTE_POPULATION/SSP_20220717_COVID_Bulletin_hebdomadaire_epidemio.pdf',\n       'https://www.infosan.vd.ch/fileadmin/2-PUBLICATIONS/SANTE_POPULATION/SSP_20220724_COVID_Bulletin_hebdomadaire_epidemio.pdf',\n       'https://www.infosan.vd.ch/fileadmin/2-PUBLICATIONS/SANTE_POPULATION/SSP_20220731_COVID_Bulletin_hebdomadaire_epidemio.pdf',\n       'https://www.infosan.vd.ch/fileadmin/2-PUBLICATIONS/SANTE_POPULATION/SSP_20220807_COVID_Bulletin_hebdomadaire_epidemio.pdf',\n       'https://www.nw.ch/gesundheitsamtdienste/6044',\n       'https://www.infosan.vd.ch/fileadmin/2-PUBLICATIONS/SANTE_POPULATION/SSP_20220814_COVID_Bulletin_hebdomadaire_epidemio.pdf',\n       'https://www.infosan.vd.ch/fileadmin/2-PUBLICATIONS/SANTE_POPULATION/SSP_20220823_COVID_Bulletin_hebdomadaire_epidemio.pdf',\n       'https://www.infosan.vd.ch/fileadmin/2-PUBLICATIONS/SANTE_POPULATION/SSP_20220830_COVID_Bulletin_hebdomadaire_epidemio.pdf',\n       'https://www.infosan.vd.ch/fileadmin/2-PUBLICATIONS/SANTE_POPULATION/SSP_20220906_COVID_Bulletin_hebdomadaire_epidemio.pdf',\n       'https://www.infosan.vd.ch/fileadmin/2-PUBLICATIONS/SANTE_POPULATION/SSP_20220911_COVID_Bulletin_hebdomadaire_epidemio.pdf',\n       'https://www.infosan.vd.ch/fileadmin/2-PUBLICATIONS/SANTE_POPULATION/SSP_20220920_COVID_Bulletin_hebdomadaire_epidemio.pdf',\n       'https://www.infosan.vd.ch/fileadmin/2-PUBLICATIONS/SANTE_POPULATION/SSP_20220925_COVID_Bulletin_hebdomadaire_epidemio.pdf',\n       'https://www.infosan.vd.ch/fileadmin/2-PUBLICATIONS/SANTE_POPULATION/SSP_20221002_COVID_Bulletin_hebdomadaire_epidemio.pdf',\n       'https://www.infosan.vd.ch/fileadmin/2-PUBLICATIONS/SANTE_POPULATION/SSP_20221012_COVID_Bulletin_hebdomadaire_epidemio.pdf',\n       'https://www.infosan.vd.ch/fileadmin/2-PUBLICATIONS/SANTE_POPULATION/SSP_20221016_COVID_Bulletin_hebdomadaire_epidemio.pdf',\n       'https://www.infosan.vd.ch/fileadmin/2-PUBLICATIONS/SANTE_POPULATION/SSP_20221026_COVID_Bulletin_hebdomadaire_epidemio.pdf',\n       'https://www.infosan.vd.ch/fileadmin/2-PUBLICATIONS/SANTE_POPULATION/SSP_20221101_COVID_Bulletin_hebdomadaire_epidemio.pdf',\n       'https://www.infosan.vd.ch/fileadmin/2-PUBLICATIONS/SANTE_POPULATION/SSP_20221106_COVID_Bulletin_hebdomadaire_epidemio.pdf',\n       'https://www.infosan.vd.ch/fileadmin/2-PUBLICATIONS/SANTE_POPULATION/SSP_20221113_COVID_Bulletin_hebdomadaire_epidemio.pdf',\n       'https://www.infosan.vd.ch/fileadmin/2-PUBLICATIONS/SANTE_POPULATION/SSP_20221122_COVID_Bulletin_hebdomadaire_epidemio.pdf',\n       'https://www.infosan.vd.ch/fileadmin/2-PUBLICATIONS/SANTE_POPULATION/SSP_20221127_COVID_Bulletin_hebdomadaire_epidemio.pdf',\n       'https://www.infosan.vd.ch/fileadmin/2-PUBLICATIONS/SANTE_POPULATION/SSP_20221206_COVID_Bulletin_hebdomadaire_epidemio.pdf',\n       'https://www.infosan.vd.ch/fileadmin/2-PUBLICATIONS/SANTE_POPULATION/SSP_20221213_COVID_Bulletin_hebdomadaire_epidemio.pdf',\n       'https://www.infosan.vd.ch/fileadmin/2-PUBLICATIONS/SANTE_POPULATION/SSP_20221218_COVID_Bulletin_hebdomadaire_epidemio.pdf',\n       'https://www.infosan.vd.ch/fileadmin/2-PUBLICATIONS/SANTE_POPULATION/SSP_20230108_COVID_Bulletin_hebdomadaire_epidemio.pdf',\n       'https://www.infosan.vd.ch/fileadmin/2-PUBLICATIONS/SANTE_POPULATION/SSP_20230115_COVID_Bulletin_hebdomadaire_epidemio.pdf',\n       'https://www.infosan.vd.ch/fileadmin/2-PUBLICATIONS/SANTE_POPULATION/SSP_20230124_COVID_Bulletin_hebdomadaire_epidemio.pdf',\n       'https://www.infosan.vd.ch/fileadmin/2-PUBLICATIONS/SANTE_POPULATION/SSP_20230129_COVID_Bulletin_hebdomadaire_epidemio.pdf'],\n      dtype=object)"
     },
     "execution_count": 32,
     "metadata": {},
     "output_type": "execute_result"
    }
   ],
   "source": [
    "# Hint: we have already done this for different column earlier\n",
    "covid_data['source'].unique()"
   ]
  },
  {
   "cell_type": "code",
   "execution_count": 33,
   "metadata": {
    "id": "X37DH_BOf56R",
    "ExecuteTime": {
     "end_time": "2024-02-22T16:58:16.002033Z",
     "start_time": "2024-02-22T16:58:15.995934Z"
    }
   },
   "outputs": [
    {
     "data": {
      "text/plain": "340"
     },
     "execution_count": 33,
     "metadata": {},
     "output_type": "execute_result"
    }
   ],
   "source": [
    "# the `.unique` method returns a numpy array, you can use the built-in `len` function to check its length\n",
    "len(covid_data['source'].unique())"
   ]
  },
  {
   "cell_type": "markdown",
   "metadata": {
    "id": "r8lBYndpgBUD"
   },
   "source": [
    "<mark>In **MOODLE**</mark>:\n",
    "* report the number of unique values in the `source` column."
   ]
  },
  {
   "cell_type": "markdown",
   "metadata": {
    "id": "5I-kcGHccbVN"
   },
   "source": [
    "Let us try making this data more digestable by extracting the domain information."
   ]
  },
  {
   "cell_type": "markdown",
   "metadata": {
    "id": "WKLedFgLclAw"
   },
   "source": [
    "For this we will use the following helper function:"
   ]
  },
  {
   "cell_type": "code",
   "execution_count": 34,
   "metadata": {
    "id": "STSpySHsbola",
    "ExecuteTime": {
     "end_time": "2024-02-22T16:58:43.049395Z",
     "start_time": "2024-02-22T16:58:43.046123Z"
    }
   },
   "outputs": [
    {
     "name": "stdout",
     "output_type": "stream",
     "text": [
      "www.baselland.ch\n"
     ]
    }
   ],
   "source": [
    "from urllib.parse import urlparse\n",
    "def extract_netloc(url):\n",
    "  return urlparse(url).netloc\n",
    "\n",
    "# lets try it out\n",
    "url = 'https://www.baselland.ch/politik-und-behorden/direktionen/volkswirtschafts-und-gesundheitsdirektion/amt-fur-gesundheit/medizinische-dienste/kantonsarztlicher-dienst/aktuelles/covid-19-faelle-kanton-basel-landschaft'\n",
    "print(extract_netloc(url))"
   ]
  },
  {
   "cell_type": "markdown",
   "metadata": {
    "id": "StEIho00dDML"
   },
   "source": [
    "We can apply this function to the `source` column to replace it with a cleaned version:"
   ]
  },
  {
   "cell_type": "code",
   "execution_count": 35,
   "metadata": {
    "id": "_d_ebNb_dMfv",
    "ExecuteTime": {
     "end_time": "2024-02-22T16:58:55.852641Z",
     "start_time": "2024-02-22T16:58:55.806778Z"
    }
   },
   "outputs": [
    {
     "data": {
      "text/plain": "             date   time abbreviation_canton_and_fl  ncumul_tested  \\\n0      2020-02-01  00:00                         GE          109.0   \n1      2020-02-02  00:00                         GE          115.0   \n2      2020-02-03  00:00                         GE          136.0   \n3      2020-02-04  00:00                         GE          156.0   \n4      2020-02-05  00:00                         GE          169.0   \n...           ...    ...                        ...            ...   \n24036  2023-09-10  00:00                         NE            0.0   \n24037  2023-09-10  00:00                         GE       187408.0   \n24038  2023-09-11  00:00                         NE            0.0   \n24039  2023-09-11  00:00                         GE       187408.0   \n24040  2023-09-12  00:00                         GE       187408.0   \n\n       ncumul_conf  new_hosp  current_hosp  current_icu  current_vent  \\\n0              0.0       0.0           0.0          0.0           0.0   \n1              0.0       0.0           0.0          0.0           0.0   \n2              0.0       0.0           0.0          0.0           0.0   \n3              0.0       0.0           0.0          0.0           0.0   \n4              0.0       0.0           0.0          0.0           0.0   \n...            ...       ...           ...          ...           ...   \n24036      92697.0       0.0           4.0          1.0           0.0   \n24037     251154.0       0.0          60.0          1.0           1.0   \n24038      92700.0       0.0           9.0          1.0           0.0   \n24039     251162.0       0.0          66.0          1.0           1.0   \n24040     251178.0       0.0          60.0          1.0           1.0   \n\n       ncumul_released  ncumul_deceased                  source  \\\n0                  0.0              0.0  infocovid.smc.unige.ch   \n1                  0.0              0.0  infocovid.smc.unige.ch   \n2                  0.0              0.0  infocovid.smc.unige.ch   \n3                  0.0              0.0  infocovid.smc.unige.ch   \n4                  0.0              0.0  infocovid.smc.unige.ch   \n...                ...              ...                     ...   \n24036              0.0            496.0               www.ne.ch   \n24037            973.0            959.0  infocovid.smc.unige.ch   \n24038              0.0            496.0               www.ne.ch   \n24039            973.0            959.0  infocovid.smc.unige.ch   \n24040            973.0            959.0  infocovid.smc.unige.ch   \n\n       current_isolated  current_quarantined  \\\n0                   1.0                  0.0   \n1                   1.0                  0.0   \n2                   1.0                  0.0   \n3                   1.0                  0.0   \n4                   1.0                  0.0   \n...                 ...                  ...   \n24036               0.0                  0.0   \n24037            1816.0                  0.0   \n24038               0.0                  0.0   \n24039            1816.0                  0.0   \n24040            1816.0                  0.0   \n\n       current_quarantined_riskareatravel  \n0                                     0.0  \n1                                     0.0  \n2                                     0.0  \n3                                     0.0  \n4                                     0.0  \n...                                   ...  \n24036                                 0.0  \n24037                                 0.0  \n24038                                 0.0  \n24039                                 0.0  \n24040                                 0.0  \n\n[24041 rows x 15 columns]",
      "text/html": "<div>\n<style scoped>\n    .dataframe tbody tr th:only-of-type {\n        vertical-align: middle;\n    }\n\n    .dataframe tbody tr th {\n        vertical-align: top;\n    }\n\n    .dataframe thead th {\n        text-align: right;\n    }\n</style>\n<table border=\"1\" class=\"dataframe\">\n  <thead>\n    <tr style=\"text-align: right;\">\n      <th></th>\n      <th>date</th>\n      <th>time</th>\n      <th>abbreviation_canton_and_fl</th>\n      <th>ncumul_tested</th>\n      <th>ncumul_conf</th>\n      <th>new_hosp</th>\n      <th>current_hosp</th>\n      <th>current_icu</th>\n      <th>current_vent</th>\n      <th>ncumul_released</th>\n      <th>ncumul_deceased</th>\n      <th>source</th>\n      <th>current_isolated</th>\n      <th>current_quarantined</th>\n      <th>current_quarantined_riskareatravel</th>\n    </tr>\n  </thead>\n  <tbody>\n    <tr>\n      <th>0</th>\n      <td>2020-02-01</td>\n      <td>00:00</td>\n      <td>GE</td>\n      <td>109.0</td>\n      <td>0.0</td>\n      <td>0.0</td>\n      <td>0.0</td>\n      <td>0.0</td>\n      <td>0.0</td>\n      <td>0.0</td>\n      <td>0.0</td>\n      <td>infocovid.smc.unige.ch</td>\n      <td>1.0</td>\n      <td>0.0</td>\n      <td>0.0</td>\n    </tr>\n    <tr>\n      <th>1</th>\n      <td>2020-02-02</td>\n      <td>00:00</td>\n      <td>GE</td>\n      <td>115.0</td>\n      <td>0.0</td>\n      <td>0.0</td>\n      <td>0.0</td>\n      <td>0.0</td>\n      <td>0.0</td>\n      <td>0.0</td>\n      <td>0.0</td>\n      <td>infocovid.smc.unige.ch</td>\n      <td>1.0</td>\n      <td>0.0</td>\n      <td>0.0</td>\n    </tr>\n    <tr>\n      <th>2</th>\n      <td>2020-02-03</td>\n      <td>00:00</td>\n      <td>GE</td>\n      <td>136.0</td>\n      <td>0.0</td>\n      <td>0.0</td>\n      <td>0.0</td>\n      <td>0.0</td>\n      <td>0.0</td>\n      <td>0.0</td>\n      <td>0.0</td>\n      <td>infocovid.smc.unige.ch</td>\n      <td>1.0</td>\n      <td>0.0</td>\n      <td>0.0</td>\n    </tr>\n    <tr>\n      <th>3</th>\n      <td>2020-02-04</td>\n      <td>00:00</td>\n      <td>GE</td>\n      <td>156.0</td>\n      <td>0.0</td>\n      <td>0.0</td>\n      <td>0.0</td>\n      <td>0.0</td>\n      <td>0.0</td>\n      <td>0.0</td>\n      <td>0.0</td>\n      <td>infocovid.smc.unige.ch</td>\n      <td>1.0</td>\n      <td>0.0</td>\n      <td>0.0</td>\n    </tr>\n    <tr>\n      <th>4</th>\n      <td>2020-02-05</td>\n      <td>00:00</td>\n      <td>GE</td>\n      <td>169.0</td>\n      <td>0.0</td>\n      <td>0.0</td>\n      <td>0.0</td>\n      <td>0.0</td>\n      <td>0.0</td>\n      <td>0.0</td>\n      <td>0.0</td>\n      <td>infocovid.smc.unige.ch</td>\n      <td>1.0</td>\n      <td>0.0</td>\n      <td>0.0</td>\n    </tr>\n    <tr>\n      <th>...</th>\n      <td>...</td>\n      <td>...</td>\n      <td>...</td>\n      <td>...</td>\n      <td>...</td>\n      <td>...</td>\n      <td>...</td>\n      <td>...</td>\n      <td>...</td>\n      <td>...</td>\n      <td>...</td>\n      <td>...</td>\n      <td>...</td>\n      <td>...</td>\n      <td>...</td>\n    </tr>\n    <tr>\n      <th>24036</th>\n      <td>2023-09-10</td>\n      <td>00:00</td>\n      <td>NE</td>\n      <td>0.0</td>\n      <td>92697.0</td>\n      <td>0.0</td>\n      <td>4.0</td>\n      <td>1.0</td>\n      <td>0.0</td>\n      <td>0.0</td>\n      <td>496.0</td>\n      <td>www.ne.ch</td>\n      <td>0.0</td>\n      <td>0.0</td>\n      <td>0.0</td>\n    </tr>\n    <tr>\n      <th>24037</th>\n      <td>2023-09-10</td>\n      <td>00:00</td>\n      <td>GE</td>\n      <td>187408.0</td>\n      <td>251154.0</td>\n      <td>0.0</td>\n      <td>60.0</td>\n      <td>1.0</td>\n      <td>1.0</td>\n      <td>973.0</td>\n      <td>959.0</td>\n      <td>infocovid.smc.unige.ch</td>\n      <td>1816.0</td>\n      <td>0.0</td>\n      <td>0.0</td>\n    </tr>\n    <tr>\n      <th>24038</th>\n      <td>2023-09-11</td>\n      <td>00:00</td>\n      <td>NE</td>\n      <td>0.0</td>\n      <td>92700.0</td>\n      <td>0.0</td>\n      <td>9.0</td>\n      <td>1.0</td>\n      <td>0.0</td>\n      <td>0.0</td>\n      <td>496.0</td>\n      <td>www.ne.ch</td>\n      <td>0.0</td>\n      <td>0.0</td>\n      <td>0.0</td>\n    </tr>\n    <tr>\n      <th>24039</th>\n      <td>2023-09-11</td>\n      <td>00:00</td>\n      <td>GE</td>\n      <td>187408.0</td>\n      <td>251162.0</td>\n      <td>0.0</td>\n      <td>66.0</td>\n      <td>1.0</td>\n      <td>1.0</td>\n      <td>973.0</td>\n      <td>959.0</td>\n      <td>infocovid.smc.unige.ch</td>\n      <td>1816.0</td>\n      <td>0.0</td>\n      <td>0.0</td>\n    </tr>\n    <tr>\n      <th>24040</th>\n      <td>2023-09-12</td>\n      <td>00:00</td>\n      <td>GE</td>\n      <td>187408.0</td>\n      <td>251178.0</td>\n      <td>0.0</td>\n      <td>60.0</td>\n      <td>1.0</td>\n      <td>1.0</td>\n      <td>973.0</td>\n      <td>959.0</td>\n      <td>infocovid.smc.unige.ch</td>\n      <td>1816.0</td>\n      <td>0.0</td>\n      <td>0.0</td>\n    </tr>\n  </tbody>\n</table>\n<p>24041 rows × 15 columns</p>\n</div>"
     },
     "execution_count": 35,
     "metadata": {},
     "output_type": "execute_result"
    }
   ],
   "source": [
    "covid_data['source'] = covid_data['source'].apply(extract_netloc)\n",
    "covid_data"
   ]
  },
  {
   "cell_type": "code",
   "execution_count": 36,
   "metadata": {
    "id": "Z5wWKyoTdWTu",
    "ExecuteTime": {
     "end_time": "2024-02-22T16:59:13.402812Z",
     "start_time": "2024-02-22T16:59:13.398395Z"
    }
   },
   "outputs": [
    {
     "data": {
      "text/plain": "['',\n 'corona.so.ch',\n 'covid-kennzahlen.apps.be.ch',\n 'coviddashboard.sh.ch',\n 'docs.google.com',\n 'infocovid.smc.unige.ch',\n 'services1.arcgis.com',\n 'so.ch',\n 'twitter.com',\n 'www.ag.ch',\n 'www.ai.ch',\n 'www.ar.ch',\n 'www.baselland.ch',\n 'www.be.ch',\n 'www.besondere-lage.sites.be.ch',\n 'www.coronavirus.bs.ch',\n 'www.fr.ch',\n 'www.gd.bs.ch',\n 'www.gesundheit.bs.ch',\n 'www.gesundheit.bs.ch https:',\n 'www.gl.ch',\n 'www.infosan.vd.ch',\n 'www.jura.ch',\n 'www.llv.li',\n 'www.lustat.ch',\n 'www.ne.ch',\n 'www.nw.ch',\n 'www.ow.ch',\n 'www.regierung.li',\n 'www.sg.ch',\n 'www.sz.ch',\n 'www.tg.ch',\n 'www.ur.ch',\n 'www.vd.ch',\n 'www.vs.ch',\n 'www.zg.ch',\n 'www.zh.ch',\n 'www4.ti.ch']"
     },
     "execution_count": 36,
     "metadata": {},
     "output_type": "execute_result"
    }
   ],
   "source": [
    "sorted(covid_data['source'].unique())"
   ]
  },
  {
   "cell_type": "markdown",
   "metadata": {
    "id": "uvDFj1wvdixT"
   },
   "source": [
    "The `.apply` method applies the function passed as an argument to each element."
   ]
  },
  {
   "cell_type": "markdown",
   "metadata": {
    "id": "d0lrMNeznX79"
   },
   "source": [
    "Let's now save the final cleaned dataset:"
   ]
  },
  {
   "cell_type": "code",
   "execution_count": 37,
   "metadata": {
    "id": "B09BiPKeneYY",
    "ExecuteTime": {
     "end_time": "2024-02-22T16:59:35.836100Z",
     "start_time": "2024-02-22T16:59:35.708200Z"
    }
   },
   "outputs": [],
   "source": [
    "covid_data.to_csv('swiss_covid_data_clean.csv')"
   ]
  },
  {
   "cell_type": "markdown",
   "metadata": {
    "id": "kx8EHnlQrdzJ"
   },
   "source": [
    "At this point, we consider the data cleaning process done.\n",
    "\n",
    "ℹ️ **In the next cell, we will download a reference version of the cleaned data that you can use, if you did not manage to implement part of the process so far.**"
   ]
  },
  {
   "cell_type": "code",
   "execution_count": 38,
   "metadata": {
    "id": "qBDb86h2ryxQ",
    "ExecuteTime": {
     "end_time": "2024-02-22T17:00:14.123127Z",
     "start_time": "2024-02-22T17:00:13.938476Z"
    }
   },
   "outputs": [
    {
     "name": "stdout",
     "output_type": "stream",
     "text": [
      "zsh:1: command not found: wget\r\n"
     ]
    }
   ],
   "source": [
    "!wget https://raw.githubusercontent.com/vodezhaw/mldm_hs23/main/resources/lab01_clean_data.csv -O lab01_clean_data.csv"
   ]
  },
  {
   "cell_type": "code",
   "execution_count": null,
   "metadata": {
    "id": "y-FaRxNdr_Aw"
   },
   "outputs": [],
   "source": [
    "# uncomment the next line, if you want to use reference data\n",
    "# covid_data = pd.read_csv('lab01_clean_data.csv')"
   ]
  },
  {
   "cell_type": "markdown",
   "metadata": {
    "id": "y1wRq0xhobMU"
   },
   "source": [
    "## Using the Clean Data"
   ]
  },
  {
   "cell_type": "markdown",
   "metadata": {
    "id": "TK3_zZHVogrY"
   },
   "source": [
    "### **🚨 TASK 2 (3 Points) 🚨**"
   ]
  },
  {
   "cell_type": "markdown",
   "metadata": {
    "id": "QDGMGKaZwQkf"
   },
   "source": [
    "Now that you have a clean dataset, it is time for some data exploration.\n",
    "\n",
    "* think of a question that you could try to answer with the given dataset\n",
    "* use summary statistics and/or visualizations to try to answer your question\n",
    "\n",
    "<mark>On **Moodle**</mark> _upload a <mark>PDF</mark>_ answering the following questions:\n",
    "* What was your initial question or idea?\n",
    "* How did you proceed to arrive at an answer?\n",
    "* What are your results?\n",
    "* Include code-snippets, plots, and similar to support your answer."
   ]
  },
  {
   "cell_type": "markdown",
   "metadata": {
    "id": "anhVyTsKMy3U"
   },
   "source": [
    "Below, we include some code that helps you plot time-dependent variables.\n",
    "Note that **it is _NOT_ mandatory to produce any plots for this assignment**!"
   ]
  },
  {
   "cell_type": "code",
   "execution_count": 40,
   "metadata": {
    "id": "dOie_M-NCuhp",
    "ExecuteTime": {
     "end_time": "2024-02-22T17:07:48.201308Z",
     "start_time": "2024-02-22T17:07:45.896209Z"
    }
   },
   "outputs": [],
   "source": [
    "# You might want to plot things\n",
    "from matplotlib import pyplot as plt"
   ]
  },
  {
   "cell_type": "code",
   "execution_count": 41,
   "metadata": {
    "id": "e3o4I-CEJGnR",
    "ExecuteTime": {
     "end_time": "2024-02-22T17:08:04.917073Z",
     "start_time": "2024-02-22T17:08:04.802445Z"
    }
   },
   "outputs": [],
   "source": [
    "# replace 'date' string by parsed datetime objects\n",
    "# this can help if you want to use matplotlib to create a time plot\n",
    "# you do not have to understand this\n",
    "from datetime import datetime as dt\n",
    "covid_data['date'] = pd.to_datetime(covid_data['date'].apply(lambda t: dt.strptime(t, \"%Y-%m-%d\")))"
   ]
  },
  {
   "cell_type": "code",
   "execution_count": 42,
   "metadata": {
    "id": "hlYFEXr4DNe7",
    "ExecuteTime": {
     "end_time": "2024-02-22T17:08:09.553297Z",
     "start_time": "2024-02-22T17:08:09.322416Z"
    }
   },
   "outputs": [
    {
     "data": {
      "text/plain": "[<matplotlib.lines.Line2D at 0x1430a6e50>]"
     },
     "execution_count": 42,
     "metadata": {},
     "output_type": "execute_result"
    },
    {
     "data": {
      "text/plain": "<Figure size 640x480 with 1 Axes>",
      "image/png": "[encoded data removed]"
     },
     "metadata": {},
     "output_type": "display_data"
    }
   ],
   "source": [
    "# extract dates for Geneva\n",
    "x = covid_data.loc[covid_data['abbreviation_canton_and_fl'] == 'GE', ['date']]\n",
    "# extract the 'ncumul_test' column for Geneva\n",
    "y = covid_data.loc[covid_data['abbreviation_canton_and_fl'] == 'GE', ['ncumul_tested']]\n",
    "\n",
    "# plot\n",
    "plt.plot_date(x, y)"
   ]
  },
  {
   "cell_type": "code",
   "execution_count": 43,
   "metadata": {
    "id": "G0SgLr9iNYox",
    "ExecuteTime": {
     "end_time": "2024-02-22T17:08:21.782827Z",
     "start_time": "2024-02-22T17:08:21.597464Z"
    }
   },
   "outputs": [
    {
     "data": {
      "text/plain": "<matplotlib.collections.PathCollection at 0x1430e4710>"
     },
     "execution_count": 43,
     "metadata": {},
     "output_type": "execute_result"
    },
    {
     "data": {
      "text/plain": "<Figure size 640x480 with 1 Axes>",
      "image/png": "[encoded data removed]"
     },
     "metadata": {},
     "output_type": "display_data"
    }
   ],
   "source": [
    "# Generic scatter-plot that does not include a time variable\n",
    "plt.scatter(covid_data['ncumul_tested'], covid_data['ncumul_deceased'])"
   ]
  },
  {
   "cell_type": "code",
   "outputs": [],
   "source": [],
   "metadata": {
    "collapsed": false
   }
  }
 ],
 "metadata": {
  "colab": {
   "private_outputs": true,
   "provenance": []
  },
  "kernelspec": {
   "display_name": "Python 3 (ipykernel)",
   "language": "python",
   "name": "python3"
  },
  "language_info": {
   "codemirror_mode": {
    "name": "ipython",
    "version": 3
   },
   "file_extension": ".py",
   "mimetype": "text/x-python",
   "name": "python",
   "nbconvert_exporter": "python",
   "pygments_lexer": "ipython3",
   "version": "3.11.7"
  }
 },
 "nbformat": 4,
 "nbformat_minor": 4
}
