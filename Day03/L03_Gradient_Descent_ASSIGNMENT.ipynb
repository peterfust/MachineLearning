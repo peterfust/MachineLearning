{
 "cells": [
  {
   "cell_type": "code",
   "execution_count": 1,
   "metadata": {
    "id": "FZEco2HK6D57",
    "ExecuteTime": {
     "end_time": "2024-03-09T15:16:50.727393Z",
     "start_time": "2024-03-09T15:16:47.330277Z"
    }
   },
   "outputs": [],
   "source": [
    "import numpy as np\n",
    "import pandas as pd\n",
    "from matplotlib import pyplot as plt"
   ]
  },
  {
   "cell_type": "code",
   "execution_count": 2,
   "metadata": {
    "id": "a3nCUqopXHwv",
    "ExecuteTime": {
     "end_time": "2024-03-09T15:16:50.730430Z",
     "start_time": "2024-03-09T15:16:50.728336Z"
    }
   },
   "outputs": [],
   "source": [
    "RANDOM_SEED = 0x0"
   ]
  },
  {
   "cell_type": "markdown",
   "metadata": {
    "id": "jjTkUw7BWulH"
   },
   "source": [
    "# Lab 03: Gradient Descent and Polynomial Regression"
   ]
  },
  {
   "cell_type": "markdown",
   "metadata": {
    "id": "gNnZUk36Xz7_"
   },
   "source": [
    "For the first task, we will work with synthetic univariate data. This is the same data as in the previous Lab.\n",
    "We generate $100$ features $x_i \\in [-1, 1]$ as `x` and a regression target `y1`."
   ]
  },
  {
   "cell_type": "code",
   "execution_count": 3,
   "metadata": {
    "id": "Ojta777H2ulb",
    "ExecuteTime": {
     "end_time": "2024-03-09T15:17:08.329388Z",
     "start_time": "2024-03-09T15:17:08.323605Z"
    }
   },
   "outputs": [],
   "source": [
    "data_rng = np.random.default_rng(RANDOM_SEED)\n",
    "n = 100\n",
    "x = 2 * data_rng.random(n) - 1  # create n points between -1 and 1\n",
    "\n",
    "# setup synthetic linear data\n",
    "true_offset = 0.5\n",
    "true_slope = 1.25\n",
    "noise = data_rng.normal(loc=0., scale=0.25, size=(n,))\n",
    "\n",
    "y1 = true_offset + true_slope * x + noise"
   ]
  },
  {
   "cell_type": "markdown",
   "metadata": {
    "id": "_ww1rAls1AN-"
   },
   "source": [
    "This is what the data looks like:"
   ]
  },
  {
   "cell_type": "code",
   "execution_count": 4,
   "metadata": {
    "id": "MxYMdhfxyYAd",
    "ExecuteTime": {
     "end_time": "2024-03-09T15:17:31.835709Z",
     "start_time": "2024-03-09T15:17:31.733277Z"
    }
   },
   "outputs": [
    {
     "data": {
      "text/plain": "<Figure size 640x480 with 1 Axes>",
      "image/png": "[encoded data removed]"
     },
     "metadata": {},
     "output_type": "display_data"
    }
   ],
   "source": [
    "plt.scatter(x, y1)\n",
    "plt.xlabel(\"x\")\n",
    "plt.ylabel(\"y1\")\n",
    "plt.show()"
   ]
  },
  {
   "cell_type": "code",
   "execution_count": 4,
   "metadata": {
    "id": "xv-GgvWGxfql",
    "ExecuteTime": {
     "end_time": "2024-03-09T15:17:37.971625Z",
     "start_time": "2024-03-09T15:17:37.969522Z"
    }
   },
   "outputs": [],
   "source": []
  },
  {
   "cell_type": "markdown",
   "metadata": {
    "id": "YL31gChVqLpC"
   },
   "source": [
    "### 📢 Task 1A (3 points)📢\n",
    "\n",
    "In class you have seen that, instead of using the closed form solutions, we can also estimate the parameters $\\theta_i$ of the linear regression models by using Gradient Descent.\n",
    "\n",
    "For the univariate linear regression model, the stochastic gradient descent updates (from step t to t+1) look like this:\n",
    "* $\\theta_{0}^{(t+1)} = \\theta_{0}^{(t)} - \\alpha (\\theta_{0}^{(t)} + \\theta_{1}^{(t)} x_t - y_t)$\n",
    "* $\\theta_{1}^{(t+1)} = \\theta_{1}^{(t)} - \\alpha (\\theta_{0}^{(t)} + \\theta_{1}^{(t)} x_t - y_t) x_t$\n",
    "\n",
    "Here $\\alpha$ is the learning rate, and $(x_t, y_t)$ is the data point sampled\n",
    "at time $t$.\n",
    "\n",
    "\n",
    "In the following cell, implement the `.fit` and `.predict` methods:\n",
    "* In the `.predict` method, apply the model to the input `x`.\n",
    "* In the `.fit` method, implement the update equations for\n",
    "$\\theta_0$ and $\\theta_1$."
   ]
  },
  {
   "cell_type": "code",
   "execution_count": 7,
   "metadata": {
    "id": "wJMHvQmXmVKr",
    "ExecuteTime": {
     "end_time": "2024-03-05T10:55:37.033467Z",
     "start_time": "2024-03-05T10:55:37.030036Z"
    }
   },
   "outputs": [],
   "source": [
    "class SGDUnivariateLinearRegression:\n",
    "\n",
    "  def __init__(self):\n",
    "    self.theta_0: float = 0.\n",
    "    self.theta_1: float = 0.\n",
    "    self.rng = np.random.default_rng(RANDOM_SEED)\n",
    "\n",
    "  def predict(self, x):\n",
    "    return self.theta_0 + self.theta_1 * x\n",
    "\n",
    "\n",
    "\n",
    "  def fit(self, x, y, n_iter: int = 100, learning_rate: float = 1.0):\n",
    "    sum_theta0 = 0\n",
    "    sum_theta1 = 0\n",
    "    for t in range(n_iter):\n",
    "      sample_ix = self.rng.integers(0, len(x))\n",
    "\n",
    "      xt = x[sample_ix]\n",
    "      yt = y[sample_ix]\n",
    "\n",
    "      sum_theta0 = sum_theta0 + self.predict(xt) - yt\n",
    "      sum_theta1 = sum_theta1 + ((self.predict(xt) - yt) * xt)\n",
    "      # TODO: update self.theta_0 and self.theta_1 SIMULTANEOUSLY (!!!) according to their update equations\n",
    "\n",
    "    self.theta_0 = self.theta_0 - learning_rate * 1/n_iter * sum_theta0\n",
    "    self.theta_1 = self.theta_1 - learning_rate * 1/n_iter * sum_theta1\n",
    "    return self"
   ]
  },
  {
   "cell_type": "markdown",
   "metadata": {
    "id": "i_zwIMN3INHh"
   },
   "source": [
    "\n"
   ]
  },
  {
   "cell_type": "markdown",
   "metadata": {
    "id": "MHLBmTm4vK9p"
   },
   "source": [
    "### 📢 Task 1B (2 points)📢\n",
    "\n",
    "Run SGD for `x` and the target `y1` and compute the mean squared error (MSE).\n",
    "The MSE is defined as: $\\frac{1}{n}\\sum_{i=1}^{n} (\\hat{y}_i - y_i)^2$, where\n",
    "$\\hat{y}$ are the model predictions.\n",
    "\n",
    "* Create an instance of the class `SGDUnivariateLinearRegression`\n",
    "* fit the model using its `.fit` method\n",
    "* get the predicted values, using `.predict`\n",
    "* implement the `mse` function\n",
    "* compute the MSE of your predictions"
   ]
  },
  {
   "cell_type": "code",
   "execution_count": 8,
   "metadata": {
    "id": "CZ1szyQhK9so",
    "ExecuteTime": {
     "end_time": "2024-03-05T11:05:18.921548Z",
     "start_time": "2024-03-05T11:05:18.918917Z"
    }
   },
   "outputs": [],
   "source": [
    "def mse(y_pred, y_true):\n",
    "  mse_calc = 0\n",
    "  for t in range(len(y_pred)):\n",
    "    mse_calc = mse_calc + pow(y_pred - y_true,2)\n",
    "      \n",
    "  return 1/len(y_pred) * mse_calc"
   ]
  },
  {
   "cell_type": "code",
   "execution_count": 11,
   "metadata": {
    "id": "V35vBU5Yti8Z",
    "ExecuteTime": {
     "end_time": "2024-03-05T11:06:19.238564Z",
     "start_time": "2024-03-05T11:06:19.234802Z"
    }
   },
   "outputs": [
    {
     "data": {
      "text/plain": "<__main__.SGDUnivariateLinearRegression at 0x122fa1b50>"
     },
     "execution_count": 11,
     "metadata": {},
     "output_type": "execute_result"
    }
   ],
   "source": [
    "# TODO: implement fit an predict\n",
    "model = SGDUnivariateLinearRegression()\n",
    "model.fit(x, y1)"
   ]
  },
  {
   "cell_type": "markdown",
   "metadata": {
    "id": "n_j0ybGFIoBE"
   },
   "source": [
    "\n",
    "Report the resulting Mean Squared Error."
   ]
  },
  {
   "cell_type": "markdown",
   "metadata": {
    "id": "60862LLY2ZGf"
   },
   "source": [
    "If you want to plot the resulting model, you can use the following function:"
   ]
  },
  {
   "cell_type": "code",
   "execution_count": null,
   "metadata": {
    "id": "T0eKDuRt1YOF"
   },
   "outputs": [],
   "source": [
    "def plot_model(x, y_pred, y_true, title):\n",
    "  plt.scatter(x, y_true)\n",
    "  plt.plot(x, y_pred, c=\"r\")\n",
    "  plt.xlabel(\"x\")\n",
    "  plt.ylabel(\"y\")\n",
    "  plt.title(title)\n",
    "  plt.show()\n",
    "\n",
    "plot_model(x, y_pred, y1, \"Model of Gradient Descent for y1\")"
   ]
  },
  {
   "cell_type": "markdown",
   "metadata": {
    "id": "hSsE1o6GwA3K"
   },
   "source": [
    "### 📢 Task 1C (4 points) 📢\n",
    "\n",
    "You will now plot the learning curves of gradient descent for different learning rates $\\alpha$.\n",
    "A learning curves shows how a model's performance changes with increasing number of update steps.\n",
    "In our case we will plot the model's MSE as a function of the number of update\n",
    "steps `n_iter` for different values of `learning_rate`.\n"
   ]
  },
  {
   "cell_type": "markdown",
   "metadata": {
    "id": "x6nqOoOpzmMv"
   },
   "source": [
    "For comparison, we first implement the closed form for univariate regression from previous lab:"
   ]
  },
  {
   "cell_type": "code",
   "execution_count": null,
   "metadata": {
    "id": "gjK-QunEzkZF"
   },
   "outputs": [],
   "source": [
    "class UnivariateLinearRegression:\n",
    "\n",
    "  def __init__(self):\n",
    "    self.theta_0: float = 0.\n",
    "    self.theta_1: float = 0.\n",
    "\n",
    "  def predict(self, x):\n",
    "    return self.theta_0 + self.theta_1 * x\n",
    "\n",
    "  def fit(self, x, y):\n",
    "    mean_x = np.mean(x)\n",
    "    mean_y = np.mean(y)\n",
    "\n",
    "    cent_x = x - mean_x\n",
    "    cent_y = y - mean_y\n",
    "\n",
    "    theta_1 = np.sum(cent_x * cent_y) / np.sum(cent_x * cent_x)\n",
    "    theta_0 = mean_y - theta_1 * mean_x\n",
    "\n",
    "    self.theta_1 = theta_1\n",
    "    self.theta_0 = theta_0\n",
    "\n",
    "    return self"
   ]
  },
  {
   "cell_type": "code",
   "execution_count": null,
   "metadata": {
    "id": "M33V17233Ur7"
   },
   "outputs": [],
   "source": [
    "closed_form = UnivariateLinearRegression()\n",
    "y_pred = closed_form.fit(x, y1).predict(x)\n",
    "\n",
    "\n",
    "plot_model(x, y_pred, y1, \"Model of Gradient Descent for y1\")"
   ]
  },
  {
   "cell_type": "markdown",
   "metadata": {
    "id": "j6W3hr76JKvD"
   },
   "source": [
    "\n",
    "In the following cell we setup most of the scaffold to create learning curves. A learning curve contains the MSE for different numbers of iterations, i.e. different number of updates of the parameters in θ.\n",
    "\n",
    "We will draw learning curves for different values of learning rate α (don't get confused with the duplicate usage of \"learning\" here. The first refers to the improvement of MSE over number of iterations, while the second influences how much we change values in θ in each step).\n",
    "\n",
    "Follow the instructions in the comments to finish the plots."
   ]
  },
  {
   "cell_type": "code",
   "execution_count": null,
   "metadata": {
    "id": "4Rr5ix7LNISB"
   },
   "outputs": [],
   "source": [
    "n_iters = [50, 100, 200, 500, 1000, 2000]\n",
    "learning_rates = [1., .1, .01]\n",
    "\n",
    "# we plot the MSE achieved by the closed form model as a reference\n",
    "closed_form = UnivariateLinearRegression()\n",
    "closed_form.fit(x, y1)\n",
    "mse_base = mse(y_pred=closed_form.predict(x), y_true=y1)\n",
    "plt.plot(n_iters, np.ones_like(n_iters) * mse_base, label=\"closed form\", linestyle='--', c='b')\n",
    "\n",
    "for alpha in learning_rates:\n",
    "  mses = []\n",
    "  for n_iter in n_iters:\n",
    "    # fit a SGDUnivariateLinearRegression model using n_iter=n_iter and\n",
    "    # learning_rate=alpha\n",
    "    # compute its mse and append the mse value to the mses list\n",
    "\n",
    "    mse_ = 1.  # replace with mse calculation\n",
    "    mses.append(mse_)\n",
    "  plt.plot(n_iters, mses, label=f\"alpha = {alpha:.2f}\")\n",
    "\n",
    "plt.xlabel(\"n_iter\")\n",
    "plt.ylabel(\"MSE\")\n",
    "plt.legend()\n",
    "plt.show()"
   ]
  },
  {
   "cell_type": "markdown",
   "metadata": {
    "id": "SmCkMMJyEEgV"
   },
   "source": [
    "\n",
    "* The final plot should contain the 3 learning curves\n",
    "* Why do you think the learning curves look the way they do? Can you draw any conclusions?\n",
    "\n"
   ]
  },
  {
   "cell_type": "markdown",
   "metadata": {
    "id": "Ia9s_Q-KXf0T"
   },
   "source": [
    "# TASK 2: Polynomial Regression"
   ]
  },
  {
   "cell_type": "markdown",
   "metadata": {
    "id": "VV0Z3OdeXpha"
   },
   "source": [
    "We now switch to polynomial regression. First, let's create and explore some new synthetic data for this task:"
   ]
  },
  {
   "cell_type": "code",
   "execution_count": null,
   "metadata": {
    "id": "nb5WsezldFla"
   },
   "outputs": [],
   "source": [
    "# set the random seed to an integer, so that everyone has the same data to work with\n",
    "np.random.seed(seed=RANDOM_SEED)\n",
    "# create predictor variable that has a standard normal distribution, and reshape it in order to use it for the model training\n",
    "x = np.random.normal(0, 1, 100).reshape(-1, 1)\n",
    "# create target variable\n",
    "y = 3*x**3 + 2*x**2 + x + np.random.normal(0, 10, 100).reshape(-1, 1)"
   ]
  },
  {
   "cell_type": "markdown",
   "metadata": {
    "id": "E65IxT1Bwpmk"
   },
   "source": [
    "Visualise the data"
   ]
  },
  {
   "cell_type": "code",
   "execution_count": null,
   "metadata": {
    "id": "nCZgTYP3fZe7"
   },
   "outputs": [],
   "source": [
    "plt.scatter(x, y)\n",
    "plt.show()"
   ]
  },
  {
   "cell_type": "markdown",
   "metadata": {
    "id": "Cx8aSpUnJCI7"
   },
   "source": [
    "First, we try to fit a *Linear* Regression model to the data.\n",
    "\n",
    "For this, we first split the data into a train set and a test set (80% train, 20% test data)."
   ]
  },
  {
   "cell_type": "code",
   "execution_count": null,
   "metadata": {
    "id": "ti7myWk7KS8Z"
   },
   "outputs": [],
   "source": [
    "from sklearn.model_selection import train_test_split\n",
    "X_train, X_test, y_train, y_test = train_test_split(x, y, test_size=0.2, random_state=RANDOM_SEED)"
   ]
  },
  {
   "cell_type": "markdown",
   "metadata": {
    "id": "RFSaakYLJuK7"
   },
   "source": [
    "## Task 2A (1 point)\n",
    "1. Apply Linear Regression on the data and predict y values for training set as well for the test set."
   ]
  },
  {
   "cell_type": "code",
   "execution_count": null,
   "metadata": {
    "id": "Ez6t4Q4P82Qo"
   },
   "outputs": [],
   "source": [
    "from sklearn.linear_model import LinearRegression\n",
    "# TODO"
   ]
  },
  {
   "cell_type": "markdown",
   "metadata": {
    "id": "P1k6VBGk8yI6"
   },
   "source": [
    "2. Calculate MSE for training as well as for test data."
   ]
  },
  {
   "cell_type": "code",
   "execution_count": null,
   "metadata": {
    "id": "qJGjXK8aKD8q"
   },
   "outputs": [],
   "source": [
    "\n",
    "from sklearn.metrics import mean_squared_error\n",
    "\n",
    "# TODO\n",
    "\n",
    "print(f\"MSE of training data: {mse_train}\")\n",
    "print(f\"MSE of test data: {mse_test}\")"
   ]
  },
  {
   "cell_type": "markdown",
   "metadata": {
    "id": "T0VOmhngKEQL"
   },
   "source": [
    "3. Visualize the model. Plot all the data points als well as the regression model when applied to the training set and to the test set (in plt.scatter, you can set the color of points e.g. to red using \" color='r' \")."
   ]
  },
  {
   "cell_type": "code",
   "execution_count": null,
   "metadata": {
    "id": "yLwMEWirLLBA"
   },
   "outputs": [],
   "source": [
    "# TODO - include scatter plot"
   ]
  },
  {
   "cell_type": "markdown",
   "metadata": {
    "id": "tC6BqZC5Pcja"
   },
   "source": []
  },
  {
   "cell_type": "markdown",
   "metadata": {
    "id": "zwsmpB3oMJZf"
   },
   "source": [
    "## Task 2B (2 points)\n",
    "\n",
    "You will now investigate how well polynomial regression with a polynomial of degree 2 can solve the task.\n",
    "\n",
    "\n"
   ]
  },
  {
   "cell_type": "markdown",
   "metadata": {
    "id": "Mqj9E-PQErR-"
   },
   "source": [
    "Recall that for polynomial regression, we introduce artificial variables $z_i$ and a new hypothesis $h(z) = \\theta_0 z_0 + \\theta_1 z_1 + \\theta_2 z_2 + \\theta_3 z_3 ...$, where each $z_i$ is a polynomial in $x$. One of the simplest hypothesis is quadratic, where we have $h(z) = \\theta_0 z_0 + \\theta_1 z_1 + \\theta_2 z_2$ with $z_0 = 1, z_1 = x$ and $z_2 = x^2$.\n",
    "\n",
    "In the following cell, implement polynomial regression with the quadratic hypothesis above, and plot the result."
   ]
  },
  {
   "cell_type": "code",
   "execution_count": null,
   "metadata": {
    "id": "dBRl5Yu5F5Cr"
   },
   "outputs": [],
   "source": [
    "# TODO"
   ]
  },
  {
   "cell_type": "markdown",
   "metadata": {
    "id": "GF5b2e6aJmfl"
   },
   "source": [
    "Plot the result\n"
   ]
  },
  {
   "cell_type": "code",
   "execution_count": null,
   "metadata": {
    "id": "9aZe6xHFJphT"
   },
   "outputs": [],
   "source": [
    "# TODO"
   ]
  },
  {
   "cell_type": "markdown",
   "metadata": {
    "id": "zZjSeX5EE6Oh"
   },
   "source": [
    "Instead of implementing the polynomial transformation by hand, we can use [PolynomialFeatures.fit_transform](https://scikit-learn.org/stable/modules/preprocessing.html#polynomial-features) from sklearn, which generates the new features automatically.\n",
    "\n",
    "1. Transform the data accordingly to describe polynomial distribution of degree=2\n",
    "2. Train a Linear Regression model on polynomial data\n",
    "3. Make predictions for training data\n",
    "4. Make predictions for test data\n",
    "5. Calculate MSE for training as well as test data"
   ]
  },
  {
   "cell_type": "code",
   "execution_count": null,
   "metadata": {
    "id": "oxni0o041MYH"
   },
   "outputs": [],
   "source": [
    "from sklearn.preprocessing import PolynomialFeatures\n",
    "\n",
    "# TODO\n",
    "\n",
    "print(f\"MSE of training data: {mse_train_poly}\")\n",
    "print(f\"MSE of test data: {mse_test_poly}\")"
   ]
  },
  {
   "cell_type": "markdown",
   "metadata": {
    "id": "nhbIv-toOFoV"
   },
   "source": [
    "Did it perform better than Linear Regression? Visualize the results."
   ]
  },
  {
   "cell_type": "code",
   "execution_count": null,
   "metadata": {
    "id": "yFNrIwDuOUXo"
   },
   "outputs": [],
   "source": [
    "# TODO -   your scatter plot goes here"
   ]
  },
  {
   "cell_type": "markdown",
   "metadata": {
    "id": "2sYVU9lQPxXD"
   },
   "source": [
    "\n"
   ]
  },
  {
   "cell_type": "markdown",
   "metadata": {
    "id": "lR_v9mTWOVNj"
   },
   "source": [
    "## Task 2C (4 point)\n",
    "Finally, we investigate the influence of the polynomial degree on the results. Consider degrees in range(0, 11). Plot MSE (on training as well as test data) depending on the polynomial degree."
   ]
  },
  {
   "cell_type": "code",
   "execution_count": null,
   "metadata": {
    "id": "4YFTQqWZO_Jx"
   },
   "outputs": [],
   "source": [
    "# TODO"
   ]
  },
  {
   "cell_type": "markdown",
   "metadata": {
    "id": "Y6QpfImYEI1l"
   },
   "source": [
    "\n",
    "\n",
    "* Plot the MSE for training and test data\n",
    "\n",
    "* Answer the following three questions:\n",
    "1. What is the optimal value of the polynomial degrees?\n",
    "2. Do the values of MSE training and MSE test behave similarly?\n",
    "3. What happens in the models with polynomial degrees >= 8?\n"
   ]
  },
  {
   "cell_type": "code",
   "execution_count": null,
   "metadata": {
    "id": "0BJrUzpkQc94"
   },
   "outputs": [],
   "source": []
  }
 ],
 "metadata": {
  "colab": {
   "private_outputs": true,
   "provenance": []
  },
  "kernelspec": {
   "display_name": "Python 3 (ipykernel)",
   "language": "python",
   "name": "python3"
  },
  "language_info": {
   "codemirror_mode": {
    "name": "ipython",
    "version": 3
   },
   "file_extension": ".py",
   "mimetype": "text/x-python",
   "name": "python",
   "nbconvert_exporter": "python",
   "pygments_lexer": "ipython3",
   "version": "3.10.9"
  }
 },
 "nbformat": 4,
 "nbformat_minor": 1
}
